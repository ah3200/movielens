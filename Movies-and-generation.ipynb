{
 "cells": [
  {
   "cell_type": "markdown",
   "metadata": {},
   "source": [
    "# Movielens dataset\n",
    "\n",
    "## Data Exploration and Movie Recommendation using Collaborative Filtering and Stochastic Gradient Descent"
   ]
  },
  {
   "cell_type": "markdown",
   "metadata": {
    "collapsed": true
   },
   "source": [
    "### How movies evolve over time?"
   ]
  },
  {
   "cell_type": "code",
   "execution_count": 164,
   "metadata": {
    "collapsed": true
   },
   "outputs": [],
   "source": [
    "import pandas as pd\n",
    "import numpy as np"
   ]
  },
  {
   "cell_type": "code",
   "execution_count": 165,
   "metadata": {
    "collapsed": false
   },
   "outputs": [],
   "source": [
    "movies = pd.read_csv('./movielens-20m-dataset/movie.csv')\n",
    "#rating = pd.read_csv('./movielens-20m-dataset/rating.csv')\n",
    "#tag = pd.read_csv('./movielens-20m-dataset/tag.csv')"
   ]
  },
  {
   "cell_type": "code",
   "execution_count": 166,
   "metadata": {
    "collapsed": false
   },
   "outputs": [
    {
     "data": {
      "text/html": [
       "<div>\n",
       "<table border=\"1\" class=\"dataframe\">\n",
       "  <thead>\n",
       "    <tr style=\"text-align: right;\">\n",
       "      <th></th>\n",
       "      <th>movieId</th>\n",
       "      <th>title</th>\n",
       "      <th>genres</th>\n",
       "    </tr>\n",
       "  </thead>\n",
       "  <tbody>\n",
       "    <tr>\n",
       "      <th>0</th>\n",
       "      <td>1</td>\n",
       "      <td>Toy Story (1995)</td>\n",
       "      <td>Adventure|Animation|Children|Comedy|Fantasy</td>\n",
       "    </tr>\n",
       "    <tr>\n",
       "      <th>1</th>\n",
       "      <td>2</td>\n",
       "      <td>Jumanji (1995)</td>\n",
       "      <td>Adventure|Children|Fantasy</td>\n",
       "    </tr>\n",
       "    <tr>\n",
       "      <th>2</th>\n",
       "      <td>3</td>\n",
       "      <td>Grumpier Old Men (1995)</td>\n",
       "      <td>Comedy|Romance</td>\n",
       "    </tr>\n",
       "    <tr>\n",
       "      <th>3</th>\n",
       "      <td>4</td>\n",
       "      <td>Waiting to Exhale (1995)</td>\n",
       "      <td>Comedy|Drama|Romance</td>\n",
       "    </tr>\n",
       "    <tr>\n",
       "      <th>4</th>\n",
       "      <td>5</td>\n",
       "      <td>Father of the Bride Part II (1995)</td>\n",
       "      <td>Comedy</td>\n",
       "    </tr>\n",
       "  </tbody>\n",
       "</table>\n",
       "</div>"
      ],
      "text/plain": [
       "   movieId                               title  \\\n",
       "0        1                    Toy Story (1995)   \n",
       "1        2                      Jumanji (1995)   \n",
       "2        3             Grumpier Old Men (1995)   \n",
       "3        4            Waiting to Exhale (1995)   \n",
       "4        5  Father of the Bride Part II (1995)   \n",
       "\n",
       "                                        genres  \n",
       "0  Adventure|Animation|Children|Comedy|Fantasy  \n",
       "1                   Adventure|Children|Fantasy  \n",
       "2                               Comedy|Romance  \n",
       "3                         Comedy|Drama|Romance  \n",
       "4                                       Comedy  "
      ]
     },
     "execution_count": 166,
     "metadata": {},
     "output_type": "execute_result"
    }
   ],
   "source": [
    "movies.head()"
   ]
  },
  {
   "cell_type": "markdown",
   "metadata": {},
   "source": [
    "### Extract Title and Year\n",
    "\n",
    "The 'title' columns consists of movie title following by year of release in the blanket, we will use regular expression to extract year information from this field"
   ]
  },
  {
   "cell_type": "code",
   "execution_count": 167,
   "metadata": {
    "collapsed": true
   },
   "outputs": [],
   "source": [
    "import re\n",
    "movies['title_format'] = movies['title'].apply(lambda x: re.search('\\(\\d+\\)',x))"
   ]
  },
  {
   "cell_type": "code",
   "execution_count": 168,
   "metadata": {
    "collapsed": false
   },
   "outputs": [
    {
     "data": {
      "text/html": [
       "<div>\n",
       "<table border=\"1\" class=\"dataframe\">\n",
       "  <thead>\n",
       "    <tr style=\"text-align: right;\">\n",
       "      <th></th>\n",
       "      <th>movieId</th>\n",
       "      <th>title</th>\n",
       "      <th>genres</th>\n",
       "      <th>title_format</th>\n",
       "    </tr>\n",
       "  </thead>\n",
       "  <tbody>\n",
       "    <tr>\n",
       "      <th>0</th>\n",
       "      <td>1</td>\n",
       "      <td>Toy Story (1995)</td>\n",
       "      <td>Adventure|Animation|Children|Comedy|Fantasy</td>\n",
       "      <td>&lt;_sre.SRE_Match object at 0x10d2c5e68&gt;</td>\n",
       "    </tr>\n",
       "    <tr>\n",
       "      <th>1</th>\n",
       "      <td>2</td>\n",
       "      <td>Jumanji (1995)</td>\n",
       "      <td>Adventure|Children|Fantasy</td>\n",
       "      <td>&lt;_sre.SRE_Match object at 0x10d2c5ed0&gt;</td>\n",
       "    </tr>\n",
       "    <tr>\n",
       "      <th>2</th>\n",
       "      <td>3</td>\n",
       "      <td>Grumpier Old Men (1995)</td>\n",
       "      <td>Comedy|Romance</td>\n",
       "      <td>&lt;_sre.SRE_Match object at 0x10d2c5f38&gt;</td>\n",
       "    </tr>\n",
       "    <tr>\n",
       "      <th>3</th>\n",
       "      <td>4</td>\n",
       "      <td>Waiting to Exhale (1995)</td>\n",
       "      <td>Comedy|Drama|Romance</td>\n",
       "      <td>&lt;_sre.SRE_Match object at 0x10c3ee030&gt;</td>\n",
       "    </tr>\n",
       "    <tr>\n",
       "      <th>4</th>\n",
       "      <td>5</td>\n",
       "      <td>Father of the Bride Part II (1995)</td>\n",
       "      <td>Comedy</td>\n",
       "      <td>&lt;_sre.SRE_Match object at 0x10c3ee098&gt;</td>\n",
       "    </tr>\n",
       "  </tbody>\n",
       "</table>\n",
       "</div>"
      ],
      "text/plain": [
       "   movieId                               title  \\\n",
       "0        1                    Toy Story (1995)   \n",
       "1        2                      Jumanji (1995)   \n",
       "2        3             Grumpier Old Men (1995)   \n",
       "3        4            Waiting to Exhale (1995)   \n",
       "4        5  Father of the Bride Part II (1995)   \n",
       "\n",
       "                                        genres  \\\n",
       "0  Adventure|Animation|Children|Comedy|Fantasy   \n",
       "1                   Adventure|Children|Fantasy   \n",
       "2                               Comedy|Romance   \n",
       "3                         Comedy|Drama|Romance   \n",
       "4                                       Comedy   \n",
       "\n",
       "                             title_format  \n",
       "0  <_sre.SRE_Match object at 0x10d2c5e68>  \n",
       "1  <_sre.SRE_Match object at 0x10d2c5ed0>  \n",
       "2  <_sre.SRE_Match object at 0x10d2c5f38>  \n",
       "3  <_sre.SRE_Match object at 0x10c3ee030>  \n",
       "4  <_sre.SRE_Match object at 0x10c3ee098>  "
      ]
     },
     "execution_count": 168,
     "metadata": {},
     "output_type": "execute_result"
    }
   ],
   "source": [
    "movies.head()"
   ]
  },
  {
   "cell_type": "markdown",
   "metadata": {},
   "source": [
    "However, regular expression does not find this format in some rows"
   ]
  },
  {
   "cell_type": "code",
   "execution_count": 169,
   "metadata": {
    "collapsed": false
   },
   "outputs": [
    {
     "data": {
      "text/html": [
       "<div>\n",
       "<table border=\"1\" class=\"dataframe\">\n",
       "  <thead>\n",
       "    <tr style=\"text-align: right;\">\n",
       "      <th></th>\n",
       "      <th>movieId</th>\n",
       "      <th>title</th>\n",
       "      <th>genres</th>\n",
       "      <th>title_format</th>\n",
       "    </tr>\n",
       "  </thead>\n",
       "  <tbody>\n",
       "    <tr>\n",
       "      <th>10593</th>\n",
       "      <td>40697</td>\n",
       "      <td>Babylon 5</td>\n",
       "      <td>Sci-Fi</td>\n",
       "      <td>None</td>\n",
       "    </tr>\n",
       "    <tr>\n",
       "      <th>15646</th>\n",
       "      <td>79607</td>\n",
       "      <td>Millions Game, The (Das Millionenspiel)</td>\n",
       "      <td>Action|Drama|Sci-Fi|Thriller</td>\n",
       "      <td>None</td>\n",
       "    </tr>\n",
       "    <tr>\n",
       "      <th>17341</th>\n",
       "      <td>87442</td>\n",
       "      <td>Bicycle, Spoon, Apple (Bicicleta, cullera, poma)</td>\n",
       "      <td>Documentary</td>\n",
       "      <td>None</td>\n",
       "    </tr>\n",
       "    <tr>\n",
       "      <th>22368</th>\n",
       "      <td>107434</td>\n",
       "      <td>Diplomatic Immunity (2009– )</td>\n",
       "      <td>Comedy</td>\n",
       "      <td>None</td>\n",
       "    </tr>\n",
       "    <tr>\n",
       "      <th>22669</th>\n",
       "      <td>108548</td>\n",
       "      <td>Big Bang Theory, The (2007-)</td>\n",
       "      <td>Comedy</td>\n",
       "      <td>None</td>\n",
       "    </tr>\n",
       "    <tr>\n",
       "      <th>22679</th>\n",
       "      <td>108583</td>\n",
       "      <td>Fawlty Towers (1975-1979)</td>\n",
       "      <td>Comedy</td>\n",
       "      <td>None</td>\n",
       "    </tr>\n",
       "    <tr>\n",
       "      <th>23617</th>\n",
       "      <td>112406</td>\n",
       "      <td>Brazil: In the Shadow of the Stadiums</td>\n",
       "      <td>Documentary</td>\n",
       "      <td>None</td>\n",
       "    </tr>\n",
       "    <tr>\n",
       "      <th>23824</th>\n",
       "      <td>113190</td>\n",
       "      <td>Slaying the Badger</td>\n",
       "      <td>Documentary</td>\n",
       "      <td>None</td>\n",
       "    </tr>\n",
       "    <tr>\n",
       "      <th>24286</th>\n",
       "      <td>115133</td>\n",
       "      <td>Tatort: Im Schmerz geboren</td>\n",
       "      <td>Crime</td>\n",
       "      <td>None</td>\n",
       "    </tr>\n",
       "    <tr>\n",
       "      <th>24412</th>\n",
       "      <td>115685</td>\n",
       "      <td>National Theatre Live: Frankenstein</td>\n",
       "      <td>Drama|Fantasy</td>\n",
       "      <td>None</td>\n",
       "    </tr>\n",
       "    <tr>\n",
       "      <th>26115</th>\n",
       "      <td>125571</td>\n",
       "      <td>The Court-Martial of Jackie Robinson</td>\n",
       "      <td>(no genres listed)</td>\n",
       "      <td>None</td>\n",
       "    </tr>\n",
       "    <tr>\n",
       "      <th>26127</th>\n",
       "      <td>125632</td>\n",
       "      <td>In Our Garden</td>\n",
       "      <td>(no genres listed)</td>\n",
       "      <td>None</td>\n",
       "    </tr>\n",
       "    <tr>\n",
       "      <th>26180</th>\n",
       "      <td>125958</td>\n",
       "      <td>Stephen Fry In America - New World</td>\n",
       "      <td>(no genres listed)</td>\n",
       "      <td>None</td>\n",
       "    </tr>\n",
       "    <tr>\n",
       "      <th>26335</th>\n",
       "      <td>126438</td>\n",
       "      <td>Two: The Story of Roman &amp; Nyro</td>\n",
       "      <td>Documentary|Drama</td>\n",
       "      <td>None</td>\n",
       "    </tr>\n",
       "    <tr>\n",
       "      <th>26395</th>\n",
       "      <td>126929</td>\n",
       "      <td>Li'l Quinquin</td>\n",
       "      <td>(no genres listed)</td>\n",
       "      <td>None</td>\n",
       "    </tr>\n",
       "    <tr>\n",
       "      <th>26432</th>\n",
       "      <td>127005</td>\n",
       "      <td>A Year Along the Abandoned Road</td>\n",
       "      <td>(no genres listed)</td>\n",
       "      <td>None</td>\n",
       "    </tr>\n",
       "    <tr>\n",
       "      <th>26749</th>\n",
       "      <td>128612</td>\n",
       "      <td>Body/Cialo</td>\n",
       "      <td>Comedy|Drama|Mystery</td>\n",
       "      <td>None</td>\n",
       "    </tr>\n",
       "    <tr>\n",
       "      <th>26784</th>\n",
       "      <td>128734</td>\n",
       "      <td>Polskie gówno</td>\n",
       "      <td>Comedy|Musical</td>\n",
       "      <td>None</td>\n",
       "    </tr>\n",
       "    <tr>\n",
       "      <th>26963</th>\n",
       "      <td>129651</td>\n",
       "      <td>The Third Reich: The Rise &amp; Fall</td>\n",
       "      <td>(no genres listed)</td>\n",
       "      <td>None</td>\n",
       "    </tr>\n",
       "    <tr>\n",
       "      <th>26974</th>\n",
       "      <td>129705</td>\n",
       "      <td>My Own Man</td>\n",
       "      <td>(no genres listed)</td>\n",
       "      <td>None</td>\n",
       "    </tr>\n",
       "    <tr>\n",
       "      <th>27027</th>\n",
       "      <td>129887</td>\n",
       "      <td>Moving Alan</td>\n",
       "      <td>(no genres listed)</td>\n",
       "      <td>None</td>\n",
       "    </tr>\n",
       "    <tr>\n",
       "      <th>27114</th>\n",
       "      <td>130454</td>\n",
       "      <td>Michael Laudrup - en Fodboldspiller</td>\n",
       "      <td>(no genres listed)</td>\n",
       "      <td>None</td>\n",
       "    </tr>\n",
       "  </tbody>\n",
       "</table>\n",
       "</div>"
      ],
      "text/plain": [
       "       movieId                                             title  \\\n",
       "10593    40697                                         Babylon 5   \n",
       "15646    79607           Millions Game, The (Das Millionenspiel)   \n",
       "17341    87442  Bicycle, Spoon, Apple (Bicicleta, cullera, poma)   \n",
       "22368   107434                      Diplomatic Immunity (2009– )   \n",
       "22669   108548                      Big Bang Theory, The (2007-)   \n",
       "22679   108583                         Fawlty Towers (1975-1979)   \n",
       "23617   112406             Brazil: In the Shadow of the Stadiums   \n",
       "23824   113190                                Slaying the Badger   \n",
       "24286   115133                        Tatort: Im Schmerz geboren   \n",
       "24412   115685               National Theatre Live: Frankenstein   \n",
       "26115   125571              The Court-Martial of Jackie Robinson   \n",
       "26127   125632                                     In Our Garden   \n",
       "26180   125958                Stephen Fry In America - New World   \n",
       "26335   126438                    Two: The Story of Roman & Nyro   \n",
       "26395   126929                                     Li'l Quinquin   \n",
       "26432   127005                   A Year Along the Abandoned Road   \n",
       "26749   128612                                        Body/Cialo   \n",
       "26784   128734                                     Polskie gówno   \n",
       "26963   129651                  The Third Reich: The Rise & Fall   \n",
       "26974   129705                                        My Own Man   \n",
       "27027   129887                                       Moving Alan   \n",
       "27114   130454               Michael Laudrup - en Fodboldspiller   \n",
       "\n",
       "                             genres title_format  \n",
       "10593                        Sci-Fi         None  \n",
       "15646  Action|Drama|Sci-Fi|Thriller         None  \n",
       "17341                   Documentary         None  \n",
       "22368                        Comedy         None  \n",
       "22669                        Comedy         None  \n",
       "22679                        Comedy         None  \n",
       "23617                   Documentary         None  \n",
       "23824                   Documentary         None  \n",
       "24286                         Crime         None  \n",
       "24412                 Drama|Fantasy         None  \n",
       "26115            (no genres listed)         None  \n",
       "26127            (no genres listed)         None  \n",
       "26180            (no genres listed)         None  \n",
       "26335             Documentary|Drama         None  \n",
       "26395            (no genres listed)         None  \n",
       "26432            (no genres listed)         None  \n",
       "26749          Comedy|Drama|Mystery         None  \n",
       "26784                Comedy|Musical         None  \n",
       "26963            (no genres listed)         None  \n",
       "26974            (no genres listed)         None  \n",
       "27027            (no genres listed)         None  \n",
       "27114            (no genres listed)         None  "
      ]
     },
     "execution_count": 169,
     "metadata": {},
     "output_type": "execute_result"
    }
   ],
   "source": [
    "movies[movies['title_format'].isnull()]"
   ]
  },
  {
   "cell_type": "markdown",
   "metadata": {},
   "source": [
    "Remove from list movies with no release year"
   ]
  },
  {
   "cell_type": "code",
   "execution_count": 170,
   "metadata": {
    "collapsed": true
   },
   "outputs": [],
   "source": [
    "# Remove from list movies with no release year\n",
    "movies = movies[movies['title_format'].isnull()==False]"
   ]
  },
  {
   "cell_type": "code",
   "execution_count": 171,
   "metadata": {
    "collapsed": false
   },
   "outputs": [
    {
     "data": {
      "text/plain": [
       "(27256, 4)"
      ]
     },
     "execution_count": 171,
     "metadata": {},
     "output_type": "execute_result"
    }
   ],
   "source": [
    "movies.shape"
   ]
  },
  {
   "cell_type": "markdown",
   "metadata": {},
   "source": [
    "Using regular expression, extract movies' title names and released year"
   ]
  },
  {
   "cell_type": "code",
   "execution_count": 172,
   "metadata": {
    "collapsed": false
   },
   "outputs": [],
   "source": [
    "movies['title_name'] = movies['title'].apply(lambda x: x[:re.search('\\(\\d+\\)',x).start()])\n",
    "movies['year'] = movies['title'].apply(lambda x: re.search('\\(\\d+\\)',x).group(0))\n",
    "movies['released_year'] = movies['year'].apply(lambda x: re.search('\\d+',x).group())"
   ]
  },
  {
   "cell_type": "code",
   "execution_count": 173,
   "metadata": {
    "collapsed": false
   },
   "outputs": [
    {
     "data": {
      "text/html": [
       "<div>\n",
       "<table border=\"1\" class=\"dataframe\">\n",
       "  <thead>\n",
       "    <tr style=\"text-align: right;\">\n",
       "      <th></th>\n",
       "      <th>movieId</th>\n",
       "      <th>title</th>\n",
       "      <th>genres</th>\n",
       "      <th>title_format</th>\n",
       "      <th>title_name</th>\n",
       "      <th>year</th>\n",
       "      <th>released_year</th>\n",
       "    </tr>\n",
       "  </thead>\n",
       "  <tbody>\n",
       "    <tr>\n",
       "      <th>0</th>\n",
       "      <td>1</td>\n",
       "      <td>Toy Story (1995)</td>\n",
       "      <td>Adventure|Animation|Children|Comedy|Fantasy</td>\n",
       "      <td>&lt;_sre.SRE_Match object at 0x10d2c5e68&gt;</td>\n",
       "      <td>Toy Story</td>\n",
       "      <td>(1995)</td>\n",
       "      <td>1995</td>\n",
       "    </tr>\n",
       "    <tr>\n",
       "      <th>1</th>\n",
       "      <td>2</td>\n",
       "      <td>Jumanji (1995)</td>\n",
       "      <td>Adventure|Children|Fantasy</td>\n",
       "      <td>&lt;_sre.SRE_Match object at 0x10d2c5ed0&gt;</td>\n",
       "      <td>Jumanji</td>\n",
       "      <td>(1995)</td>\n",
       "      <td>1995</td>\n",
       "    </tr>\n",
       "    <tr>\n",
       "      <th>2</th>\n",
       "      <td>3</td>\n",
       "      <td>Grumpier Old Men (1995)</td>\n",
       "      <td>Comedy|Romance</td>\n",
       "      <td>&lt;_sre.SRE_Match object at 0x10d2c5f38&gt;</td>\n",
       "      <td>Grumpier Old Men</td>\n",
       "      <td>(1995)</td>\n",
       "      <td>1995</td>\n",
       "    </tr>\n",
       "    <tr>\n",
       "      <th>3</th>\n",
       "      <td>4</td>\n",
       "      <td>Waiting to Exhale (1995)</td>\n",
       "      <td>Comedy|Drama|Romance</td>\n",
       "      <td>&lt;_sre.SRE_Match object at 0x10c3ee030&gt;</td>\n",
       "      <td>Waiting to Exhale</td>\n",
       "      <td>(1995)</td>\n",
       "      <td>1995</td>\n",
       "    </tr>\n",
       "    <tr>\n",
       "      <th>4</th>\n",
       "      <td>5</td>\n",
       "      <td>Father of the Bride Part II (1995)</td>\n",
       "      <td>Comedy</td>\n",
       "      <td>&lt;_sre.SRE_Match object at 0x10c3ee098&gt;</td>\n",
       "      <td>Father of the Bride Part II</td>\n",
       "      <td>(1995)</td>\n",
       "      <td>1995</td>\n",
       "    </tr>\n",
       "  </tbody>\n",
       "</table>\n",
       "</div>"
      ],
      "text/plain": [
       "   movieId                               title  \\\n",
       "0        1                    Toy Story (1995)   \n",
       "1        2                      Jumanji (1995)   \n",
       "2        3             Grumpier Old Men (1995)   \n",
       "3        4            Waiting to Exhale (1995)   \n",
       "4        5  Father of the Bride Part II (1995)   \n",
       "\n",
       "                                        genres  \\\n",
       "0  Adventure|Animation|Children|Comedy|Fantasy   \n",
       "1                   Adventure|Children|Fantasy   \n",
       "2                               Comedy|Romance   \n",
       "3                         Comedy|Drama|Romance   \n",
       "4                                       Comedy   \n",
       "\n",
       "                             title_format                    title_name  \\\n",
       "0  <_sre.SRE_Match object at 0x10d2c5e68>                    Toy Story    \n",
       "1  <_sre.SRE_Match object at 0x10d2c5ed0>                      Jumanji    \n",
       "2  <_sre.SRE_Match object at 0x10d2c5f38>             Grumpier Old Men    \n",
       "3  <_sre.SRE_Match object at 0x10c3ee030>            Waiting to Exhale    \n",
       "4  <_sre.SRE_Match object at 0x10c3ee098>  Father of the Bride Part II    \n",
       "\n",
       "     year released_year  \n",
       "0  (1995)          1995  \n",
       "1  (1995)          1995  \n",
       "2  (1995)          1995  \n",
       "3  (1995)          1995  \n",
       "4  (1995)          1995  "
      ]
     },
     "execution_count": 173,
     "metadata": {},
     "output_type": "execute_result"
    }
   ],
   "source": [
    "movies.head()"
   ]
  },
  {
   "cell_type": "markdown",
   "metadata": {
    "collapsed": true
   },
   "source": [
    "### Explore movies by the year of release"
   ]
  },
  {
   "cell_type": "code",
   "execution_count": 174,
   "metadata": {
    "collapsed": true
   },
   "outputs": [],
   "source": [
    "movies_by_year = movies['released_year'].value_counts().reset_index()\n",
    "movies_by_year.columns = ['released_year','number_of_movies']\n",
    "movies_by_year = movies_by_year.sort_values(by='released_year')"
   ]
  },
  {
   "cell_type": "code",
   "execution_count": 175,
   "metadata": {
    "collapsed": false
   },
   "outputs": [
    {
     "data": {
      "text/html": [
       "<div>\n",
       "<table border=\"1\" class=\"dataframe\">\n",
       "  <thead>\n",
       "    <tr style=\"text-align: right;\">\n",
       "      <th></th>\n",
       "      <th>released_year</th>\n",
       "      <th>number_of_movies</th>\n",
       "    </tr>\n",
       "  </thead>\n",
       "  <tbody>\n",
       "    <tr>\n",
       "      <th>112</th>\n",
       "      <td>06</td>\n",
       "      <td>1</td>\n",
       "    </tr>\n",
       "    <tr>\n",
       "      <th>111</th>\n",
       "      <td>1891</td>\n",
       "      <td>1</td>\n",
       "    </tr>\n",
       "    <tr>\n",
       "      <th>120</th>\n",
       "      <td>1893</td>\n",
       "      <td>1</td>\n",
       "    </tr>\n",
       "    <tr>\n",
       "      <th>107</th>\n",
       "      <td>1894</td>\n",
       "      <td>2</td>\n",
       "    </tr>\n",
       "    <tr>\n",
       "      <th>108</th>\n",
       "      <td>1895</td>\n",
       "      <td>2</td>\n",
       "    </tr>\n",
       "  </tbody>\n",
       "</table>\n",
       "</div>"
      ],
      "text/plain": [
       "    released_year  number_of_movies\n",
       "112            06                 1\n",
       "111          1891                 1\n",
       "120          1893                 1\n",
       "107          1894                 2\n",
       "108          1895                 2"
      ]
     },
     "execution_count": 175,
     "metadata": {},
     "output_type": "execute_result"
    }
   ],
   "source": [
    "movies_by_year.head()"
   ]
  },
  {
   "cell_type": "markdown",
   "metadata": {},
   "source": [
    "Remove year with uncommon value (i.e. 06, 500, 69) from the dataframe"
   ]
  },
  {
   "cell_type": "code",
   "execution_count": 176,
   "metadata": {
    "collapsed": false
   },
   "outputs": [
    {
     "data": {
      "text/plain": [
       "((27256, 7), (121, 2))"
      ]
     },
     "execution_count": 176,
     "metadata": {},
     "output_type": "execute_result"
    }
   ],
   "source": [
    "movies.shape, movies_by_year.shape"
   ]
  },
  {
   "cell_type": "code",
   "execution_count": 177,
   "metadata": {
    "collapsed": false
   },
   "outputs": [],
   "source": [
    "movies = movies[movies.released_year.isin(['06','500','69'])==False]\n",
    "movies_by_year = movies_by_year[movies_by_year.isin(['06','500','69'])==False]"
   ]
  },
  {
   "cell_type": "code",
   "execution_count": 178,
   "metadata": {
    "collapsed": false
   },
   "outputs": [
    {
     "data": {
      "text/plain": [
       "((27253, 7), (121, 2))"
      ]
     },
     "execution_count": 178,
     "metadata": {},
     "output_type": "execute_result"
    }
   ],
   "source": [
    "movies.shape, movies_by_year.shape"
   ]
  },
  {
   "cell_type": "markdown",
   "metadata": {},
   "source": [
    "Plot number of movies by released year"
   ]
  },
  {
   "cell_type": "code",
   "execution_count": 179,
   "metadata": {
    "collapsed": true
   },
   "outputs": [],
   "source": [
    "import matplotlib.pyplot as plt\n",
    "%matplotlib inline\n",
    "import seaborn as sns"
   ]
  },
  {
   "cell_type": "code",
   "execution_count": 180,
   "metadata": {
    "collapsed": false
   },
   "outputs": [
    {
     "data": {
      "text/plain": [
       "(array([  0,   1,   2,   3,   4,   5,   6,   7,   8,   9,  10,  11,  12,\n",
       "         13,  14,  15,  16,  17,  18,  19,  20,  21,  22,  23,  24,  25,\n",
       "         26,  27,  28,  29,  30,  31,  32,  33,  34,  35,  36,  37,  38,\n",
       "         39,  40,  41,  42,  43,  44,  45,  46,  47,  48,  49,  50,  51,\n",
       "         52,  53,  54,  55,  56,  57,  58,  59,  60,  61,  62,  63,  64,\n",
       "         65,  66,  67,  68,  69,  70,  71,  72,  73,  74,  75,  76,  77,\n",
       "         78,  79,  80,  81,  82,  83,  84,  85,  86,  87,  88,  89,  90,\n",
       "         91,  92,  93,  94,  95,  96,  97,  98,  99, 100, 101, 102, 103,\n",
       "        104, 105, 106, 107, 108, 109, 110, 111, 112, 113, 114, 115, 116, 117]),\n",
       " <a list of 118 Text xticklabel objects>)"
      ]
     },
     "execution_count": 180,
     "metadata": {},
     "output_type": "execute_result"
    },
    {
     "data": {
      "image/png": "[encoded data removed]",
      "text/plain": [
       "<matplotlib.figure.Figure at 0x1145bfa50>"
      ]
     },
     "metadata": {},
     "output_type": "display_data"
    }
   ],
   "source": [
    "plt.rcParams['figure.figsize'] = (18, 8)\n",
    "ax = sns.barplot(movies_by_year.released_year, movies_by_year.number_of_movies)\n",
    "plt.xticks(rotation=90)"
   ]
  },
  {
   "cell_type": "markdown",
   "metadata": {},
   "source": [
    "We can see that the number of movies grew more significantly from 1990"
   ]
  },
  {
   "cell_type": "markdown",
   "metadata": {},
   "source": [
    "### Extract Genre\n",
    "Genre list are stored in Genre field by list separated by '|'\n",
    "Using pandas get_dummies function to split this list into dummy code"
   ]
  },
  {
   "cell_type": "code",
   "execution_count": 181,
   "metadata": {
    "collapsed": true
   },
   "outputs": [],
   "source": [
    "movies_genre = movies.genres.str.get_dummies('|')"
   ]
  },
  {
   "cell_type": "code",
   "execution_count": 182,
   "metadata": {
    "collapsed": false
   },
   "outputs": [
    {
     "data": {
      "text/html": [
       "<div>\n",
       "<table border=\"1\" class=\"dataframe\">\n",
       "  <thead>\n",
       "    <tr style=\"text-align: right;\">\n",
       "      <th></th>\n",
       "      <th>(no genres listed)</th>\n",
       "      <th>Action</th>\n",
       "      <th>Adventure</th>\n",
       "      <th>Animation</th>\n",
       "      <th>Children</th>\n",
       "      <th>Comedy</th>\n",
       "      <th>Crime</th>\n",
       "      <th>Documentary</th>\n",
       "      <th>Drama</th>\n",
       "      <th>Fantasy</th>\n",
       "      <th>Film-Noir</th>\n",
       "      <th>Horror</th>\n",
       "      <th>IMAX</th>\n",
       "      <th>Musical</th>\n",
       "      <th>Mystery</th>\n",
       "      <th>Romance</th>\n",
       "      <th>Sci-Fi</th>\n",
       "      <th>Thriller</th>\n",
       "      <th>War</th>\n",
       "      <th>Western</th>\n",
       "    </tr>\n",
       "  </thead>\n",
       "  <tbody>\n",
       "    <tr>\n",
       "      <th>0</th>\n",
       "      <td>0</td>\n",
       "      <td>0</td>\n",
       "      <td>1</td>\n",
       "      <td>1</td>\n",
       "      <td>1</td>\n",
       "      <td>1</td>\n",
       "      <td>0</td>\n",
       "      <td>0</td>\n",
       "      <td>0</td>\n",
       "      <td>1</td>\n",
       "      <td>0</td>\n",
       "      <td>0</td>\n",
       "      <td>0</td>\n",
       "      <td>0</td>\n",
       "      <td>0</td>\n",
       "      <td>0</td>\n",
       "      <td>0</td>\n",
       "      <td>0</td>\n",
       "      <td>0</td>\n",
       "      <td>0</td>\n",
       "    </tr>\n",
       "    <tr>\n",
       "      <th>1</th>\n",
       "      <td>0</td>\n",
       "      <td>0</td>\n",
       "      <td>1</td>\n",
       "      <td>0</td>\n",
       "      <td>1</td>\n",
       "      <td>0</td>\n",
       "      <td>0</td>\n",
       "      <td>0</td>\n",
       "      <td>0</td>\n",
       "      <td>1</td>\n",
       "      <td>0</td>\n",
       "      <td>0</td>\n",
       "      <td>0</td>\n",
       "      <td>0</td>\n",
       "      <td>0</td>\n",
       "      <td>0</td>\n",
       "      <td>0</td>\n",
       "      <td>0</td>\n",
       "      <td>0</td>\n",
       "      <td>0</td>\n",
       "    </tr>\n",
       "    <tr>\n",
       "      <th>2</th>\n",
       "      <td>0</td>\n",
       "      <td>0</td>\n",
       "      <td>0</td>\n",
       "      <td>0</td>\n",
       "      <td>0</td>\n",
       "      <td>1</td>\n",
       "      <td>0</td>\n",
       "      <td>0</td>\n",
       "      <td>0</td>\n",
       "      <td>0</td>\n",
       "      <td>0</td>\n",
       "      <td>0</td>\n",
       "      <td>0</td>\n",
       "      <td>0</td>\n",
       "      <td>0</td>\n",
       "      <td>1</td>\n",
       "      <td>0</td>\n",
       "      <td>0</td>\n",
       "      <td>0</td>\n",
       "      <td>0</td>\n",
       "    </tr>\n",
       "    <tr>\n",
       "      <th>3</th>\n",
       "      <td>0</td>\n",
       "      <td>0</td>\n",
       "      <td>0</td>\n",
       "      <td>0</td>\n",
       "      <td>0</td>\n",
       "      <td>1</td>\n",
       "      <td>0</td>\n",
       "      <td>0</td>\n",
       "      <td>1</td>\n",
       "      <td>0</td>\n",
       "      <td>0</td>\n",
       "      <td>0</td>\n",
       "      <td>0</td>\n",
       "      <td>0</td>\n",
       "      <td>0</td>\n",
       "      <td>1</td>\n",
       "      <td>0</td>\n",
       "      <td>0</td>\n",
       "      <td>0</td>\n",
       "      <td>0</td>\n",
       "    </tr>\n",
       "    <tr>\n",
       "      <th>4</th>\n",
       "      <td>0</td>\n",
       "      <td>0</td>\n",
       "      <td>0</td>\n",
       "      <td>0</td>\n",
       "      <td>0</td>\n",
       "      <td>1</td>\n",
       "      <td>0</td>\n",
       "      <td>0</td>\n",
       "      <td>0</td>\n",
       "      <td>0</td>\n",
       "      <td>0</td>\n",
       "      <td>0</td>\n",
       "      <td>0</td>\n",
       "      <td>0</td>\n",
       "      <td>0</td>\n",
       "      <td>0</td>\n",
       "      <td>0</td>\n",
       "      <td>0</td>\n",
       "      <td>0</td>\n",
       "      <td>0</td>\n",
       "    </tr>\n",
       "  </tbody>\n",
       "</table>\n",
       "</div>"
      ],
      "text/plain": [
       "   (no genres listed)  Action  Adventure  Animation  Children  Comedy  Crime  \\\n",
       "0                   0       0          1          1         1       1      0   \n",
       "1                   0       0          1          0         1       0      0   \n",
       "2                   0       0          0          0         0       1      0   \n",
       "3                   0       0          0          0         0       1      0   \n",
       "4                   0       0          0          0         0       1      0   \n",
       "\n",
       "   Documentary  Drama  Fantasy  Film-Noir  Horror  IMAX  Musical  Mystery  \\\n",
       "0            0      0        1          0       0     0        0        0   \n",
       "1            0      0        1          0       0     0        0        0   \n",
       "2            0      0        0          0       0     0        0        0   \n",
       "3            0      1        0          0       0     0        0        0   \n",
       "4            0      0        0          0       0     0        0        0   \n",
       "\n",
       "   Romance  Sci-Fi  Thriller  War  Western  \n",
       "0        0       0         0    0        0  \n",
       "1        0       0         0    0        0  \n",
       "2        1       0         0    0        0  \n",
       "3        1       0         0    0        0  \n",
       "4        0       0         0    0        0  "
      ]
     },
     "execution_count": 182,
     "metadata": {},
     "output_type": "execute_result"
    }
   ],
   "source": [
    "movies_genre.head()"
   ]
  },
  {
   "cell_type": "markdown",
   "metadata": {},
   "source": [
    "Merge Genre list into original dataframe"
   ]
  },
  {
   "cell_type": "code",
   "execution_count": 183,
   "metadata": {
    "collapsed": true
   },
   "outputs": [],
   "source": [
    "df_movies = pd.merge(movies, movies_genre, how='inner', left_index=True, right_index=True)"
   ]
  },
  {
   "cell_type": "code",
   "execution_count": 184,
   "metadata": {
    "collapsed": false
   },
   "outputs": [
    {
     "data": {
      "text/html": [
       "<div>\n",
       "<table border=\"1\" class=\"dataframe\">\n",
       "  <thead>\n",
       "    <tr style=\"text-align: right;\">\n",
       "      <th></th>\n",
       "      <th>movieId</th>\n",
       "      <th>title</th>\n",
       "      <th>genres</th>\n",
       "      <th>title_format</th>\n",
       "      <th>title_name</th>\n",
       "      <th>year</th>\n",
       "      <th>released_year</th>\n",
       "      <th>(no genres listed)</th>\n",
       "      <th>Action</th>\n",
       "      <th>Adventure</th>\n",
       "      <th>...</th>\n",
       "      <th>Film-Noir</th>\n",
       "      <th>Horror</th>\n",
       "      <th>IMAX</th>\n",
       "      <th>Musical</th>\n",
       "      <th>Mystery</th>\n",
       "      <th>Romance</th>\n",
       "      <th>Sci-Fi</th>\n",
       "      <th>Thriller</th>\n",
       "      <th>War</th>\n",
       "      <th>Western</th>\n",
       "    </tr>\n",
       "  </thead>\n",
       "  <tbody>\n",
       "    <tr>\n",
       "      <th>0</th>\n",
       "      <td>1</td>\n",
       "      <td>Toy Story (1995)</td>\n",
       "      <td>Adventure|Animation|Children|Comedy|Fantasy</td>\n",
       "      <td>&lt;_sre.SRE_Match object at 0x10d2c5e68&gt;</td>\n",
       "      <td>Toy Story</td>\n",
       "      <td>(1995)</td>\n",
       "      <td>1995</td>\n",
       "      <td>0</td>\n",
       "      <td>0</td>\n",
       "      <td>1</td>\n",
       "      <td>...</td>\n",
       "      <td>0</td>\n",
       "      <td>0</td>\n",
       "      <td>0</td>\n",
       "      <td>0</td>\n",
       "      <td>0</td>\n",
       "      <td>0</td>\n",
       "      <td>0</td>\n",
       "      <td>0</td>\n",
       "      <td>0</td>\n",
       "      <td>0</td>\n",
       "    </tr>\n",
       "    <tr>\n",
       "      <th>1</th>\n",
       "      <td>2</td>\n",
       "      <td>Jumanji (1995)</td>\n",
       "      <td>Adventure|Children|Fantasy</td>\n",
       "      <td>&lt;_sre.SRE_Match object at 0x10d2c5ed0&gt;</td>\n",
       "      <td>Jumanji</td>\n",
       "      <td>(1995)</td>\n",
       "      <td>1995</td>\n",
       "      <td>0</td>\n",
       "      <td>0</td>\n",
       "      <td>1</td>\n",
       "      <td>...</td>\n",
       "      <td>0</td>\n",
       "      <td>0</td>\n",
       "      <td>0</td>\n",
       "      <td>0</td>\n",
       "      <td>0</td>\n",
       "      <td>0</td>\n",
       "      <td>0</td>\n",
       "      <td>0</td>\n",
       "      <td>0</td>\n",
       "      <td>0</td>\n",
       "    </tr>\n",
       "    <tr>\n",
       "      <th>2</th>\n",
       "      <td>3</td>\n",
       "      <td>Grumpier Old Men (1995)</td>\n",
       "      <td>Comedy|Romance</td>\n",
       "      <td>&lt;_sre.SRE_Match object at 0x10d2c5f38&gt;</td>\n",
       "      <td>Grumpier Old Men</td>\n",
       "      <td>(1995)</td>\n",
       "      <td>1995</td>\n",
       "      <td>0</td>\n",
       "      <td>0</td>\n",
       "      <td>0</td>\n",
       "      <td>...</td>\n",
       "      <td>0</td>\n",
       "      <td>0</td>\n",
       "      <td>0</td>\n",
       "      <td>0</td>\n",
       "      <td>0</td>\n",
       "      <td>1</td>\n",
       "      <td>0</td>\n",
       "      <td>0</td>\n",
       "      <td>0</td>\n",
       "      <td>0</td>\n",
       "    </tr>\n",
       "    <tr>\n",
       "      <th>3</th>\n",
       "      <td>4</td>\n",
       "      <td>Waiting to Exhale (1995)</td>\n",
       "      <td>Comedy|Drama|Romance</td>\n",
       "      <td>&lt;_sre.SRE_Match object at 0x10c3ee030&gt;</td>\n",
       "      <td>Waiting to Exhale</td>\n",
       "      <td>(1995)</td>\n",
       "      <td>1995</td>\n",
       "      <td>0</td>\n",
       "      <td>0</td>\n",
       "      <td>0</td>\n",
       "      <td>...</td>\n",
       "      <td>0</td>\n",
       "      <td>0</td>\n",
       "      <td>0</td>\n",
       "      <td>0</td>\n",
       "      <td>0</td>\n",
       "      <td>1</td>\n",
       "      <td>0</td>\n",
       "      <td>0</td>\n",
       "      <td>0</td>\n",
       "      <td>0</td>\n",
       "    </tr>\n",
       "    <tr>\n",
       "      <th>4</th>\n",
       "      <td>5</td>\n",
       "      <td>Father of the Bride Part II (1995)</td>\n",
       "      <td>Comedy</td>\n",
       "      <td>&lt;_sre.SRE_Match object at 0x10c3ee098&gt;</td>\n",
       "      <td>Father of the Bride Part II</td>\n",
       "      <td>(1995)</td>\n",
       "      <td>1995</td>\n",
       "      <td>0</td>\n",
       "      <td>0</td>\n",
       "      <td>0</td>\n",
       "      <td>...</td>\n",
       "      <td>0</td>\n",
       "      <td>0</td>\n",
       "      <td>0</td>\n",
       "      <td>0</td>\n",
       "      <td>0</td>\n",
       "      <td>0</td>\n",
       "      <td>0</td>\n",
       "      <td>0</td>\n",
       "      <td>0</td>\n",
       "      <td>0</td>\n",
       "    </tr>\n",
       "  </tbody>\n",
       "</table>\n",
       "<p>5 rows × 27 columns</p>\n",
       "</div>"
      ],
      "text/plain": [
       "   movieId                               title  \\\n",
       "0        1                    Toy Story (1995)   \n",
       "1        2                      Jumanji (1995)   \n",
       "2        3             Grumpier Old Men (1995)   \n",
       "3        4            Waiting to Exhale (1995)   \n",
       "4        5  Father of the Bride Part II (1995)   \n",
       "\n",
       "                                        genres  \\\n",
       "0  Adventure|Animation|Children|Comedy|Fantasy   \n",
       "1                   Adventure|Children|Fantasy   \n",
       "2                               Comedy|Romance   \n",
       "3                         Comedy|Drama|Romance   \n",
       "4                                       Comedy   \n",
       "\n",
       "                             title_format                    title_name  \\\n",
       "0  <_sre.SRE_Match object at 0x10d2c5e68>                    Toy Story    \n",
       "1  <_sre.SRE_Match object at 0x10d2c5ed0>                      Jumanji    \n",
       "2  <_sre.SRE_Match object at 0x10d2c5f38>             Grumpier Old Men    \n",
       "3  <_sre.SRE_Match object at 0x10c3ee030>            Waiting to Exhale    \n",
       "4  <_sre.SRE_Match object at 0x10c3ee098>  Father of the Bride Part II    \n",
       "\n",
       "     year released_year  (no genres listed)  Action  Adventure   ...     \\\n",
       "0  (1995)          1995                   0       0          1   ...      \n",
       "1  (1995)          1995                   0       0          1   ...      \n",
       "2  (1995)          1995                   0       0          0   ...      \n",
       "3  (1995)          1995                   0       0          0   ...      \n",
       "4  (1995)          1995                   0       0          0   ...      \n",
       "\n",
       "   Film-Noir  Horror  IMAX  Musical  Mystery  Romance  Sci-Fi  Thriller  War  \\\n",
       "0          0       0     0        0        0        0       0         0    0   \n",
       "1          0       0     0        0        0        0       0         0    0   \n",
       "2          0       0     0        0        0        1       0         0    0   \n",
       "3          0       0     0        0        0        1       0         0    0   \n",
       "4          0       0     0        0        0        0       0         0    0   \n",
       "\n",
       "   Western  \n",
       "0        0  \n",
       "1        0  \n",
       "2        0  \n",
       "3        0  \n",
       "4        0  \n",
       "\n",
       "[5 rows x 27 columns]"
      ]
     },
     "execution_count": 184,
     "metadata": {},
     "output_type": "execute_result"
    }
   ],
   "source": [
    "df_movies.head()"
   ]
  },
  {
   "cell_type": "markdown",
   "metadata": {},
   "source": [
    "Let's see how many movies do not have any genre"
   ]
  },
  {
   "cell_type": "code",
   "execution_count": 185,
   "metadata": {
    "collapsed": false
   },
   "outputs": [
    {
     "data": {
      "text/html": [
       "<div>\n",
       "<table border=\"1\" class=\"dataframe\">\n",
       "  <thead>\n",
       "    <tr style=\"text-align: right;\">\n",
       "      <th></th>\n",
       "      <th>movieId</th>\n",
       "      <th>title</th>\n",
       "      <th>genres</th>\n",
       "      <th>title_format</th>\n",
       "      <th>title_name</th>\n",
       "      <th>year</th>\n",
       "      <th>released_year</th>\n",
       "      <th>(no genres listed)</th>\n",
       "      <th>Action</th>\n",
       "      <th>Adventure</th>\n",
       "      <th>...</th>\n",
       "      <th>Film-Noir</th>\n",
       "      <th>Horror</th>\n",
       "      <th>IMAX</th>\n",
       "      <th>Musical</th>\n",
       "      <th>Mystery</th>\n",
       "      <th>Romance</th>\n",
       "      <th>Sci-Fi</th>\n",
       "      <th>Thriller</th>\n",
       "      <th>War</th>\n",
       "      <th>Western</th>\n",
       "    </tr>\n",
       "  </thead>\n",
       "  <tbody>\n",
       "    <tr>\n",
       "      <th>16574</th>\n",
       "      <td>83773</td>\n",
       "      <td>Away with Words (San tiao ren) (1999)</td>\n",
       "      <td>(no genres listed)</td>\n",
       "      <td>&lt;_sre.SRE_Match object at 0x10e5c3098&gt;</td>\n",
       "      <td>Away with Words (San tiao ren)</td>\n",
       "      <td>(1999)</td>\n",
       "      <td>1999</td>\n",
       "      <td>1</td>\n",
       "      <td>0</td>\n",
       "      <td>0</td>\n",
       "      <td>...</td>\n",
       "      <td>0</td>\n",
       "      <td>0</td>\n",
       "      <td>0</td>\n",
       "      <td>0</td>\n",
       "      <td>0</td>\n",
       "      <td>0</td>\n",
       "      <td>0</td>\n",
       "      <td>0</td>\n",
       "      <td>0</td>\n",
       "      <td>0</td>\n",
       "    </tr>\n",
       "    <tr>\n",
       "      <th>16589</th>\n",
       "      <td>83829</td>\n",
       "      <td>Scorpio Rising (1964)</td>\n",
       "      <td>(no genres listed)</td>\n",
       "      <td>&lt;_sre.SRE_Match object at 0x10e5c36b0&gt;</td>\n",
       "      <td>Scorpio Rising</td>\n",
       "      <td>(1964)</td>\n",
       "      <td>1964</td>\n",
       "      <td>1</td>\n",
       "      <td>0</td>\n",
       "      <td>0</td>\n",
       "      <td>...</td>\n",
       "      <td>0</td>\n",
       "      <td>0</td>\n",
       "      <td>0</td>\n",
       "      <td>0</td>\n",
       "      <td>0</td>\n",
       "      <td>0</td>\n",
       "      <td>0</td>\n",
       "      <td>0</td>\n",
       "      <td>0</td>\n",
       "      <td>0</td>\n",
       "    </tr>\n",
       "    <tr>\n",
       "      <th>16764</th>\n",
       "      <td>84768</td>\n",
       "      <td>Glitterbug (1994)</td>\n",
       "      <td>(no genres listed)</td>\n",
       "      <td>&lt;_sre.SRE_Match object at 0x10e5c8098&gt;</td>\n",
       "      <td>Glitterbug</td>\n",
       "      <td>(1994)</td>\n",
       "      <td>1994</td>\n",
       "      <td>1</td>\n",
       "      <td>0</td>\n",
       "      <td>0</td>\n",
       "      <td>...</td>\n",
       "      <td>0</td>\n",
       "      <td>0</td>\n",
       "      <td>0</td>\n",
       "      <td>0</td>\n",
       "      <td>0</td>\n",
       "      <td>0</td>\n",
       "      <td>0</td>\n",
       "      <td>0</td>\n",
       "      <td>0</td>\n",
       "      <td>0</td>\n",
       "    </tr>\n",
       "    <tr>\n",
       "      <th>17080</th>\n",
       "      <td>86493</td>\n",
       "      <td>Age of the Earth, The (A Idade da Terra) (1980)</td>\n",
       "      <td>(no genres listed)</td>\n",
       "      <td>&lt;_sre.SRE_Match object at 0x10e5d0578&gt;</td>\n",
       "      <td>Age of the Earth, The (A Idade da Terra)</td>\n",
       "      <td>(1980)</td>\n",
       "      <td>1980</td>\n",
       "      <td>1</td>\n",
       "      <td>0</td>\n",
       "      <td>0</td>\n",
       "      <td>...</td>\n",
       "      <td>0</td>\n",
       "      <td>0</td>\n",
       "      <td>0</td>\n",
       "      <td>0</td>\n",
       "      <td>0</td>\n",
       "      <td>0</td>\n",
       "      <td>0</td>\n",
       "      <td>0</td>\n",
       "      <td>0</td>\n",
       "      <td>0</td>\n",
       "    </tr>\n",
       "    <tr>\n",
       "      <th>17243</th>\n",
       "      <td>87061</td>\n",
       "      <td>Trails (Veredas) (1978)</td>\n",
       "      <td>(no genres listed)</td>\n",
       "      <td>&lt;_sre.SRE_Match object at 0x10e5d49f0&gt;</td>\n",
       "      <td>Trails (Veredas)</td>\n",
       "      <td>(1978)</td>\n",
       "      <td>1978</td>\n",
       "      <td>1</td>\n",
       "      <td>0</td>\n",
       "      <td>0</td>\n",
       "      <td>...</td>\n",
       "      <td>0</td>\n",
       "      <td>0</td>\n",
       "      <td>0</td>\n",
       "      <td>0</td>\n",
       "      <td>0</td>\n",
       "      <td>0</td>\n",
       "      <td>0</td>\n",
       "      <td>0</td>\n",
       "      <td>0</td>\n",
       "      <td>0</td>\n",
       "    </tr>\n",
       "    <tr>\n",
       "      <th>18246</th>\n",
       "      <td>91246</td>\n",
       "      <td>Milky Way (Tejút) (2007)</td>\n",
       "      <td>(no genres listed)</td>\n",
       "      <td>&lt;_sre.SRE_Match object at 0x10e5ef030&gt;</td>\n",
       "      <td>Milky Way (Tejút)</td>\n",
       "      <td>(2007)</td>\n",
       "      <td>2007</td>\n",
       "      <td>1</td>\n",
       "      <td>0</td>\n",
       "      <td>0</td>\n",
       "      <td>...</td>\n",
       "      <td>0</td>\n",
       "      <td>0</td>\n",
       "      <td>0</td>\n",
       "      <td>0</td>\n",
       "      <td>0</td>\n",
       "      <td>0</td>\n",
       "      <td>0</td>\n",
       "      <td>0</td>\n",
       "      <td>0</td>\n",
       "      <td>0</td>\n",
       "    </tr>\n",
       "    <tr>\n",
       "      <th>18566</th>\n",
       "      <td>92435</td>\n",
       "      <td>Dancing Hawk, The (Tanczacy jastrzab) (1978)</td>\n",
       "      <td>(no genres listed)</td>\n",
       "      <td>&lt;_sre.SRE_Match object at 0x10e5f76b0&gt;</td>\n",
       "      <td>Dancing Hawk, The (Tanczacy jastrzab)</td>\n",
       "      <td>(1978)</td>\n",
       "      <td>1978</td>\n",
       "      <td>1</td>\n",
       "      <td>0</td>\n",
       "      <td>0</td>\n",
       "      <td>...</td>\n",
       "      <td>0</td>\n",
       "      <td>0</td>\n",
       "      <td>0</td>\n",
       "      <td>0</td>\n",
       "      <td>0</td>\n",
       "      <td>0</td>\n",
       "      <td>0</td>\n",
       "      <td>0</td>\n",
       "      <td>0</td>\n",
       "      <td>0</td>\n",
       "    </tr>\n",
       "    <tr>\n",
       "      <th>18606</th>\n",
       "      <td>92641</td>\n",
       "      <td>Warsaw Bridge (Pont de Varsòvia) (1990)</td>\n",
       "      <td>(no genres listed)</td>\n",
       "      <td>&lt;_sre.SRE_Match object at 0x10ef60780&gt;</td>\n",
       "      <td>Warsaw Bridge (Pont de Varsòvia)</td>\n",
       "      <td>(1990)</td>\n",
       "      <td>1990</td>\n",
       "      <td>1</td>\n",
       "      <td>0</td>\n",
       "      <td>0</td>\n",
       "      <td>...</td>\n",
       "      <td>0</td>\n",
       "      <td>0</td>\n",
       "      <td>0</td>\n",
       "      <td>0</td>\n",
       "      <td>0</td>\n",
       "      <td>0</td>\n",
       "      <td>0</td>\n",
       "      <td>0</td>\n",
       "      <td>0</td>\n",
       "      <td>0</td>\n",
       "    </tr>\n",
       "    <tr>\n",
       "      <th>18984</th>\n",
       "      <td>94431</td>\n",
       "      <td>Ella Lola, a la Trilby (1898)</td>\n",
       "      <td>(no genres listed)</td>\n",
       "      <td>&lt;_sre.SRE_Match object at 0x10ef6a6b0&gt;</td>\n",
       "      <td>Ella Lola, a la Trilby</td>\n",
       "      <td>(1898)</td>\n",
       "      <td>1898</td>\n",
       "      <td>1</td>\n",
       "      <td>0</td>\n",
       "      <td>0</td>\n",
       "      <td>...</td>\n",
       "      <td>0</td>\n",
       "      <td>0</td>\n",
       "      <td>0</td>\n",
       "      <td>0</td>\n",
       "      <td>0</td>\n",
       "      <td>0</td>\n",
       "      <td>0</td>\n",
       "      <td>0</td>\n",
       "      <td>0</td>\n",
       "      <td>0</td>\n",
       "    </tr>\n",
       "    <tr>\n",
       "      <th>19015</th>\n",
       "      <td>94657</td>\n",
       "      <td>Turkish Dance, Ella Lola (1898)</td>\n",
       "      <td>(no genres listed)</td>\n",
       "      <td>&lt;_sre.SRE_Match object at 0x10ef6b3d8&gt;</td>\n",
       "      <td>Turkish Dance, Ella Lola</td>\n",
       "      <td>(1898)</td>\n",
       "      <td>1898</td>\n",
       "      <td>1</td>\n",
       "      <td>0</td>\n",
       "      <td>0</td>\n",
       "      <td>...</td>\n",
       "      <td>0</td>\n",
       "      <td>0</td>\n",
       "      <td>0</td>\n",
       "      <td>0</td>\n",
       "      <td>0</td>\n",
       "      <td>0</td>\n",
       "      <td>0</td>\n",
       "      <td>0</td>\n",
       "      <td>0</td>\n",
       "      <td>0</td>\n",
       "    </tr>\n",
       "    <tr>\n",
       "      <th>19213</th>\n",
       "      <td>95541</td>\n",
       "      <td>Blacksmith Scene (1893)</td>\n",
       "      <td>(no genres listed)</td>\n",
       "      <td>&lt;_sre.SRE_Match object at 0x10ef70718&gt;</td>\n",
       "      <td>Blacksmith Scene</td>\n",
       "      <td>(1893)</td>\n",
       "      <td>1893</td>\n",
       "      <td>1</td>\n",
       "      <td>0</td>\n",
       "      <td>0</td>\n",
       "      <td>...</td>\n",
       "      <td>0</td>\n",
       "      <td>0</td>\n",
       "      <td>0</td>\n",
       "      <td>0</td>\n",
       "      <td>0</td>\n",
       "      <td>0</td>\n",
       "      <td>0</td>\n",
       "      <td>0</td>\n",
       "      <td>0</td>\n",
       "      <td>0</td>\n",
       "    </tr>\n",
       "    <tr>\n",
       "      <th>19260</th>\n",
       "      <td>95750</td>\n",
       "      <td>Promise of the Flesh (Yukcheui yaksok) (1975)</td>\n",
       "      <td>(no genres listed)</td>\n",
       "      <td>&lt;_sre.SRE_Match object at 0x10ef71ac0&gt;</td>\n",
       "      <td>Promise of the Flesh (Yukcheui yaksok)</td>\n",
       "      <td>(1975)</td>\n",
       "      <td>1975</td>\n",
       "      <td>1</td>\n",
       "      <td>0</td>\n",
       "      <td>0</td>\n",
       "      <td>...</td>\n",
       "      <td>0</td>\n",
       "      <td>0</td>\n",
       "      <td>0</td>\n",
       "      <td>0</td>\n",
       "      <td>0</td>\n",
       "      <td>0</td>\n",
       "      <td>0</td>\n",
       "      <td>0</td>\n",
       "      <td>0</td>\n",
       "      <td>0</td>\n",
       "    </tr>\n",
       "    <tr>\n",
       "      <th>19429</th>\n",
       "      <td>96479</td>\n",
       "      <td>Nocturno 29 (1968)</td>\n",
       "      <td>(no genres listed)</td>\n",
       "      <td>&lt;_sre.SRE_Match object at 0x10ef76238&gt;</td>\n",
       "      <td>Nocturno 29</td>\n",
       "      <td>(1968)</td>\n",
       "      <td>1968</td>\n",
       "      <td>1</td>\n",
       "      <td>0</td>\n",
       "      <td>0</td>\n",
       "      <td>...</td>\n",
       "      <td>0</td>\n",
       "      <td>0</td>\n",
       "      <td>0</td>\n",
       "      <td>0</td>\n",
       "      <td>0</td>\n",
       "      <td>0</td>\n",
       "      <td>0</td>\n",
       "      <td>0</td>\n",
       "      <td>0</td>\n",
       "      <td>0</td>\n",
       "    </tr>\n",
       "    <tr>\n",
       "      <th>19485</th>\n",
       "      <td>96651</td>\n",
       "      <td>Les hautes solitudes (1974)</td>\n",
       "      <td>(no genres listed)</td>\n",
       "      <td>&lt;_sre.SRE_Match object at 0x10ef77988&gt;</td>\n",
       "      <td>Les hautes solitudes</td>\n",
       "      <td>(1974)</td>\n",
       "      <td>1974</td>\n",
       "      <td>1</td>\n",
       "      <td>0</td>\n",
       "      <td>0</td>\n",
       "      <td>...</td>\n",
       "      <td>0</td>\n",
       "      <td>0</td>\n",
       "      <td>0</td>\n",
       "      <td>0</td>\n",
       "      <td>0</td>\n",
       "      <td>0</td>\n",
       "      <td>0</td>\n",
       "      <td>0</td>\n",
       "      <td>0</td>\n",
       "      <td>0</td>\n",
       "    </tr>\n",
       "    <tr>\n",
       "      <th>20458</th>\n",
       "      <td>100294</td>\n",
       "      <td>Désiré (1992)</td>\n",
       "      <td>(no genres listed)</td>\n",
       "      <td>&lt;_sre.SRE_Match object at 0x10ef91370&gt;</td>\n",
       "      <td>Désiré</td>\n",
       "      <td>(1992)</td>\n",
       "      <td>1992</td>\n",
       "      <td>1</td>\n",
       "      <td>0</td>\n",
       "      <td>0</td>\n",
       "      <td>...</td>\n",
       "      <td>0</td>\n",
       "      <td>0</td>\n",
       "      <td>0</td>\n",
       "      <td>0</td>\n",
       "      <td>0</td>\n",
       "      <td>0</td>\n",
       "      <td>0</td>\n",
       "      <td>0</td>\n",
       "      <td>0</td>\n",
       "      <td>0</td>\n",
       "    </tr>\n",
       "    <tr>\n",
       "      <th>23892</th>\n",
       "      <td>113472</td>\n",
       "      <td>Direct from Brooklyn (1999)</td>\n",
       "      <td>(no genres listed)</td>\n",
       "      <td>&lt;_sre.SRE_Match object at 0x10efeb718&gt;</td>\n",
       "      <td>Direct from Brooklyn</td>\n",
       "      <td>(1999)</td>\n",
       "      <td>1999</td>\n",
       "      <td>1</td>\n",
       "      <td>0</td>\n",
       "      <td>0</td>\n",
       "      <td>...</td>\n",
       "      <td>0</td>\n",
       "      <td>0</td>\n",
       "      <td>0</td>\n",
       "      <td>0</td>\n",
       "      <td>0</td>\n",
       "      <td>0</td>\n",
       "      <td>0</td>\n",
       "      <td>0</td>\n",
       "      <td>0</td>\n",
       "      <td>0</td>\n",
       "    </tr>\n",
       "    <tr>\n",
       "      <th>23912</th>\n",
       "      <td>113545</td>\n",
       "      <td>Primus Hallucino-Genetics Live 2004 (2004)</td>\n",
       "      <td>(no genres listed)</td>\n",
       "      <td>&lt;_sre.SRE_Match object at 0x10efebf38&gt;</td>\n",
       "      <td>Primus Hallucino-Genetics Live 2004</td>\n",
       "      <td>(2004)</td>\n",
       "      <td>2004</td>\n",
       "      <td>1</td>\n",
       "      <td>0</td>\n",
       "      <td>0</td>\n",
       "      <td>...</td>\n",
       "      <td>0</td>\n",
       "      <td>0</td>\n",
       "      <td>0</td>\n",
       "      <td>0</td>\n",
       "      <td>0</td>\n",
       "      <td>0</td>\n",
       "      <td>0</td>\n",
       "      <td>0</td>\n",
       "      <td>0</td>\n",
       "      <td>0</td>\n",
       "    </tr>\n",
       "    <tr>\n",
       "      <th>24116</th>\n",
       "      <td>114335</td>\n",
       "      <td>La cravate (1957)</td>\n",
       "      <td>(no genres listed)</td>\n",
       "      <td>&lt;_sre.SRE_Match object at 0x10eff1578&gt;</td>\n",
       "      <td>La cravate</td>\n",
       "      <td>(1957)</td>\n",
       "      <td>1957</td>\n",
       "      <td>1</td>\n",
       "      <td>0</td>\n",
       "      <td>0</td>\n",
       "      <td>...</td>\n",
       "      <td>0</td>\n",
       "      <td>0</td>\n",
       "      <td>0</td>\n",
       "      <td>0</td>\n",
       "      <td>0</td>\n",
       "      <td>0</td>\n",
       "      <td>0</td>\n",
       "      <td>0</td>\n",
       "      <td>0</td>\n",
       "      <td>0</td>\n",
       "    </tr>\n",
       "    <tr>\n",
       "      <th>24167</th>\n",
       "      <td>114587</td>\n",
       "      <td>Glumov's Diary (Dnevnik Glumova) (1923)</td>\n",
       "      <td>(no genres listed)</td>\n",
       "      <td>&lt;_sre.SRE_Match object at 0x10eff2ac0&gt;</td>\n",
       "      <td>Glumov's Diary (Dnevnik Glumova)</td>\n",
       "      <td>(1923)</td>\n",
       "      <td>1923</td>\n",
       "      <td>1</td>\n",
       "      <td>0</td>\n",
       "      <td>0</td>\n",
       "      <td>...</td>\n",
       "      <td>0</td>\n",
       "      <td>0</td>\n",
       "      <td>0</td>\n",
       "      <td>0</td>\n",
       "      <td>0</td>\n",
       "      <td>0</td>\n",
       "      <td>0</td>\n",
       "      <td>0</td>\n",
       "      <td>0</td>\n",
       "      <td>0</td>\n",
       "    </tr>\n",
       "    <tr>\n",
       "      <th>24205</th>\n",
       "      <td>114723</td>\n",
       "      <td>At Land (1944)</td>\n",
       "      <td>(no genres listed)</td>\n",
       "      <td>&lt;_sre.SRE_Match object at 0x10eff3ac0&gt;</td>\n",
       "      <td>At Land</td>\n",
       "      <td>(1944)</td>\n",
       "      <td>1944</td>\n",
       "      <td>1</td>\n",
       "      <td>0</td>\n",
       "      <td>0</td>\n",
       "      <td>...</td>\n",
       "      <td>0</td>\n",
       "      <td>0</td>\n",
       "      <td>0</td>\n",
       "      <td>0</td>\n",
       "      <td>0</td>\n",
       "      <td>0</td>\n",
       "      <td>0</td>\n",
       "      <td>0</td>\n",
       "      <td>0</td>\n",
       "      <td>0</td>\n",
       "    </tr>\n",
       "    <tr>\n",
       "      <th>24206</th>\n",
       "      <td>114725</td>\n",
       "      <td>Study in Choreography for Camera, A (1945)</td>\n",
       "      <td>(no genres listed)</td>\n",
       "      <td>&lt;_sre.SRE_Match object at 0x10eff3b28&gt;</td>\n",
       "      <td>Study in Choreography for Camera, A</td>\n",
       "      <td>(1945)</td>\n",
       "      <td>1945</td>\n",
       "      <td>1</td>\n",
       "      <td>0</td>\n",
       "      <td>0</td>\n",
       "      <td>...</td>\n",
       "      <td>0</td>\n",
       "      <td>0</td>\n",
       "      <td>0</td>\n",
       "      <td>0</td>\n",
       "      <td>0</td>\n",
       "      <td>0</td>\n",
       "      <td>0</td>\n",
       "      <td>0</td>\n",
       "      <td>0</td>\n",
       "      <td>0</td>\n",
       "    </tr>\n",
       "    <tr>\n",
       "      <th>24238</th>\n",
       "      <td>114877</td>\n",
       "      <td>Guernica (1950)</td>\n",
       "      <td>(no genres listed)</td>\n",
       "      <td>&lt;_sre.SRE_Match object at 0x10eff48b8&gt;</td>\n",
       "      <td>Guernica</td>\n",
       "      <td>(1950)</td>\n",
       "      <td>1950</td>\n",
       "      <td>1</td>\n",
       "      <td>0</td>\n",
       "      <td>0</td>\n",
       "      <td>...</td>\n",
       "      <td>0</td>\n",
       "      <td>0</td>\n",
       "      <td>0</td>\n",
       "      <td>0</td>\n",
       "      <td>0</td>\n",
       "      <td>0</td>\n",
       "      <td>0</td>\n",
       "      <td>0</td>\n",
       "      <td>0</td>\n",
       "      <td>0</td>\n",
       "    </tr>\n",
       "    <tr>\n",
       "      <th>24263</th>\n",
       "      <td>115004</td>\n",
       "      <td>It's My Mother's Birthday Today (2008)</td>\n",
       "      <td>(no genres listed)</td>\n",
       "      <td>&lt;_sre.SRE_Match object at 0x10eff5370&gt;</td>\n",
       "      <td>It's My Mother's Birthday Today</td>\n",
       "      <td>(2008)</td>\n",
       "      <td>2008</td>\n",
       "      <td>1</td>\n",
       "      <td>0</td>\n",
       "      <td>0</td>\n",
       "      <td>...</td>\n",
       "      <td>0</td>\n",
       "      <td>0</td>\n",
       "      <td>0</td>\n",
       "      <td>0</td>\n",
       "      <td>0</td>\n",
       "      <td>0</td>\n",
       "      <td>0</td>\n",
       "      <td>0</td>\n",
       "      <td>0</td>\n",
       "      <td>0</td>\n",
       "    </tr>\n",
       "    <tr>\n",
       "      <th>24264</th>\n",
       "      <td>115006</td>\n",
       "      <td>Spare Bed-Room (1969)</td>\n",
       "      <td>(no genres listed)</td>\n",
       "      <td>&lt;_sre.SRE_Match object at 0x10eff53d8&gt;</td>\n",
       "      <td>Spare Bed-Room</td>\n",
       "      <td>(1969)</td>\n",
       "      <td>1969</td>\n",
       "      <td>1</td>\n",
       "      <td>0</td>\n",
       "      <td>0</td>\n",
       "      <td>...</td>\n",
       "      <td>0</td>\n",
       "      <td>0</td>\n",
       "      <td>0</td>\n",
       "      <td>0</td>\n",
       "      <td>0</td>\n",
       "      <td>0</td>\n",
       "      <td>0</td>\n",
       "      <td>0</td>\n",
       "      <td>0</td>\n",
       "      <td>0</td>\n",
       "    </tr>\n",
       "    <tr>\n",
       "      <th>24357</th>\n",
       "      <td>115419</td>\n",
       "      <td>Maria (Mariya) (1989)</td>\n",
       "      <td>(no genres listed)</td>\n",
       "      <td>&lt;_sre.SRE_Match object at 0x10eff7a58&gt;</td>\n",
       "      <td>Maria (Mariya)</td>\n",
       "      <td>(1989)</td>\n",
       "      <td>1989</td>\n",
       "      <td>1</td>\n",
       "      <td>0</td>\n",
       "      <td>0</td>\n",
       "      <td>...</td>\n",
       "      <td>0</td>\n",
       "      <td>0</td>\n",
       "      <td>0</td>\n",
       "      <td>0</td>\n",
       "      <td>0</td>\n",
       "      <td>0</td>\n",
       "      <td>0</td>\n",
       "      <td>0</td>\n",
       "      <td>0</td>\n",
       "      <td>0</td>\n",
       "    </tr>\n",
       "    <tr>\n",
       "      <th>24362</th>\n",
       "      <td>115441</td>\n",
       "      <td>(Absolutions) Pipilotti's Mistakes ((Entlastun...</td>\n",
       "      <td>(no genres listed)</td>\n",
       "      <td>&lt;_sre.SRE_Match object at 0x10eff7c60&gt;</td>\n",
       "      <td>(Absolutions) Pipilotti's Mistakes ((Entlastun...</td>\n",
       "      <td>(1988)</td>\n",
       "      <td>1988</td>\n",
       "      <td>1</td>\n",
       "      <td>0</td>\n",
       "      <td>0</td>\n",
       "      <td>...</td>\n",
       "      <td>0</td>\n",
       "      <td>0</td>\n",
       "      <td>0</td>\n",
       "      <td>0</td>\n",
       "      <td>0</td>\n",
       "      <td>0</td>\n",
       "      <td>0</td>\n",
       "      <td>0</td>\n",
       "      <td>0</td>\n",
       "      <td>0</td>\n",
       "    </tr>\n",
       "    <tr>\n",
       "      <th>24378</th>\n",
       "      <td>115529</td>\n",
       "      <td>Judgement Day (1983)</td>\n",
       "      <td>(no genres listed)</td>\n",
       "      <td>&lt;_sre.SRE_Match object at 0x10eff8370&gt;</td>\n",
       "      <td>Judgement Day</td>\n",
       "      <td>(1983)</td>\n",
       "      <td>1983</td>\n",
       "      <td>1</td>\n",
       "      <td>0</td>\n",
       "      <td>0</td>\n",
       "      <td>...</td>\n",
       "      <td>0</td>\n",
       "      <td>0</td>\n",
       "      <td>0</td>\n",
       "      <td>0</td>\n",
       "      <td>0</td>\n",
       "      <td>0</td>\n",
       "      <td>0</td>\n",
       "      <td>0</td>\n",
       "      <td>0</td>\n",
       "      <td>0</td>\n",
       "    </tr>\n",
       "    <tr>\n",
       "      <th>24392</th>\n",
       "      <td>115602</td>\n",
       "      <td>Two Solutions for One Problem (Dow Rahehal Bar...</td>\n",
       "      <td>(no genres listed)</td>\n",
       "      <td>&lt;_sre.SRE_Match object at 0x10eff8920&gt;</td>\n",
       "      <td>Two Solutions for One Problem (Dow Rahehal Bar...</td>\n",
       "      <td>(1975)</td>\n",
       "      <td>1975</td>\n",
       "      <td>1</td>\n",
       "      <td>0</td>\n",
       "      <td>0</td>\n",
       "      <td>...</td>\n",
       "      <td>0</td>\n",
       "      <td>0</td>\n",
       "      <td>0</td>\n",
       "      <td>0</td>\n",
       "      <td>0</td>\n",
       "      <td>0</td>\n",
       "      <td>0</td>\n",
       "      <td>0</td>\n",
       "      <td>0</td>\n",
       "      <td>0</td>\n",
       "    </tr>\n",
       "    <tr>\n",
       "      <th>24523</th>\n",
       "      <td>116096</td>\n",
       "      <td>Lettera Amorosa (1995)</td>\n",
       "      <td>(no genres listed)</td>\n",
       "      <td>&lt;_sre.SRE_Match object at 0x10effc030&gt;</td>\n",
       "      <td>Lettera Amorosa</td>\n",
       "      <td>(1995)</td>\n",
       "      <td>1995</td>\n",
       "      <td>1</td>\n",
       "      <td>0</td>\n",
       "      <td>0</td>\n",
       "      <td>...</td>\n",
       "      <td>0</td>\n",
       "      <td>0</td>\n",
       "      <td>0</td>\n",
       "      <td>0</td>\n",
       "      <td>0</td>\n",
       "      <td>0</td>\n",
       "      <td>0</td>\n",
       "      <td>0</td>\n",
       "      <td>0</td>\n",
       "      <td>0</td>\n",
       "    </tr>\n",
       "    <tr>\n",
       "      <th>24524</th>\n",
       "      <td>116098</td>\n",
       "      <td>Passeio com Johnny Guitar (1996)</td>\n",
       "      <td>(no genres listed)</td>\n",
       "      <td>&lt;_sre.SRE_Match object at 0x10effc098&gt;</td>\n",
       "      <td>Passeio com Johnny Guitar</td>\n",
       "      <td>(1996)</td>\n",
       "      <td>1996</td>\n",
       "      <td>1</td>\n",
       "      <td>0</td>\n",
       "      <td>0</td>\n",
       "      <td>...</td>\n",
       "      <td>0</td>\n",
       "      <td>0</td>\n",
       "      <td>0</td>\n",
       "      <td>0</td>\n",
       "      <td>0</td>\n",
       "      <td>0</td>\n",
       "      <td>0</td>\n",
       "      <td>0</td>\n",
       "      <td>0</td>\n",
       "      <td>0</td>\n",
       "    </tr>\n",
       "    <tr>\n",
       "      <th>...</th>\n",
       "      <td>...</td>\n",
       "      <td>...</td>\n",
       "      <td>...</td>\n",
       "      <td>...</td>\n",
       "      <td>...</td>\n",
       "      <td>...</td>\n",
       "      <td>...</td>\n",
       "      <td>...</td>\n",
       "      <td>...</td>\n",
       "      <td>...</td>\n",
       "      <td>...</td>\n",
       "      <td>...</td>\n",
       "      <td>...</td>\n",
       "      <td>...</td>\n",
       "      <td>...</td>\n",
       "      <td>...</td>\n",
       "      <td>...</td>\n",
       "      <td>...</td>\n",
       "      <td>...</td>\n",
       "      <td>...</td>\n",
       "      <td>...</td>\n",
       "    </tr>\n",
       "    <tr>\n",
       "      <th>27041</th>\n",
       "      <td>129929</td>\n",
       "      <td>Autohystoria (2007)</td>\n",
       "      <td>(no genres listed)</td>\n",
       "      <td>&lt;_sre.SRE_Match object at 0x10f03df38&gt;</td>\n",
       "      <td>Autohystoria</td>\n",
       "      <td>(2007)</td>\n",
       "      <td>2007</td>\n",
       "      <td>1</td>\n",
       "      <td>0</td>\n",
       "      <td>0</td>\n",
       "      <td>...</td>\n",
       "      <td>0</td>\n",
       "      <td>0</td>\n",
       "      <td>0</td>\n",
       "      <td>0</td>\n",
       "      <td>0</td>\n",
       "      <td>0</td>\n",
       "      <td>0</td>\n",
       "      <td>0</td>\n",
       "      <td>0</td>\n",
       "      <td>0</td>\n",
       "    </tr>\n",
       "    <tr>\n",
       "      <th>27042</th>\n",
       "      <td>129931</td>\n",
       "      <td>La Morte Rouge (2006)</td>\n",
       "      <td>(no genres listed)</td>\n",
       "      <td>&lt;_sre.SRE_Match object at 0x10f03e030&gt;</td>\n",
       "      <td>La Morte Rouge</td>\n",
       "      <td>(2006)</td>\n",
       "      <td>2006</td>\n",
       "      <td>1</td>\n",
       "      <td>0</td>\n",
       "      <td>0</td>\n",
       "      <td>...</td>\n",
       "      <td>0</td>\n",
       "      <td>0</td>\n",
       "      <td>0</td>\n",
       "      <td>0</td>\n",
       "      <td>0</td>\n",
       "      <td>0</td>\n",
       "      <td>0</td>\n",
       "      <td>0</td>\n",
       "      <td>0</td>\n",
       "      <td>0</td>\n",
       "    </tr>\n",
       "    <tr>\n",
       "      <th>27051</th>\n",
       "      <td>129980</td>\n",
       "      <td>Password: Uccidete agente Gordon (1966)</td>\n",
       "      <td>(no genres listed)</td>\n",
       "      <td>&lt;_sre.SRE_Match object at 0x10f03e3d8&gt;</td>\n",
       "      <td>Password: Uccidete agente Gordon</td>\n",
       "      <td>(1966)</td>\n",
       "      <td>1966</td>\n",
       "      <td>1</td>\n",
       "      <td>0</td>\n",
       "      <td>0</td>\n",
       "      <td>...</td>\n",
       "      <td>0</td>\n",
       "      <td>0</td>\n",
       "      <td>0</td>\n",
       "      <td>0</td>\n",
       "      <td>0</td>\n",
       "      <td>0</td>\n",
       "      <td>0</td>\n",
       "      <td>0</td>\n",
       "      <td>0</td>\n",
       "      <td>0</td>\n",
       "    </tr>\n",
       "    <tr>\n",
       "      <th>27052</th>\n",
       "      <td>129996</td>\n",
       "      <td>One Man Against the Organization (1975)</td>\n",
       "      <td>(no genres listed)</td>\n",
       "      <td>&lt;_sre.SRE_Match object at 0x10f03e440&gt;</td>\n",
       "      <td>One Man Against the Organization</td>\n",
       "      <td>(1975)</td>\n",
       "      <td>1975</td>\n",
       "      <td>1</td>\n",
       "      <td>0</td>\n",
       "      <td>0</td>\n",
       "      <td>...</td>\n",
       "      <td>0</td>\n",
       "      <td>0</td>\n",
       "      <td>0</td>\n",
       "      <td>0</td>\n",
       "      <td>0</td>\n",
       "      <td>0</td>\n",
       "      <td>0</td>\n",
       "      <td>0</td>\n",
       "      <td>0</td>\n",
       "      <td>0</td>\n",
       "    </tr>\n",
       "    <tr>\n",
       "      <th>27063</th>\n",
       "      <td>130060</td>\n",
       "      <td>Des fleurs pour Algernon (2006)</td>\n",
       "      <td>(no genres listed)</td>\n",
       "      <td>&lt;_sre.SRE_Match object at 0x10f03e8b8&gt;</td>\n",
       "      <td>Des fleurs pour Algernon</td>\n",
       "      <td>(2006)</td>\n",
       "      <td>2006</td>\n",
       "      <td>1</td>\n",
       "      <td>0</td>\n",
       "      <td>0</td>\n",
       "      <td>...</td>\n",
       "      <td>0</td>\n",
       "      <td>0</td>\n",
       "      <td>0</td>\n",
       "      <td>0</td>\n",
       "      <td>0</td>\n",
       "      <td>0</td>\n",
       "      <td>0</td>\n",
       "      <td>0</td>\n",
       "      <td>0</td>\n",
       "      <td>0</td>\n",
       "    </tr>\n",
       "    <tr>\n",
       "      <th>27076</th>\n",
       "      <td>130089</td>\n",
       "      <td>Crazy Beautiful You (2015)</td>\n",
       "      <td>(no genres listed)</td>\n",
       "      <td>&lt;_sre.SRE_Match object at 0x10f03ee00&gt;</td>\n",
       "      <td>Crazy Beautiful You</td>\n",
       "      <td>(2015)</td>\n",
       "      <td>2015</td>\n",
       "      <td>1</td>\n",
       "      <td>0</td>\n",
       "      <td>0</td>\n",
       "      <td>...</td>\n",
       "      <td>0</td>\n",
       "      <td>0</td>\n",
       "      <td>0</td>\n",
       "      <td>0</td>\n",
       "      <td>0</td>\n",
       "      <td>0</td>\n",
       "      <td>0</td>\n",
       "      <td>0</td>\n",
       "      <td>0</td>\n",
       "      <td>0</td>\n",
       "    </tr>\n",
       "    <tr>\n",
       "      <th>27077</th>\n",
       "      <td>130204</td>\n",
       "      <td>Patty Hearst (1988)</td>\n",
       "      <td>(no genres listed)</td>\n",
       "      <td>&lt;_sre.SRE_Match object at 0x10f03ee68&gt;</td>\n",
       "      <td>Patty Hearst</td>\n",
       "      <td>(1988)</td>\n",
       "      <td>1988</td>\n",
       "      <td>1</td>\n",
       "      <td>0</td>\n",
       "      <td>0</td>\n",
       "      <td>...</td>\n",
       "      <td>0</td>\n",
       "      <td>0</td>\n",
       "      <td>0</td>\n",
       "      <td>0</td>\n",
       "      <td>0</td>\n",
       "      <td>0</td>\n",
       "      <td>0</td>\n",
       "      <td>0</td>\n",
       "      <td>0</td>\n",
       "      <td>0</td>\n",
       "    </tr>\n",
       "    <tr>\n",
       "      <th>27082</th>\n",
       "      <td>130296</td>\n",
       "      <td>A Fight For (2014)</td>\n",
       "      <td>(no genres listed)</td>\n",
       "      <td>&lt;_sre.SRE_Match object at 0x10f03f100&gt;</td>\n",
       "      <td>A Fight For</td>\n",
       "      <td>(2014)</td>\n",
       "      <td>2014</td>\n",
       "      <td>1</td>\n",
       "      <td>0</td>\n",
       "      <td>0</td>\n",
       "      <td>...</td>\n",
       "      <td>0</td>\n",
       "      <td>0</td>\n",
       "      <td>0</td>\n",
       "      <td>0</td>\n",
       "      <td>0</td>\n",
       "      <td>0</td>\n",
       "      <td>0</td>\n",
       "      <td>0</td>\n",
       "      <td>0</td>\n",
       "      <td>0</td>\n",
       "    </tr>\n",
       "    <tr>\n",
       "      <th>27083</th>\n",
       "      <td>130298</td>\n",
       "      <td>Pot v raj (2014)</td>\n",
       "      <td>(no genres listed)</td>\n",
       "      <td>&lt;_sre.SRE_Match object at 0x10f03f168&gt;</td>\n",
       "      <td>Pot v raj</td>\n",
       "      <td>(2014)</td>\n",
       "      <td>2014</td>\n",
       "      <td>1</td>\n",
       "      <td>0</td>\n",
       "      <td>0</td>\n",
       "      <td>...</td>\n",
       "      <td>0</td>\n",
       "      <td>0</td>\n",
       "      <td>0</td>\n",
       "      <td>0</td>\n",
       "      <td>0</td>\n",
       "      <td>0</td>\n",
       "      <td>0</td>\n",
       "      <td>0</td>\n",
       "      <td>0</td>\n",
       "      <td>0</td>\n",
       "    </tr>\n",
       "    <tr>\n",
       "      <th>27084</th>\n",
       "      <td>130324</td>\n",
       "      <td>The Strength of Water (2009)</td>\n",
       "      <td>(no genres listed)</td>\n",
       "      <td>&lt;_sre.SRE_Match object at 0x10f03f1d0&gt;</td>\n",
       "      <td>The Strength of Water</td>\n",
       "      <td>(2009)</td>\n",
       "      <td>2009</td>\n",
       "      <td>1</td>\n",
       "      <td>0</td>\n",
       "      <td>0</td>\n",
       "      <td>...</td>\n",
       "      <td>0</td>\n",
       "      <td>0</td>\n",
       "      <td>0</td>\n",
       "      <td>0</td>\n",
       "      <td>0</td>\n",
       "      <td>0</td>\n",
       "      <td>0</td>\n",
       "      <td>0</td>\n",
       "      <td>0</td>\n",
       "      <td>0</td>\n",
       "    </tr>\n",
       "    <tr>\n",
       "      <th>27089</th>\n",
       "      <td>130342</td>\n",
       "      <td>Ice Poison (2014)</td>\n",
       "      <td>(no genres listed)</td>\n",
       "      <td>&lt;_sre.SRE_Match object at 0x10f03f3d8&gt;</td>\n",
       "      <td>Ice Poison</td>\n",
       "      <td>(2014)</td>\n",
       "      <td>2014</td>\n",
       "      <td>1</td>\n",
       "      <td>0</td>\n",
       "      <td>0</td>\n",
       "      <td>...</td>\n",
       "      <td>0</td>\n",
       "      <td>0</td>\n",
       "      <td>0</td>\n",
       "      <td>0</td>\n",
       "      <td>0</td>\n",
       "      <td>0</td>\n",
       "      <td>0</td>\n",
       "      <td>0</td>\n",
       "      <td>0</td>\n",
       "      <td>0</td>\n",
       "    </tr>\n",
       "    <tr>\n",
       "      <th>27099</th>\n",
       "      <td>130386</td>\n",
       "      <td>Men in White (1998)</td>\n",
       "      <td>(no genres listed)</td>\n",
       "      <td>&lt;_sre.SRE_Match object at 0x10f03f7e8&gt;</td>\n",
       "      <td>Men in White</td>\n",
       "      <td>(1998)</td>\n",
       "      <td>1998</td>\n",
       "      <td>1</td>\n",
       "      <td>0</td>\n",
       "      <td>0</td>\n",
       "      <td>...</td>\n",
       "      <td>0</td>\n",
       "      <td>0</td>\n",
       "      <td>0</td>\n",
       "      <td>0</td>\n",
       "      <td>0</td>\n",
       "      <td>0</td>\n",
       "      <td>0</td>\n",
       "      <td>0</td>\n",
       "      <td>0</td>\n",
       "      <td>0</td>\n",
       "    </tr>\n",
       "    <tr>\n",
       "      <th>27109</th>\n",
       "      <td>130408</td>\n",
       "      <td>A Rumor Of War (1980)</td>\n",
       "      <td>(no genres listed)</td>\n",
       "      <td>&lt;_sre.SRE_Match object at 0x10f03fbf8&gt;</td>\n",
       "      <td>A Rumor Of War</td>\n",
       "      <td>(1980)</td>\n",
       "      <td>1980</td>\n",
       "      <td>1</td>\n",
       "      <td>0</td>\n",
       "      <td>0</td>\n",
       "      <td>...</td>\n",
       "      <td>0</td>\n",
       "      <td>0</td>\n",
       "      <td>0</td>\n",
       "      <td>0</td>\n",
       "      <td>0</td>\n",
       "      <td>0</td>\n",
       "      <td>0</td>\n",
       "      <td>0</td>\n",
       "      <td>0</td>\n",
       "      <td>0</td>\n",
       "    </tr>\n",
       "    <tr>\n",
       "      <th>27116</th>\n",
       "      <td>130462</td>\n",
       "      <td>The Boy (2015)</td>\n",
       "      <td>(no genres listed)</td>\n",
       "      <td>&lt;_sre.SRE_Match object at 0x10f03fe68&gt;</td>\n",
       "      <td>The Boy</td>\n",
       "      <td>(2015)</td>\n",
       "      <td>2015</td>\n",
       "      <td>1</td>\n",
       "      <td>0</td>\n",
       "      <td>0</td>\n",
       "      <td>...</td>\n",
       "      <td>0</td>\n",
       "      <td>0</td>\n",
       "      <td>0</td>\n",
       "      <td>0</td>\n",
       "      <td>0</td>\n",
       "      <td>0</td>\n",
       "      <td>0</td>\n",
       "      <td>0</td>\n",
       "      <td>0</td>\n",
       "      <td>0</td>\n",
       "    </tr>\n",
       "    <tr>\n",
       "      <th>27126</th>\n",
       "      <td>130500</td>\n",
       "      <td>Laissons Lucie faire ! (2000)</td>\n",
       "      <td>(no genres listed)</td>\n",
       "      <td>&lt;_sre.SRE_Match object at 0x10f040308&gt;</td>\n",
       "      <td>Laissons Lucie faire !</td>\n",
       "      <td>(2000)</td>\n",
       "      <td>2000</td>\n",
       "      <td>1</td>\n",
       "      <td>0</td>\n",
       "      <td>0</td>\n",
       "      <td>...</td>\n",
       "      <td>0</td>\n",
       "      <td>0</td>\n",
       "      <td>0</td>\n",
       "      <td>0</td>\n",
       "      <td>0</td>\n",
       "      <td>0</td>\n",
       "      <td>0</td>\n",
       "      <td>0</td>\n",
       "      <td>0</td>\n",
       "      <td>0</td>\n",
       "    </tr>\n",
       "    <tr>\n",
       "      <th>27127</th>\n",
       "      <td>130502</td>\n",
       "      <td>Venus &amp; Fleur (2004)</td>\n",
       "      <td>(no genres listed)</td>\n",
       "      <td>&lt;_sre.SRE_Match object at 0x10f040370&gt;</td>\n",
       "      <td>Venus &amp; Fleur</td>\n",
       "      <td>(2004)</td>\n",
       "      <td>2004</td>\n",
       "      <td>1</td>\n",
       "      <td>0</td>\n",
       "      <td>0</td>\n",
       "      <td>...</td>\n",
       "      <td>0</td>\n",
       "      <td>0</td>\n",
       "      <td>0</td>\n",
       "      <td>0</td>\n",
       "      <td>0</td>\n",
       "      <td>0</td>\n",
       "      <td>0</td>\n",
       "      <td>0</td>\n",
       "      <td>0</td>\n",
       "      <td>0</td>\n",
       "    </tr>\n",
       "    <tr>\n",
       "      <th>27140</th>\n",
       "      <td>130532</td>\n",
       "      <td>I giorni contati (1963)</td>\n",
       "      <td>(no genres listed)</td>\n",
       "      <td>&lt;_sre.SRE_Match object at 0x10f0408b8&gt;</td>\n",
       "      <td>I giorni contati</td>\n",
       "      <td>(1963)</td>\n",
       "      <td>1963</td>\n",
       "      <td>1</td>\n",
       "      <td>0</td>\n",
       "      <td>0</td>\n",
       "      <td>...</td>\n",
       "      <td>0</td>\n",
       "      <td>0</td>\n",
       "      <td>0</td>\n",
       "      <td>0</td>\n",
       "      <td>0</td>\n",
       "      <td>0</td>\n",
       "      <td>0</td>\n",
       "      <td>0</td>\n",
       "      <td>0</td>\n",
       "      <td>0</td>\n",
       "    </tr>\n",
       "    <tr>\n",
       "      <th>27157</th>\n",
       "      <td>130672</td>\n",
       "      <td>Slumber Party '57 (1976)</td>\n",
       "      <td>(no genres listed)</td>\n",
       "      <td>&lt;_sre.SRE_Match object at 0x10f041030&gt;</td>\n",
       "      <td>Slumber Party '57</td>\n",
       "      <td>(1976)</td>\n",
       "      <td>1976</td>\n",
       "      <td>1</td>\n",
       "      <td>0</td>\n",
       "      <td>0</td>\n",
       "      <td>...</td>\n",
       "      <td>0</td>\n",
       "      <td>0</td>\n",
       "      <td>0</td>\n",
       "      <td>0</td>\n",
       "      <td>0</td>\n",
       "      <td>0</td>\n",
       "      <td>0</td>\n",
       "      <td>0</td>\n",
       "      <td>0</td>\n",
       "      <td>0</td>\n",
       "    </tr>\n",
       "    <tr>\n",
       "      <th>27165</th>\n",
       "      <td>130834</td>\n",
       "      <td>Dancers (1987)</td>\n",
       "      <td>(no genres listed)</td>\n",
       "      <td>&lt;_sre.SRE_Match object at 0x10f041370&gt;</td>\n",
       "      <td>Dancers</td>\n",
       "      <td>(1987)</td>\n",
       "      <td>1987</td>\n",
       "      <td>1</td>\n",
       "      <td>0</td>\n",
       "      <td>0</td>\n",
       "      <td>...</td>\n",
       "      <td>0</td>\n",
       "      <td>0</td>\n",
       "      <td>0</td>\n",
       "      <td>0</td>\n",
       "      <td>0</td>\n",
       "      <td>0</td>\n",
       "      <td>0</td>\n",
       "      <td>0</td>\n",
       "      <td>0</td>\n",
       "      <td>0</td>\n",
       "    </tr>\n",
       "    <tr>\n",
       "      <th>27171</th>\n",
       "      <td>130852</td>\n",
       "      <td>Brothers on the Line (2012)</td>\n",
       "      <td>(no genres listed)</td>\n",
       "      <td>&lt;_sre.SRE_Match object at 0x10f0415e0&gt;</td>\n",
       "      <td>Brothers on the Line</td>\n",
       "      <td>(2012)</td>\n",
       "      <td>2012</td>\n",
       "      <td>1</td>\n",
       "      <td>0</td>\n",
       "      <td>0</td>\n",
       "      <td>...</td>\n",
       "      <td>0</td>\n",
       "      <td>0</td>\n",
       "      <td>0</td>\n",
       "      <td>0</td>\n",
       "      <td>0</td>\n",
       "      <td>0</td>\n",
       "      <td>0</td>\n",
       "      <td>0</td>\n",
       "      <td>0</td>\n",
       "      <td>0</td>\n",
       "    </tr>\n",
       "    <tr>\n",
       "      <th>27173</th>\n",
       "      <td>130878</td>\n",
       "      <td>Doppelgänger Paul (2012)</td>\n",
       "      <td>(no genres listed)</td>\n",
       "      <td>&lt;_sre.SRE_Match object at 0x10f0416b0&gt;</td>\n",
       "      <td>Doppelgänger Paul</td>\n",
       "      <td>(2012)</td>\n",
       "      <td>2012</td>\n",
       "      <td>1</td>\n",
       "      <td>0</td>\n",
       "      <td>0</td>\n",
       "      <td>...</td>\n",
       "      <td>0</td>\n",
       "      <td>0</td>\n",
       "      <td>0</td>\n",
       "      <td>0</td>\n",
       "      <td>0</td>\n",
       "      <td>0</td>\n",
       "      <td>0</td>\n",
       "      <td>0</td>\n",
       "      <td>0</td>\n",
       "      <td>0</td>\n",
       "    </tr>\n",
       "    <tr>\n",
       "      <th>27179</th>\n",
       "      <td>130962</td>\n",
       "      <td>Musikanten (2006)</td>\n",
       "      <td>(no genres listed)</td>\n",
       "      <td>&lt;_sre.SRE_Match object at 0x10f041920&gt;</td>\n",
       "      <td>Musikanten</td>\n",
       "      <td>(2006)</td>\n",
       "      <td>2006</td>\n",
       "      <td>1</td>\n",
       "      <td>0</td>\n",
       "      <td>0</td>\n",
       "      <td>...</td>\n",
       "      <td>0</td>\n",
       "      <td>0</td>\n",
       "      <td>0</td>\n",
       "      <td>0</td>\n",
       "      <td>0</td>\n",
       "      <td>0</td>\n",
       "      <td>0</td>\n",
       "      <td>0</td>\n",
       "      <td>0</td>\n",
       "      <td>0</td>\n",
       "    </tr>\n",
       "    <tr>\n",
       "      <th>27196</th>\n",
       "      <td>131021</td>\n",
       "      <td>Filmistaan (2014)</td>\n",
       "      <td>(no genres listed)</td>\n",
       "      <td>&lt;_sre.SRE_Match object at 0x10f042098&gt;</td>\n",
       "      <td>Filmistaan</td>\n",
       "      <td>(2014)</td>\n",
       "      <td>2014</td>\n",
       "      <td>1</td>\n",
       "      <td>0</td>\n",
       "      <td>0</td>\n",
       "      <td>...</td>\n",
       "      <td>0</td>\n",
       "      <td>0</td>\n",
       "      <td>0</td>\n",
       "      <td>0</td>\n",
       "      <td>0</td>\n",
       "      <td>0</td>\n",
       "      <td>0</td>\n",
       "      <td>0</td>\n",
       "      <td>0</td>\n",
       "      <td>0</td>\n",
       "    </tr>\n",
       "    <tr>\n",
       "      <th>27200</th>\n",
       "      <td>131031</td>\n",
       "      <td>La liga no es cosa de hombres (1972)</td>\n",
       "      <td>(no genres listed)</td>\n",
       "      <td>&lt;_sre.SRE_Match object at 0x10f042238&gt;</td>\n",
       "      <td>La liga no es cosa de hombres</td>\n",
       "      <td>(1972)</td>\n",
       "      <td>1972</td>\n",
       "      <td>1</td>\n",
       "      <td>0</td>\n",
       "      <td>0</td>\n",
       "      <td>...</td>\n",
       "      <td>0</td>\n",
       "      <td>0</td>\n",
       "      <td>0</td>\n",
       "      <td>0</td>\n",
       "      <td>0</td>\n",
       "      <td>0</td>\n",
       "      <td>0</td>\n",
       "      <td>0</td>\n",
       "      <td>0</td>\n",
       "      <td>0</td>\n",
       "    </tr>\n",
       "    <tr>\n",
       "      <th>27214</th>\n",
       "      <td>131078</td>\n",
       "      <td>Benjamin Blümchen - Seine schönsten Abenteuer ...</td>\n",
       "      <td>(no genres listed)</td>\n",
       "      <td>&lt;_sre.SRE_Match object at 0x10f0427e8&gt;</td>\n",
       "      <td>Benjamin Blümchen - Seine schönsten Abenteuer</td>\n",
       "      <td>(2006)</td>\n",
       "      <td>2006</td>\n",
       "      <td>1</td>\n",
       "      <td>0</td>\n",
       "      <td>0</td>\n",
       "      <td>...</td>\n",
       "      <td>0</td>\n",
       "      <td>0</td>\n",
       "      <td>0</td>\n",
       "      <td>0</td>\n",
       "      <td>0</td>\n",
       "      <td>0</td>\n",
       "      <td>0</td>\n",
       "      <td>0</td>\n",
       "      <td>0</td>\n",
       "      <td>0</td>\n",
       "    </tr>\n",
       "    <tr>\n",
       "      <th>27216</th>\n",
       "      <td>131082</td>\n",
       "      <td>Playground (2009)</td>\n",
       "      <td>(no genres listed)</td>\n",
       "      <td>&lt;_sre.SRE_Match object at 0x10f0428b8&gt;</td>\n",
       "      <td>Playground</td>\n",
       "      <td>(2009)</td>\n",
       "      <td>2009</td>\n",
       "      <td>1</td>\n",
       "      <td>0</td>\n",
       "      <td>0</td>\n",
       "      <td>...</td>\n",
       "      <td>0</td>\n",
       "      <td>0</td>\n",
       "      <td>0</td>\n",
       "      <td>0</td>\n",
       "      <td>0</td>\n",
       "      <td>0</td>\n",
       "      <td>0</td>\n",
       "      <td>0</td>\n",
       "      <td>0</td>\n",
       "      <td>0</td>\n",
       "    </tr>\n",
       "    <tr>\n",
       "      <th>27229</th>\n",
       "      <td>131108</td>\n",
       "      <td>The Fearless Four (1997)</td>\n",
       "      <td>(no genres listed)</td>\n",
       "      <td>&lt;_sre.SRE_Match object at 0x10f042e00&gt;</td>\n",
       "      <td>The Fearless Four</td>\n",
       "      <td>(1997)</td>\n",
       "      <td>1997</td>\n",
       "      <td>1</td>\n",
       "      <td>0</td>\n",
       "      <td>0</td>\n",
       "      <td>...</td>\n",
       "      <td>0</td>\n",
       "      <td>0</td>\n",
       "      <td>0</td>\n",
       "      <td>0</td>\n",
       "      <td>0</td>\n",
       "      <td>0</td>\n",
       "      <td>0</td>\n",
       "      <td>0</td>\n",
       "      <td>0</td>\n",
       "      <td>0</td>\n",
       "    </tr>\n",
       "    <tr>\n",
       "      <th>27258</th>\n",
       "      <td>131166</td>\n",
       "      <td>WWII IN HD (2009)</td>\n",
       "      <td>(no genres listed)</td>\n",
       "      <td>&lt;_sre.SRE_Match object at 0x10f043a58&gt;</td>\n",
       "      <td>WWII IN HD</td>\n",
       "      <td>(2009)</td>\n",
       "      <td>2009</td>\n",
       "      <td>1</td>\n",
       "      <td>0</td>\n",
       "      <td>0</td>\n",
       "      <td>...</td>\n",
       "      <td>0</td>\n",
       "      <td>0</td>\n",
       "      <td>0</td>\n",
       "      <td>0</td>\n",
       "      <td>0</td>\n",
       "      <td>0</td>\n",
       "      <td>0</td>\n",
       "      <td>0</td>\n",
       "      <td>0</td>\n",
       "      <td>0</td>\n",
       "    </tr>\n",
       "    <tr>\n",
       "      <th>27261</th>\n",
       "      <td>131172</td>\n",
       "      <td>Closed Curtain (2013)</td>\n",
       "      <td>(no genres listed)</td>\n",
       "      <td>&lt;_sre.SRE_Match object at 0x10f043b90&gt;</td>\n",
       "      <td>Closed Curtain</td>\n",
       "      <td>(2013)</td>\n",
       "      <td>2013</td>\n",
       "      <td>1</td>\n",
       "      <td>0</td>\n",
       "      <td>0</td>\n",
       "      <td>...</td>\n",
       "      <td>0</td>\n",
       "      <td>0</td>\n",
       "      <td>0</td>\n",
       "      <td>0</td>\n",
       "      <td>0</td>\n",
       "      <td>0</td>\n",
       "      <td>0</td>\n",
       "      <td>0</td>\n",
       "      <td>0</td>\n",
       "      <td>0</td>\n",
       "    </tr>\n",
       "    <tr>\n",
       "      <th>27276</th>\n",
       "      <td>131260</td>\n",
       "      <td>Rentun Ruusu (2001)</td>\n",
       "      <td>(no genres listed)</td>\n",
       "      <td>&lt;_sre.SRE_Match object at 0x10f044238&gt;</td>\n",
       "      <td>Rentun Ruusu</td>\n",
       "      <td>(2001)</td>\n",
       "      <td>2001</td>\n",
       "      <td>1</td>\n",
       "      <td>0</td>\n",
       "      <td>0</td>\n",
       "      <td>...</td>\n",
       "      <td>0</td>\n",
       "      <td>0</td>\n",
       "      <td>0</td>\n",
       "      <td>0</td>\n",
       "      <td>0</td>\n",
       "      <td>0</td>\n",
       "      <td>0</td>\n",
       "      <td>0</td>\n",
       "      <td>0</td>\n",
       "      <td>0</td>\n",
       "    </tr>\n",
       "  </tbody>\n",
       "</table>\n",
       "<p>237 rows × 27 columns</p>\n",
       "</div>"
      ],
      "text/plain": [
       "       movieId                                              title  \\\n",
       "16574    83773              Away with Words (San tiao ren) (1999)   \n",
       "16589    83829                              Scorpio Rising (1964)   \n",
       "16764    84768                                  Glitterbug (1994)   \n",
       "17080    86493    Age of the Earth, The (A Idade da Terra) (1980)   \n",
       "17243    87061                            Trails (Veredas) (1978)   \n",
       "18246    91246                           Milky Way (Tejút) (2007)   \n",
       "18566    92435       Dancing Hawk, The (Tanczacy jastrzab) (1978)   \n",
       "18606    92641            Warsaw Bridge (Pont de Varsòvia) (1990)   \n",
       "18984    94431                      Ella Lola, a la Trilby (1898)   \n",
       "19015    94657                    Turkish Dance, Ella Lola (1898)   \n",
       "19213    95541                            Blacksmith Scene (1893)   \n",
       "19260    95750      Promise of the Flesh (Yukcheui yaksok) (1975)   \n",
       "19429    96479                                 Nocturno 29 (1968)   \n",
       "19485    96651                        Les hautes solitudes (1974)   \n",
       "20458   100294                                      Désiré (1992)   \n",
       "23892   113472                        Direct from Brooklyn (1999)   \n",
       "23912   113545         Primus Hallucino-Genetics Live 2004 (2004)   \n",
       "24116   114335                                  La cravate (1957)   \n",
       "24167   114587            Glumov's Diary (Dnevnik Glumova) (1923)   \n",
       "24205   114723                                     At Land (1944)   \n",
       "24206   114725         Study in Choreography for Camera, A (1945)   \n",
       "24238   114877                                    Guernica (1950)   \n",
       "24263   115004             It's My Mother's Birthday Today (2008)   \n",
       "24264   115006                              Spare Bed-Room (1969)   \n",
       "24357   115419                              Maria (Mariya) (1989)   \n",
       "24362   115441  (Absolutions) Pipilotti's Mistakes ((Entlastun...   \n",
       "24378   115529                               Judgement Day (1983)   \n",
       "24392   115602  Two Solutions for One Problem (Dow Rahehal Bar...   \n",
       "24523   116096                             Lettera Amorosa (1995)   \n",
       "24524   116098                   Passeio com Johnny Guitar (1996)   \n",
       "...        ...                                                ...   \n",
       "27041   129929                                Autohystoria (2007)   \n",
       "27042   129931                              La Morte Rouge (2006)   \n",
       "27051   129980            Password: Uccidete agente Gordon (1966)   \n",
       "27052   129996            One Man Against the Organization (1975)   \n",
       "27063   130060                    Des fleurs pour Algernon (2006)   \n",
       "27076   130089                         Crazy Beautiful You (2015)   \n",
       "27077   130204                                Patty Hearst (1988)   \n",
       "27082   130296                                 A Fight For (2014)   \n",
       "27083   130298                                   Pot v raj (2014)   \n",
       "27084   130324                       The Strength of Water (2009)   \n",
       "27089   130342                                  Ice Poison (2014)   \n",
       "27099   130386                                Men in White (1998)   \n",
       "27109   130408                              A Rumor Of War (1980)   \n",
       "27116   130462                                     The Boy (2015)   \n",
       "27126   130500                      Laissons Lucie faire ! (2000)   \n",
       "27127   130502                               Venus & Fleur (2004)   \n",
       "27140   130532                            I giorni contati (1963)   \n",
       "27157   130672                           Slumber Party '57 (1976)   \n",
       "27165   130834                                     Dancers (1987)   \n",
       "27171   130852                        Brothers on the Line (2012)   \n",
       "27173   130878                           Doppelgänger Paul (2012)   \n",
       "27179   130962                                  Musikanten (2006)   \n",
       "27196   131021                                  Filmistaan (2014)   \n",
       "27200   131031               La liga no es cosa de hombres (1972)   \n",
       "27214   131078  Benjamin Blümchen - Seine schönsten Abenteuer ...   \n",
       "27216   131082                                  Playground (2009)   \n",
       "27229   131108                           The Fearless Four (1997)   \n",
       "27258   131166                                  WWII IN HD (2009)   \n",
       "27261   131172                              Closed Curtain (2013)   \n",
       "27276   131260                                Rentun Ruusu (2001)   \n",
       "\n",
       "                   genres                            title_format  \\\n",
       "16574  (no genres listed)  <_sre.SRE_Match object at 0x10e5c3098>   \n",
       "16589  (no genres listed)  <_sre.SRE_Match object at 0x10e5c36b0>   \n",
       "16764  (no genres listed)  <_sre.SRE_Match object at 0x10e5c8098>   \n",
       "17080  (no genres listed)  <_sre.SRE_Match object at 0x10e5d0578>   \n",
       "17243  (no genres listed)  <_sre.SRE_Match object at 0x10e5d49f0>   \n",
       "18246  (no genres listed)  <_sre.SRE_Match object at 0x10e5ef030>   \n",
       "18566  (no genres listed)  <_sre.SRE_Match object at 0x10e5f76b0>   \n",
       "18606  (no genres listed)  <_sre.SRE_Match object at 0x10ef60780>   \n",
       "18984  (no genres listed)  <_sre.SRE_Match object at 0x10ef6a6b0>   \n",
       "19015  (no genres listed)  <_sre.SRE_Match object at 0x10ef6b3d8>   \n",
       "19213  (no genres listed)  <_sre.SRE_Match object at 0x10ef70718>   \n",
       "19260  (no genres listed)  <_sre.SRE_Match object at 0x10ef71ac0>   \n",
       "19429  (no genres listed)  <_sre.SRE_Match object at 0x10ef76238>   \n",
       "19485  (no genres listed)  <_sre.SRE_Match object at 0x10ef77988>   \n",
       "20458  (no genres listed)  <_sre.SRE_Match object at 0x10ef91370>   \n",
       "23892  (no genres listed)  <_sre.SRE_Match object at 0x10efeb718>   \n",
       "23912  (no genres listed)  <_sre.SRE_Match object at 0x10efebf38>   \n",
       "24116  (no genres listed)  <_sre.SRE_Match object at 0x10eff1578>   \n",
       "24167  (no genres listed)  <_sre.SRE_Match object at 0x10eff2ac0>   \n",
       "24205  (no genres listed)  <_sre.SRE_Match object at 0x10eff3ac0>   \n",
       "24206  (no genres listed)  <_sre.SRE_Match object at 0x10eff3b28>   \n",
       "24238  (no genres listed)  <_sre.SRE_Match object at 0x10eff48b8>   \n",
       "24263  (no genres listed)  <_sre.SRE_Match object at 0x10eff5370>   \n",
       "24264  (no genres listed)  <_sre.SRE_Match object at 0x10eff53d8>   \n",
       "24357  (no genres listed)  <_sre.SRE_Match object at 0x10eff7a58>   \n",
       "24362  (no genres listed)  <_sre.SRE_Match object at 0x10eff7c60>   \n",
       "24378  (no genres listed)  <_sre.SRE_Match object at 0x10eff8370>   \n",
       "24392  (no genres listed)  <_sre.SRE_Match object at 0x10eff8920>   \n",
       "24523  (no genres listed)  <_sre.SRE_Match object at 0x10effc030>   \n",
       "24524  (no genres listed)  <_sre.SRE_Match object at 0x10effc098>   \n",
       "...                   ...                                     ...   \n",
       "27041  (no genres listed)  <_sre.SRE_Match object at 0x10f03df38>   \n",
       "27042  (no genres listed)  <_sre.SRE_Match object at 0x10f03e030>   \n",
       "27051  (no genres listed)  <_sre.SRE_Match object at 0x10f03e3d8>   \n",
       "27052  (no genres listed)  <_sre.SRE_Match object at 0x10f03e440>   \n",
       "27063  (no genres listed)  <_sre.SRE_Match object at 0x10f03e8b8>   \n",
       "27076  (no genres listed)  <_sre.SRE_Match object at 0x10f03ee00>   \n",
       "27077  (no genres listed)  <_sre.SRE_Match object at 0x10f03ee68>   \n",
       "27082  (no genres listed)  <_sre.SRE_Match object at 0x10f03f100>   \n",
       "27083  (no genres listed)  <_sre.SRE_Match object at 0x10f03f168>   \n",
       "27084  (no genres listed)  <_sre.SRE_Match object at 0x10f03f1d0>   \n",
       "27089  (no genres listed)  <_sre.SRE_Match object at 0x10f03f3d8>   \n",
       "27099  (no genres listed)  <_sre.SRE_Match object at 0x10f03f7e8>   \n",
       "27109  (no genres listed)  <_sre.SRE_Match object at 0x10f03fbf8>   \n",
       "27116  (no genres listed)  <_sre.SRE_Match object at 0x10f03fe68>   \n",
       "27126  (no genres listed)  <_sre.SRE_Match object at 0x10f040308>   \n",
       "27127  (no genres listed)  <_sre.SRE_Match object at 0x10f040370>   \n",
       "27140  (no genres listed)  <_sre.SRE_Match object at 0x10f0408b8>   \n",
       "27157  (no genres listed)  <_sre.SRE_Match object at 0x10f041030>   \n",
       "27165  (no genres listed)  <_sre.SRE_Match object at 0x10f041370>   \n",
       "27171  (no genres listed)  <_sre.SRE_Match object at 0x10f0415e0>   \n",
       "27173  (no genres listed)  <_sre.SRE_Match object at 0x10f0416b0>   \n",
       "27179  (no genres listed)  <_sre.SRE_Match object at 0x10f041920>   \n",
       "27196  (no genres listed)  <_sre.SRE_Match object at 0x10f042098>   \n",
       "27200  (no genres listed)  <_sre.SRE_Match object at 0x10f042238>   \n",
       "27214  (no genres listed)  <_sre.SRE_Match object at 0x10f0427e8>   \n",
       "27216  (no genres listed)  <_sre.SRE_Match object at 0x10f0428b8>   \n",
       "27229  (no genres listed)  <_sre.SRE_Match object at 0x10f042e00>   \n",
       "27258  (no genres listed)  <_sre.SRE_Match object at 0x10f043a58>   \n",
       "27261  (no genres listed)  <_sre.SRE_Match object at 0x10f043b90>   \n",
       "27276  (no genres listed)  <_sre.SRE_Match object at 0x10f044238>   \n",
       "\n",
       "                                              title_name    year  \\\n",
       "16574                    Away with Words (San tiao ren)   (1999)   \n",
       "16589                                    Scorpio Rising   (1964)   \n",
       "16764                                        Glitterbug   (1994)   \n",
       "17080          Age of the Earth, The (A Idade da Terra)   (1980)   \n",
       "17243                                  Trails (Veredas)   (1978)   \n",
       "18246                                 Milky Way (Tejút)   (2007)   \n",
       "18566             Dancing Hawk, The (Tanczacy jastrzab)   (1978)   \n",
       "18606                  Warsaw Bridge (Pont de Varsòvia)   (1990)   \n",
       "18984                            Ella Lola, a la Trilby   (1898)   \n",
       "19015                          Turkish Dance, Ella Lola   (1898)   \n",
       "19213                                  Blacksmith Scene   (1893)   \n",
       "19260            Promise of the Flesh (Yukcheui yaksok)   (1975)   \n",
       "19429                                       Nocturno 29   (1968)   \n",
       "19485                              Les hautes solitudes   (1974)   \n",
       "20458                                            Désiré   (1992)   \n",
       "23892                              Direct from Brooklyn   (1999)   \n",
       "23912               Primus Hallucino-Genetics Live 2004   (2004)   \n",
       "24116                                        La cravate   (1957)   \n",
       "24167                  Glumov's Diary (Dnevnik Glumova)   (1923)   \n",
       "24205                                           At Land   (1944)   \n",
       "24206               Study in Choreography for Camera, A   (1945)   \n",
       "24238                                          Guernica   (1950)   \n",
       "24263                   It's My Mother's Birthday Today   (2008)   \n",
       "24264                                    Spare Bed-Room   (1969)   \n",
       "24357                                    Maria (Mariya)   (1989)   \n",
       "24362  (Absolutions) Pipilotti's Mistakes ((Entlastun...  (1988)   \n",
       "24378                                     Judgement Day   (1983)   \n",
       "24392  Two Solutions for One Problem (Dow Rahehal Bar...  (1975)   \n",
       "24523                                   Lettera Amorosa   (1995)   \n",
       "24524                         Passeio com Johnny Guitar   (1996)   \n",
       "...                                                  ...     ...   \n",
       "27041                                      Autohystoria   (2007)   \n",
       "27042                                    La Morte Rouge   (2006)   \n",
       "27051                  Password: Uccidete agente Gordon   (1966)   \n",
       "27052                  One Man Against the Organization   (1975)   \n",
       "27063                          Des fleurs pour Algernon   (2006)   \n",
       "27076                               Crazy Beautiful You   (2015)   \n",
       "27077                                      Patty Hearst   (1988)   \n",
       "27082                                       A Fight For   (2014)   \n",
       "27083                                         Pot v raj   (2014)   \n",
       "27084                             The Strength of Water   (2009)   \n",
       "27089                                        Ice Poison   (2014)   \n",
       "27099                                      Men in White   (1998)   \n",
       "27109                                    A Rumor Of War   (1980)   \n",
       "27116                                           The Boy   (2015)   \n",
       "27126                            Laissons Lucie faire !   (2000)   \n",
       "27127                                     Venus & Fleur   (2004)   \n",
       "27140                                  I giorni contati   (1963)   \n",
       "27157                                 Slumber Party '57   (1976)   \n",
       "27165                                           Dancers   (1987)   \n",
       "27171                              Brothers on the Line   (2012)   \n",
       "27173                                 Doppelgänger Paul   (2012)   \n",
       "27179                                        Musikanten   (2006)   \n",
       "27196                                        Filmistaan   (2014)   \n",
       "27200                     La liga no es cosa de hombres   (1972)   \n",
       "27214     Benjamin Blümchen - Seine schönsten Abenteuer   (2006)   \n",
       "27216                                        Playground   (2009)   \n",
       "27229                                 The Fearless Four   (1997)   \n",
       "27258                                        WWII IN HD   (2009)   \n",
       "27261                                    Closed Curtain   (2013)   \n",
       "27276                                      Rentun Ruusu   (2001)   \n",
       "\n",
       "      released_year  (no genres listed)  Action  Adventure   ...     \\\n",
       "16574          1999                   1       0          0   ...      \n",
       "16589          1964                   1       0          0   ...      \n",
       "16764          1994                   1       0          0   ...      \n",
       "17080          1980                   1       0          0   ...      \n",
       "17243          1978                   1       0          0   ...      \n",
       "18246          2007                   1       0          0   ...      \n",
       "18566          1978                   1       0          0   ...      \n",
       "18606          1990                   1       0          0   ...      \n",
       "18984          1898                   1       0          0   ...      \n",
       "19015          1898                   1       0          0   ...      \n",
       "19213          1893                   1       0          0   ...      \n",
       "19260          1975                   1       0          0   ...      \n",
       "19429          1968                   1       0          0   ...      \n",
       "19485          1974                   1       0          0   ...      \n",
       "20458          1992                   1       0          0   ...      \n",
       "23892          1999                   1       0          0   ...      \n",
       "23912          2004                   1       0          0   ...      \n",
       "24116          1957                   1       0          0   ...      \n",
       "24167          1923                   1       0          0   ...      \n",
       "24205          1944                   1       0          0   ...      \n",
       "24206          1945                   1       0          0   ...      \n",
       "24238          1950                   1       0          0   ...      \n",
       "24263          2008                   1       0          0   ...      \n",
       "24264          1969                   1       0          0   ...      \n",
       "24357          1989                   1       0          0   ...      \n",
       "24362          1988                   1       0          0   ...      \n",
       "24378          1983                   1       0          0   ...      \n",
       "24392          1975                   1       0          0   ...      \n",
       "24523          1995                   1       0          0   ...      \n",
       "24524          1996                   1       0          0   ...      \n",
       "...             ...                 ...     ...        ...   ...      \n",
       "27041          2007                   1       0          0   ...      \n",
       "27042          2006                   1       0          0   ...      \n",
       "27051          1966                   1       0          0   ...      \n",
       "27052          1975                   1       0          0   ...      \n",
       "27063          2006                   1       0          0   ...      \n",
       "27076          2015                   1       0          0   ...      \n",
       "27077          1988                   1       0          0   ...      \n",
       "27082          2014                   1       0          0   ...      \n",
       "27083          2014                   1       0          0   ...      \n",
       "27084          2009                   1       0          0   ...      \n",
       "27089          2014                   1       0          0   ...      \n",
       "27099          1998                   1       0          0   ...      \n",
       "27109          1980                   1       0          0   ...      \n",
       "27116          2015                   1       0          0   ...      \n",
       "27126          2000                   1       0          0   ...      \n",
       "27127          2004                   1       0          0   ...      \n",
       "27140          1963                   1       0          0   ...      \n",
       "27157          1976                   1       0          0   ...      \n",
       "27165          1987                   1       0          0   ...      \n",
       "27171          2012                   1       0          0   ...      \n",
       "27173          2012                   1       0          0   ...      \n",
       "27179          2006                   1       0          0   ...      \n",
       "27196          2014                   1       0          0   ...      \n",
       "27200          1972                   1       0          0   ...      \n",
       "27214          2006                   1       0          0   ...      \n",
       "27216          2009                   1       0          0   ...      \n",
       "27229          1997                   1       0          0   ...      \n",
       "27258          2009                   1       0          0   ...      \n",
       "27261          2013                   1       0          0   ...      \n",
       "27276          2001                   1       0          0   ...      \n",
       "\n",
       "       Film-Noir  Horror  IMAX  Musical  Mystery  Romance  Sci-Fi  Thriller  \\\n",
       "16574          0       0     0        0        0        0       0         0   \n",
       "16589          0       0     0        0        0        0       0         0   \n",
       "16764          0       0     0        0        0        0       0         0   \n",
       "17080          0       0     0        0        0        0       0         0   \n",
       "17243          0       0     0        0        0        0       0         0   \n",
       "18246          0       0     0        0        0        0       0         0   \n",
       "18566          0       0     0        0        0        0       0         0   \n",
       "18606          0       0     0        0        0        0       0         0   \n",
       "18984          0       0     0        0        0        0       0         0   \n",
       "19015          0       0     0        0        0        0       0         0   \n",
       "19213          0       0     0        0        0        0       0         0   \n",
       "19260          0       0     0        0        0        0       0         0   \n",
       "19429          0       0     0        0        0        0       0         0   \n",
       "19485          0       0     0        0        0        0       0         0   \n",
       "20458          0       0     0        0        0        0       0         0   \n",
       "23892          0       0     0        0        0        0       0         0   \n",
       "23912          0       0     0        0        0        0       0         0   \n",
       "24116          0       0     0        0        0        0       0         0   \n",
       "24167          0       0     0        0        0        0       0         0   \n",
       "24205          0       0     0        0        0        0       0         0   \n",
       "24206          0       0     0        0        0        0       0         0   \n",
       "24238          0       0     0        0        0        0       0         0   \n",
       "24263          0       0     0        0        0        0       0         0   \n",
       "24264          0       0     0        0        0        0       0         0   \n",
       "24357          0       0     0        0        0        0       0         0   \n",
       "24362          0       0     0        0        0        0       0         0   \n",
       "24378          0       0     0        0        0        0       0         0   \n",
       "24392          0       0     0        0        0        0       0         0   \n",
       "24523          0       0     0        0        0        0       0         0   \n",
       "24524          0       0     0        0        0        0       0         0   \n",
       "...          ...     ...   ...      ...      ...      ...     ...       ...   \n",
       "27041          0       0     0        0        0        0       0         0   \n",
       "27042          0       0     0        0        0        0       0         0   \n",
       "27051          0       0     0        0        0        0       0         0   \n",
       "27052          0       0     0        0        0        0       0         0   \n",
       "27063          0       0     0        0        0        0       0         0   \n",
       "27076          0       0     0        0        0        0       0         0   \n",
       "27077          0       0     0        0        0        0       0         0   \n",
       "27082          0       0     0        0        0        0       0         0   \n",
       "27083          0       0     0        0        0        0       0         0   \n",
       "27084          0       0     0        0        0        0       0         0   \n",
       "27089          0       0     0        0        0        0       0         0   \n",
       "27099          0       0     0        0        0        0       0         0   \n",
       "27109          0       0     0        0        0        0       0         0   \n",
       "27116          0       0     0        0        0        0       0         0   \n",
       "27126          0       0     0        0        0        0       0         0   \n",
       "27127          0       0     0        0        0        0       0         0   \n",
       "27140          0       0     0        0        0        0       0         0   \n",
       "27157          0       0     0        0        0        0       0         0   \n",
       "27165          0       0     0        0        0        0       0         0   \n",
       "27171          0       0     0        0        0        0       0         0   \n",
       "27173          0       0     0        0        0        0       0         0   \n",
       "27179          0       0     0        0        0        0       0         0   \n",
       "27196          0       0     0        0        0        0       0         0   \n",
       "27200          0       0     0        0        0        0       0         0   \n",
       "27214          0       0     0        0        0        0       0         0   \n",
       "27216          0       0     0        0        0        0       0         0   \n",
       "27229          0       0     0        0        0        0       0         0   \n",
       "27258          0       0     0        0        0        0       0         0   \n",
       "27261          0       0     0        0        0        0       0         0   \n",
       "27276          0       0     0        0        0        0       0         0   \n",
       "\n",
       "       War  Western  \n",
       "16574    0        0  \n",
       "16589    0        0  \n",
       "16764    0        0  \n",
       "17080    0        0  \n",
       "17243    0        0  \n",
       "18246    0        0  \n",
       "18566    0        0  \n",
       "18606    0        0  \n",
       "18984    0        0  \n",
       "19015    0        0  \n",
       "19213    0        0  \n",
       "19260    0        0  \n",
       "19429    0        0  \n",
       "19485    0        0  \n",
       "20458    0        0  \n",
       "23892    0        0  \n",
       "23912    0        0  \n",
       "24116    0        0  \n",
       "24167    0        0  \n",
       "24205    0        0  \n",
       "24206    0        0  \n",
       "24238    0        0  \n",
       "24263    0        0  \n",
       "24264    0        0  \n",
       "24357    0        0  \n",
       "24362    0        0  \n",
       "24378    0        0  \n",
       "24392    0        0  \n",
       "24523    0        0  \n",
       "24524    0        0  \n",
       "...    ...      ...  \n",
       "27041    0        0  \n",
       "27042    0        0  \n",
       "27051    0        0  \n",
       "27052    0        0  \n",
       "27063    0        0  \n",
       "27076    0        0  \n",
       "27077    0        0  \n",
       "27082    0        0  \n",
       "27083    0        0  \n",
       "27084    0        0  \n",
       "27089    0        0  \n",
       "27099    0        0  \n",
       "27109    0        0  \n",
       "27116    0        0  \n",
       "27126    0        0  \n",
       "27127    0        0  \n",
       "27140    0        0  \n",
       "27157    0        0  \n",
       "27165    0        0  \n",
       "27171    0        0  \n",
       "27173    0        0  \n",
       "27179    0        0  \n",
       "27196    0        0  \n",
       "27200    0        0  \n",
       "27214    0        0  \n",
       "27216    0        0  \n",
       "27229    0        0  \n",
       "27258    0        0  \n",
       "27261    0        0  \n",
       "27276    0        0  \n",
       "\n",
       "[237 rows x 27 columns]"
      ]
     },
     "execution_count": 185,
     "metadata": {},
     "output_type": "execute_result"
    }
   ],
   "source": [
    "df_movies[df_movies['(no genres listed)']==1]"
   ]
  },
  {
   "cell_type": "markdown",
   "metadata": {},
   "source": [
    "### Plot number of movies by genre over time\n",
    "Let's look at some selected genres"
   ]
  },
  {
   "cell_type": "code",
   "execution_count": 186,
   "metadata": {
    "collapsed": true
   },
   "outputs": [],
   "source": [
    "genre_list = ['Action', 'Adventure', 'Animation', 'Children', 'Comedy', 'Crime',\n",
    "              'Documentary', 'Drama', 'Fantasy', 'Film-Noir', 'Horror', 'IMAX',\n",
    "              'Musical','Mystery', 'Romance', 'Sci-Fi', 'Thriller', 'War', 'Western']\n",
    "year_genre_movies = df_movies.groupby(['released_year'])[genre_list].sum()"
   ]
  },
  {
   "cell_type": "code",
   "execution_count": 187,
   "metadata": {
    "collapsed": false
   },
   "outputs": [
    {
     "data": {
      "text/html": [
       "<div>\n",
       "<table border=\"1\" class=\"dataframe\">\n",
       "  <thead>\n",
       "    <tr style=\"text-align: right;\">\n",
       "      <th></th>\n",
       "      <th>Action</th>\n",
       "      <th>Adventure</th>\n",
       "      <th>Animation</th>\n",
       "      <th>Children</th>\n",
       "      <th>Comedy</th>\n",
       "      <th>Crime</th>\n",
       "      <th>Documentary</th>\n",
       "      <th>Drama</th>\n",
       "      <th>Fantasy</th>\n",
       "      <th>Film-Noir</th>\n",
       "      <th>Horror</th>\n",
       "      <th>IMAX</th>\n",
       "      <th>Musical</th>\n",
       "      <th>Mystery</th>\n",
       "      <th>Romance</th>\n",
       "      <th>Sci-Fi</th>\n",
       "      <th>Thriller</th>\n",
       "      <th>War</th>\n",
       "      <th>Western</th>\n",
       "    </tr>\n",
       "    <tr>\n",
       "      <th>released_year</th>\n",
       "      <th></th>\n",
       "      <th></th>\n",
       "      <th></th>\n",
       "      <th></th>\n",
       "      <th></th>\n",
       "      <th></th>\n",
       "      <th></th>\n",
       "      <th></th>\n",
       "      <th></th>\n",
       "      <th></th>\n",
       "      <th></th>\n",
       "      <th></th>\n",
       "      <th></th>\n",
       "      <th></th>\n",
       "      <th></th>\n",
       "      <th></th>\n",
       "      <th></th>\n",
       "      <th></th>\n",
       "      <th></th>\n",
       "    </tr>\n",
       "  </thead>\n",
       "  <tbody>\n",
       "    <tr>\n",
       "      <th>1891</th>\n",
       "      <td>0</td>\n",
       "      <td>0</td>\n",
       "      <td>0</td>\n",
       "      <td>0</td>\n",
       "      <td>0</td>\n",
       "      <td>0</td>\n",
       "      <td>0</td>\n",
       "      <td>0</td>\n",
       "      <td>0</td>\n",
       "      <td>0</td>\n",
       "      <td>0</td>\n",
       "      <td>0</td>\n",
       "      <td>0</td>\n",
       "      <td>0</td>\n",
       "      <td>0</td>\n",
       "      <td>0</td>\n",
       "      <td>0</td>\n",
       "      <td>0</td>\n",
       "      <td>0</td>\n",
       "    </tr>\n",
       "    <tr>\n",
       "      <th>1893</th>\n",
       "      <td>0</td>\n",
       "      <td>0</td>\n",
       "      <td>0</td>\n",
       "      <td>0</td>\n",
       "      <td>0</td>\n",
       "      <td>0</td>\n",
       "      <td>0</td>\n",
       "      <td>0</td>\n",
       "      <td>0</td>\n",
       "      <td>0</td>\n",
       "      <td>0</td>\n",
       "      <td>0</td>\n",
       "      <td>0</td>\n",
       "      <td>0</td>\n",
       "      <td>0</td>\n",
       "      <td>0</td>\n",
       "      <td>0</td>\n",
       "      <td>0</td>\n",
       "      <td>0</td>\n",
       "    </tr>\n",
       "    <tr>\n",
       "      <th>1894</th>\n",
       "      <td>0</td>\n",
       "      <td>0</td>\n",
       "      <td>0</td>\n",
       "      <td>0</td>\n",
       "      <td>0</td>\n",
       "      <td>0</td>\n",
       "      <td>1</td>\n",
       "      <td>0</td>\n",
       "      <td>0</td>\n",
       "      <td>0</td>\n",
       "      <td>0</td>\n",
       "      <td>0</td>\n",
       "      <td>1</td>\n",
       "      <td>0</td>\n",
       "      <td>0</td>\n",
       "      <td>0</td>\n",
       "      <td>0</td>\n",
       "      <td>0</td>\n",
       "      <td>0</td>\n",
       "    </tr>\n",
       "    <tr>\n",
       "      <th>1895</th>\n",
       "      <td>0</td>\n",
       "      <td>0</td>\n",
       "      <td>0</td>\n",
       "      <td>0</td>\n",
       "      <td>1</td>\n",
       "      <td>0</td>\n",
       "      <td>1</td>\n",
       "      <td>0</td>\n",
       "      <td>0</td>\n",
       "      <td>0</td>\n",
       "      <td>0</td>\n",
       "      <td>0</td>\n",
       "      <td>0</td>\n",
       "      <td>0</td>\n",
       "      <td>0</td>\n",
       "      <td>0</td>\n",
       "      <td>0</td>\n",
       "      <td>0</td>\n",
       "      <td>0</td>\n",
       "    </tr>\n",
       "    <tr>\n",
       "      <th>1896</th>\n",
       "      <td>0</td>\n",
       "      <td>0</td>\n",
       "      <td>0</td>\n",
       "      <td>0</td>\n",
       "      <td>0</td>\n",
       "      <td>0</td>\n",
       "      <td>1</td>\n",
       "      <td>0</td>\n",
       "      <td>0</td>\n",
       "      <td>0</td>\n",
       "      <td>0</td>\n",
       "      <td>0</td>\n",
       "      <td>0</td>\n",
       "      <td>0</td>\n",
       "      <td>1</td>\n",
       "      <td>0</td>\n",
       "      <td>0</td>\n",
       "      <td>0</td>\n",
       "      <td>0</td>\n",
       "    </tr>\n",
       "  </tbody>\n",
       "</table>\n",
       "</div>"
      ],
      "text/plain": [
       "               Action  Adventure  Animation  Children  Comedy  Crime  \\\n",
       "released_year                                                          \n",
       "1891                0          0          0         0       0      0   \n",
       "1893                0          0          0         0       0      0   \n",
       "1894                0          0          0         0       0      0   \n",
       "1895                0          0          0         0       1      0   \n",
       "1896                0          0          0         0       0      0   \n",
       "\n",
       "               Documentary  Drama  Fantasy  Film-Noir  Horror  IMAX  Musical  \\\n",
       "released_year                                                                  \n",
       "1891                     0      0        0          0       0     0        0   \n",
       "1893                     0      0        0          0       0     0        0   \n",
       "1894                     1      0        0          0       0     0        1   \n",
       "1895                     1      0        0          0       0     0        0   \n",
       "1896                     1      0        0          0       0     0        0   \n",
       "\n",
       "               Mystery  Romance  Sci-Fi  Thriller  War  Western  \n",
       "released_year                                                    \n",
       "1891                 0        0       0         0    0        0  \n",
       "1893                 0        0       0         0    0        0  \n",
       "1894                 0        0       0         0    0        0  \n",
       "1895                 0        0       0         0    0        0  \n",
       "1896                 0        1       0         0    0        0  "
      ]
     },
     "execution_count": 187,
     "metadata": {},
     "output_type": "execute_result"
    }
   ],
   "source": [
    "year_genre_movies.head()"
   ]
  },
  {
   "cell_type": "code",
   "execution_count": 188,
   "metadata": {
    "collapsed": false
   },
   "outputs": [
    {
     "data": {
      "image/png": "[encoded data removed]",
      "text/plain": [
       "<matplotlib.figure.Figure at 0x10b137bd0>"
      ]
     },
     "metadata": {},
     "output_type": "display_data"
    }
   ],
   "source": [
    "#sns.palplot(sns.color_palette(\"hls\", 8))\n",
    "sns.set_palette(sns.color_palette(\"husl\",len(genre_list)))\n",
    "ax = year_genre_movies.plot()"
   ]
  },
  {
   "cell_type": "code",
   "execution_count": 189,
   "metadata": {
    "collapsed": false
   },
   "outputs": [
    {
     "name": "stdout",
     "output_type": "stream",
     "text": [
      "Action: 3519\n",
      "Adventure: 2329\n",
      "Animation: 1027\n",
      "Children: 1139\n",
      "Comedy: 8368\n",
      "Crime: 2938\n",
      "Documentary: 2467\n",
      "Drama: 13337\n",
      "Fantasy: 1411\n",
      "Film-Noir: 330\n",
      "Horror: 2611\n",
      "IMAX: 196\n",
      "Musical: 1035\n",
      "Mystery: 1513\n",
      "Romance: 4125\n",
      "Sci-Fi: 1741\n",
      "Thriller: 4177\n",
      "War: 1194\n",
      "Western: 676\n"
     ]
    }
   ],
   "source": [
    "for genre in genre_list:\n",
    "    print genre + ': ' + str(year_genre_movies[genre].sum())"
   ]
  },
  {
   "cell_type": "markdown",
   "metadata": {},
   "source": [
    "The plot shows too many lines, which is quite confusing. Let's look at only major genres"
   ]
  },
  {
   "cell_type": "code",
   "execution_count": 191,
   "metadata": {
    "collapsed": true
   },
   "outputs": [],
   "source": [
    "genre_list = ['Action', 'Adventure', 'Animation', 'Comedy', 'Crime',\n",
    "              'Drama', 'Fantasy', 'Horror', \n",
    "              'Mystery', 'Romance', 'Sci-Fi', 'Thriller']\n",
    "year_genre_movies = df_movies.groupby(['released_year'])[genre_list].sum()"
   ]
  },
  {
   "cell_type": "code",
   "execution_count": 192,
   "metadata": {
    "collapsed": false
   },
   "outputs": [
    {
     "data": {
      "image/png": "[encoded data removed]",
      "text/plain": [
       "<matplotlib.figure.Figure at 0x10b9bfe90>"
      ]
     },
     "metadata": {},
     "output_type": "display_data"
    }
   ],
   "source": [
    "sns.set_palette(sns.color_palette(\"hls\",len(genre_list)))\n",
    "ax = year_genre_movies.plot()"
   ]
  },
  {
   "cell_type": "code",
   "execution_count": 29,
   "metadata": {
    "collapsed": false
   },
   "outputs": [
    {
     "data": {
      "text/plain": [
       "3519"
      ]
     },
     "execution_count": 29,
     "metadata": {},
     "output_type": "execute_result"
    }
   ],
   "source": [
    "year_genre_movies['Action'].sum()"
   ]
  },
  {
   "cell_type": "markdown",
   "metadata": {
    "collapsed": true
   },
   "source": [
    "### Which genres receive the highest ratings? "
   ]
  },
  {
   "cell_type": "markdown",
   "metadata": {
    "collapsed": true
   },
   "source": [
    "#### Load Rating dataset"
   ]
  },
  {
   "cell_type": "code",
   "execution_count": 193,
   "metadata": {
    "collapsed": true
   },
   "outputs": [],
   "source": [
    "rating = pd.read_csv('./movielens-20m-dataset/rating.csv')"
   ]
  },
  {
   "cell_type": "code",
   "execution_count": 194,
   "metadata": {
    "collapsed": false
   },
   "outputs": [
    {
     "data": {
      "text/html": [
       "<div>\n",
       "<table border=\"1\" class=\"dataframe\">\n",
       "  <thead>\n",
       "    <tr style=\"text-align: right;\">\n",
       "      <th></th>\n",
       "      <th>userId</th>\n",
       "      <th>movieId</th>\n",
       "      <th>rating</th>\n",
       "      <th>timestamp</th>\n",
       "    </tr>\n",
       "  </thead>\n",
       "  <tbody>\n",
       "    <tr>\n",
       "      <th>0</th>\n",
       "      <td>1</td>\n",
       "      <td>2</td>\n",
       "      <td>3.5</td>\n",
       "      <td>2005-04-02 23:53:47</td>\n",
       "    </tr>\n",
       "    <tr>\n",
       "      <th>1</th>\n",
       "      <td>1</td>\n",
       "      <td>29</td>\n",
       "      <td>3.5</td>\n",
       "      <td>2005-04-02 23:31:16</td>\n",
       "    </tr>\n",
       "    <tr>\n",
       "      <th>2</th>\n",
       "      <td>1</td>\n",
       "      <td>32</td>\n",
       "      <td>3.5</td>\n",
       "      <td>2005-04-02 23:33:39</td>\n",
       "    </tr>\n",
       "    <tr>\n",
       "      <th>3</th>\n",
       "      <td>1</td>\n",
       "      <td>47</td>\n",
       "      <td>3.5</td>\n",
       "      <td>2005-04-02 23:32:07</td>\n",
       "    </tr>\n",
       "    <tr>\n",
       "      <th>4</th>\n",
       "      <td>1</td>\n",
       "      <td>50</td>\n",
       "      <td>3.5</td>\n",
       "      <td>2005-04-02 23:29:40</td>\n",
       "    </tr>\n",
       "  </tbody>\n",
       "</table>\n",
       "</div>"
      ],
      "text/plain": [
       "   userId  movieId  rating            timestamp\n",
       "0       1        2     3.5  2005-04-02 23:53:47\n",
       "1       1       29     3.5  2005-04-02 23:31:16\n",
       "2       1       32     3.5  2005-04-02 23:33:39\n",
       "3       1       47     3.5  2005-04-02 23:32:07\n",
       "4       1       50     3.5  2005-04-02 23:29:40"
      ]
     },
     "execution_count": 194,
     "metadata": {},
     "output_type": "execute_result"
    }
   ],
   "source": [
    "rating.head()"
   ]
  },
  {
   "cell_type": "code",
   "execution_count": 195,
   "metadata": {
    "collapsed": false
   },
   "outputs": [
    {
     "data": {
      "text/plain": [
       "(20000263, 4)"
      ]
     },
     "execution_count": 195,
     "metadata": {},
     "output_type": "execute_result"
    }
   ],
   "source": [
    "rating.shape"
   ]
  },
  {
   "cell_type": "code",
   "execution_count": 196,
   "metadata": {
    "collapsed": false
   },
   "outputs": [
    {
     "data": {
      "text/html": [
       "<div>\n",
       "<table border=\"1\" class=\"dataframe\">\n",
       "  <thead>\n",
       "    <tr style=\"text-align: right;\">\n",
       "      <th></th>\n",
       "      <th>movieId</th>\n",
       "      <th>title</th>\n",
       "      <th>genres</th>\n",
       "      <th>title_format</th>\n",
       "      <th>title_name</th>\n",
       "      <th>year</th>\n",
       "      <th>released_year</th>\n",
       "      <th>(no genres listed)</th>\n",
       "      <th>Action</th>\n",
       "      <th>Adventure</th>\n",
       "      <th>...</th>\n",
       "      <th>Film-Noir</th>\n",
       "      <th>Horror</th>\n",
       "      <th>IMAX</th>\n",
       "      <th>Musical</th>\n",
       "      <th>Mystery</th>\n",
       "      <th>Romance</th>\n",
       "      <th>Sci-Fi</th>\n",
       "      <th>Thriller</th>\n",
       "      <th>War</th>\n",
       "      <th>Western</th>\n",
       "    </tr>\n",
       "  </thead>\n",
       "  <tbody>\n",
       "    <tr>\n",
       "      <th>0</th>\n",
       "      <td>1</td>\n",
       "      <td>Toy Story (1995)</td>\n",
       "      <td>Adventure|Animation|Children|Comedy|Fantasy</td>\n",
       "      <td>&lt;_sre.SRE_Match object at 0x10d2c5e68&gt;</td>\n",
       "      <td>Toy Story</td>\n",
       "      <td>(1995)</td>\n",
       "      <td>1995</td>\n",
       "      <td>0</td>\n",
       "      <td>0</td>\n",
       "      <td>1</td>\n",
       "      <td>...</td>\n",
       "      <td>0</td>\n",
       "      <td>0</td>\n",
       "      <td>0</td>\n",
       "      <td>0</td>\n",
       "      <td>0</td>\n",
       "      <td>0</td>\n",
       "      <td>0</td>\n",
       "      <td>0</td>\n",
       "      <td>0</td>\n",
       "      <td>0</td>\n",
       "    </tr>\n",
       "    <tr>\n",
       "      <th>1</th>\n",
       "      <td>2</td>\n",
       "      <td>Jumanji (1995)</td>\n",
       "      <td>Adventure|Children|Fantasy</td>\n",
       "      <td>&lt;_sre.SRE_Match object at 0x10d2c5ed0&gt;</td>\n",
       "      <td>Jumanji</td>\n",
       "      <td>(1995)</td>\n",
       "      <td>1995</td>\n",
       "      <td>0</td>\n",
       "      <td>0</td>\n",
       "      <td>1</td>\n",
       "      <td>...</td>\n",
       "      <td>0</td>\n",
       "      <td>0</td>\n",
       "      <td>0</td>\n",
       "      <td>0</td>\n",
       "      <td>0</td>\n",
       "      <td>0</td>\n",
       "      <td>0</td>\n",
       "      <td>0</td>\n",
       "      <td>0</td>\n",
       "      <td>0</td>\n",
       "    </tr>\n",
       "    <tr>\n",
       "      <th>2</th>\n",
       "      <td>3</td>\n",
       "      <td>Grumpier Old Men (1995)</td>\n",
       "      <td>Comedy|Romance</td>\n",
       "      <td>&lt;_sre.SRE_Match object at 0x10d2c5f38&gt;</td>\n",
       "      <td>Grumpier Old Men</td>\n",
       "      <td>(1995)</td>\n",
       "      <td>1995</td>\n",
       "      <td>0</td>\n",
       "      <td>0</td>\n",
       "      <td>0</td>\n",
       "      <td>...</td>\n",
       "      <td>0</td>\n",
       "      <td>0</td>\n",
       "      <td>0</td>\n",
       "      <td>0</td>\n",
       "      <td>0</td>\n",
       "      <td>1</td>\n",
       "      <td>0</td>\n",
       "      <td>0</td>\n",
       "      <td>0</td>\n",
       "      <td>0</td>\n",
       "    </tr>\n",
       "    <tr>\n",
       "      <th>3</th>\n",
       "      <td>4</td>\n",
       "      <td>Waiting to Exhale (1995)</td>\n",
       "      <td>Comedy|Drama|Romance</td>\n",
       "      <td>&lt;_sre.SRE_Match object at 0x10c3ee030&gt;</td>\n",
       "      <td>Waiting to Exhale</td>\n",
       "      <td>(1995)</td>\n",
       "      <td>1995</td>\n",
       "      <td>0</td>\n",
       "      <td>0</td>\n",
       "      <td>0</td>\n",
       "      <td>...</td>\n",
       "      <td>0</td>\n",
       "      <td>0</td>\n",
       "      <td>0</td>\n",
       "      <td>0</td>\n",
       "      <td>0</td>\n",
       "      <td>1</td>\n",
       "      <td>0</td>\n",
       "      <td>0</td>\n",
       "      <td>0</td>\n",
       "      <td>0</td>\n",
       "    </tr>\n",
       "    <tr>\n",
       "      <th>4</th>\n",
       "      <td>5</td>\n",
       "      <td>Father of the Bride Part II (1995)</td>\n",
       "      <td>Comedy</td>\n",
       "      <td>&lt;_sre.SRE_Match object at 0x10c3ee098&gt;</td>\n",
       "      <td>Father of the Bride Part II</td>\n",
       "      <td>(1995)</td>\n",
       "      <td>1995</td>\n",
       "      <td>0</td>\n",
       "      <td>0</td>\n",
       "      <td>0</td>\n",
       "      <td>...</td>\n",
       "      <td>0</td>\n",
       "      <td>0</td>\n",
       "      <td>0</td>\n",
       "      <td>0</td>\n",
       "      <td>0</td>\n",
       "      <td>0</td>\n",
       "      <td>0</td>\n",
       "      <td>0</td>\n",
       "      <td>0</td>\n",
       "      <td>0</td>\n",
       "    </tr>\n",
       "  </tbody>\n",
       "</table>\n",
       "<p>5 rows × 27 columns</p>\n",
       "</div>"
      ],
      "text/plain": [
       "   movieId                               title  \\\n",
       "0        1                    Toy Story (1995)   \n",
       "1        2                      Jumanji (1995)   \n",
       "2        3             Grumpier Old Men (1995)   \n",
       "3        4            Waiting to Exhale (1995)   \n",
       "4        5  Father of the Bride Part II (1995)   \n",
       "\n",
       "                                        genres  \\\n",
       "0  Adventure|Animation|Children|Comedy|Fantasy   \n",
       "1                   Adventure|Children|Fantasy   \n",
       "2                               Comedy|Romance   \n",
       "3                         Comedy|Drama|Romance   \n",
       "4                                       Comedy   \n",
       "\n",
       "                             title_format                    title_name  \\\n",
       "0  <_sre.SRE_Match object at 0x10d2c5e68>                    Toy Story    \n",
       "1  <_sre.SRE_Match object at 0x10d2c5ed0>                      Jumanji    \n",
       "2  <_sre.SRE_Match object at 0x10d2c5f38>             Grumpier Old Men    \n",
       "3  <_sre.SRE_Match object at 0x10c3ee030>            Waiting to Exhale    \n",
       "4  <_sre.SRE_Match object at 0x10c3ee098>  Father of the Bride Part II    \n",
       "\n",
       "     year released_year  (no genres listed)  Action  Adventure   ...     \\\n",
       "0  (1995)          1995                   0       0          1   ...      \n",
       "1  (1995)          1995                   0       0          1   ...      \n",
       "2  (1995)          1995                   0       0          0   ...      \n",
       "3  (1995)          1995                   0       0          0   ...      \n",
       "4  (1995)          1995                   0       0          0   ...      \n",
       "\n",
       "   Film-Noir  Horror  IMAX  Musical  Mystery  Romance  Sci-Fi  Thriller  War  \\\n",
       "0          0       0     0        0        0        0       0         0    0   \n",
       "1          0       0     0        0        0        0       0         0    0   \n",
       "2          0       0     0        0        0        1       0         0    0   \n",
       "3          0       0     0        0        0        1       0         0    0   \n",
       "4          0       0     0        0        0        0       0         0    0   \n",
       "\n",
       "   Western  \n",
       "0        0  \n",
       "1        0  \n",
       "2        0  \n",
       "3        0  \n",
       "4        0  \n",
       "\n",
       "[5 rows x 27 columns]"
      ]
     },
     "execution_count": 196,
     "metadata": {},
     "output_type": "execute_result"
    }
   ],
   "source": [
    "df_movies.head()"
   ]
  },
  {
   "cell_type": "markdown",
   "metadata": {},
   "source": [
    "#### Average movie rating"
   ]
  },
  {
   "cell_type": "code",
   "execution_count": 197,
   "metadata": {
    "collapsed": true
   },
   "outputs": [],
   "source": [
    "average_rating = rating.groupby('movieId')['rating'].mean()"
   ]
  },
  {
   "cell_type": "code",
   "execution_count": 198,
   "metadata": {
    "collapsed": false
   },
   "outputs": [
    {
     "data": {
      "text/plain": [
       "movieId\n",
       "1    3.921240\n",
       "2    3.211977\n",
       "3    3.151040\n",
       "4    2.861393\n",
       "5    3.064592\n",
       "Name: rating, dtype: float64"
      ]
     },
     "execution_count": 198,
     "metadata": {},
     "output_type": "execute_result"
    }
   ],
   "source": [
    "average_rating.head()"
   ]
  },
  {
   "cell_type": "code",
   "execution_count": 199,
   "metadata": {
    "collapsed": false
   },
   "outputs": [
    {
     "data": {
      "text/plain": [
       "(26744,)"
      ]
     },
     "execution_count": 199,
     "metadata": {},
     "output_type": "execute_result"
    }
   ],
   "source": [
    "average_rating.shape"
   ]
  },
  {
   "cell_type": "code",
   "execution_count": 200,
   "metadata": {
    "collapsed": true
   },
   "outputs": [],
   "source": [
    "average_rating = average_rating.reset_index()"
   ]
  },
  {
   "cell_type": "code",
   "execution_count": 201,
   "metadata": {
    "collapsed": false
   },
   "outputs": [
    {
     "data": {
      "text/html": [
       "<div>\n",
       "<table border=\"1\" class=\"dataframe\">\n",
       "  <thead>\n",
       "    <tr style=\"text-align: right;\">\n",
       "      <th></th>\n",
       "      <th>movieId</th>\n",
       "      <th>rating</th>\n",
       "    </tr>\n",
       "  </thead>\n",
       "  <tbody>\n",
       "    <tr>\n",
       "      <th>0</th>\n",
       "      <td>1</td>\n",
       "      <td>3.921240</td>\n",
       "    </tr>\n",
       "    <tr>\n",
       "      <th>1</th>\n",
       "      <td>2</td>\n",
       "      <td>3.211977</td>\n",
       "    </tr>\n",
       "    <tr>\n",
       "      <th>2</th>\n",
       "      <td>3</td>\n",
       "      <td>3.151040</td>\n",
       "    </tr>\n",
       "    <tr>\n",
       "      <th>3</th>\n",
       "      <td>4</td>\n",
       "      <td>2.861393</td>\n",
       "    </tr>\n",
       "    <tr>\n",
       "      <th>4</th>\n",
       "      <td>5</td>\n",
       "      <td>3.064592</td>\n",
       "    </tr>\n",
       "  </tbody>\n",
       "</table>\n",
       "</div>"
      ],
      "text/plain": [
       "   movieId    rating\n",
       "0        1  3.921240\n",
       "1        2  3.211977\n",
       "2        3  3.151040\n",
       "3        4  2.861393\n",
       "4        5  3.064592"
      ]
     },
     "execution_count": 201,
     "metadata": {},
     "output_type": "execute_result"
    }
   ],
   "source": [
    "average_rating.head()"
   ]
  },
  {
   "cell_type": "code",
   "execution_count": 202,
   "metadata": {
    "collapsed": false
   },
   "outputs": [
    {
     "data": {
      "text/plain": [
       "(27253, 27)"
      ]
     },
     "execution_count": 202,
     "metadata": {},
     "output_type": "execute_result"
    }
   ],
   "source": [
    "df_movies.shape"
   ]
  },
  {
   "cell_type": "code",
   "execution_count": 203,
   "metadata": {
    "collapsed": true
   },
   "outputs": [],
   "source": [
    "df_movies_rating = pd.merge(df_movies, average_rating, how='left', on='movieId')"
   ]
  },
  {
   "cell_type": "code",
   "execution_count": 204,
   "metadata": {
    "collapsed": false
   },
   "outputs": [
    {
     "data": {
      "text/plain": [
       "(27253, 28)"
      ]
     },
     "execution_count": 204,
     "metadata": {},
     "output_type": "execute_result"
    }
   ],
   "source": [
    "df_movies_rating.shape"
   ]
  },
  {
   "cell_type": "code",
   "execution_count": 205,
   "metadata": {
    "collapsed": false
   },
   "outputs": [
    {
     "data": {
      "text/html": [
       "<div>\n",
       "<table border=\"1\" class=\"dataframe\">\n",
       "  <thead>\n",
       "    <tr style=\"text-align: right;\">\n",
       "      <th></th>\n",
       "      <th>movieId</th>\n",
       "      <th>title</th>\n",
       "      <th>genres</th>\n",
       "      <th>title_format</th>\n",
       "      <th>title_name</th>\n",
       "      <th>year</th>\n",
       "      <th>released_year</th>\n",
       "      <th>(no genres listed)</th>\n",
       "      <th>Action</th>\n",
       "      <th>Adventure</th>\n",
       "      <th>...</th>\n",
       "      <th>Horror</th>\n",
       "      <th>IMAX</th>\n",
       "      <th>Musical</th>\n",
       "      <th>Mystery</th>\n",
       "      <th>Romance</th>\n",
       "      <th>Sci-Fi</th>\n",
       "      <th>Thriller</th>\n",
       "      <th>War</th>\n",
       "      <th>Western</th>\n",
       "      <th>rating</th>\n",
       "    </tr>\n",
       "  </thead>\n",
       "  <tbody>\n",
       "    <tr>\n",
       "      <th>0</th>\n",
       "      <td>1</td>\n",
       "      <td>Toy Story (1995)</td>\n",
       "      <td>Adventure|Animation|Children|Comedy|Fantasy</td>\n",
       "      <td>&lt;_sre.SRE_Match object at 0x10d2c5e68&gt;</td>\n",
       "      <td>Toy Story</td>\n",
       "      <td>(1995)</td>\n",
       "      <td>1995</td>\n",
       "      <td>0</td>\n",
       "      <td>0</td>\n",
       "      <td>1</td>\n",
       "      <td>...</td>\n",
       "      <td>0</td>\n",
       "      <td>0</td>\n",
       "      <td>0</td>\n",
       "      <td>0</td>\n",
       "      <td>0</td>\n",
       "      <td>0</td>\n",
       "      <td>0</td>\n",
       "      <td>0</td>\n",
       "      <td>0</td>\n",
       "      <td>3.921240</td>\n",
       "    </tr>\n",
       "    <tr>\n",
       "      <th>1</th>\n",
       "      <td>2</td>\n",
       "      <td>Jumanji (1995)</td>\n",
       "      <td>Adventure|Children|Fantasy</td>\n",
       "      <td>&lt;_sre.SRE_Match object at 0x10d2c5ed0&gt;</td>\n",
       "      <td>Jumanji</td>\n",
       "      <td>(1995)</td>\n",
       "      <td>1995</td>\n",
       "      <td>0</td>\n",
       "      <td>0</td>\n",
       "      <td>1</td>\n",
       "      <td>...</td>\n",
       "      <td>0</td>\n",
       "      <td>0</td>\n",
       "      <td>0</td>\n",
       "      <td>0</td>\n",
       "      <td>0</td>\n",
       "      <td>0</td>\n",
       "      <td>0</td>\n",
       "      <td>0</td>\n",
       "      <td>0</td>\n",
       "      <td>3.211977</td>\n",
       "    </tr>\n",
       "    <tr>\n",
       "      <th>2</th>\n",
       "      <td>3</td>\n",
       "      <td>Grumpier Old Men (1995)</td>\n",
       "      <td>Comedy|Romance</td>\n",
       "      <td>&lt;_sre.SRE_Match object at 0x10d2c5f38&gt;</td>\n",
       "      <td>Grumpier Old Men</td>\n",
       "      <td>(1995)</td>\n",
       "      <td>1995</td>\n",
       "      <td>0</td>\n",
       "      <td>0</td>\n",
       "      <td>0</td>\n",
       "      <td>...</td>\n",
       "      <td>0</td>\n",
       "      <td>0</td>\n",
       "      <td>0</td>\n",
       "      <td>0</td>\n",
       "      <td>1</td>\n",
       "      <td>0</td>\n",
       "      <td>0</td>\n",
       "      <td>0</td>\n",
       "      <td>0</td>\n",
       "      <td>3.151040</td>\n",
       "    </tr>\n",
       "    <tr>\n",
       "      <th>3</th>\n",
       "      <td>4</td>\n",
       "      <td>Waiting to Exhale (1995)</td>\n",
       "      <td>Comedy|Drama|Romance</td>\n",
       "      <td>&lt;_sre.SRE_Match object at 0x10c3ee030&gt;</td>\n",
       "      <td>Waiting to Exhale</td>\n",
       "      <td>(1995)</td>\n",
       "      <td>1995</td>\n",
       "      <td>0</td>\n",
       "      <td>0</td>\n",
       "      <td>0</td>\n",
       "      <td>...</td>\n",
       "      <td>0</td>\n",
       "      <td>0</td>\n",
       "      <td>0</td>\n",
       "      <td>0</td>\n",
       "      <td>1</td>\n",
       "      <td>0</td>\n",
       "      <td>0</td>\n",
       "      <td>0</td>\n",
       "      <td>0</td>\n",
       "      <td>2.861393</td>\n",
       "    </tr>\n",
       "    <tr>\n",
       "      <th>4</th>\n",
       "      <td>5</td>\n",
       "      <td>Father of the Bride Part II (1995)</td>\n",
       "      <td>Comedy</td>\n",
       "      <td>&lt;_sre.SRE_Match object at 0x10c3ee098&gt;</td>\n",
       "      <td>Father of the Bride Part II</td>\n",
       "      <td>(1995)</td>\n",
       "      <td>1995</td>\n",
       "      <td>0</td>\n",
       "      <td>0</td>\n",
       "      <td>0</td>\n",
       "      <td>...</td>\n",
       "      <td>0</td>\n",
       "      <td>0</td>\n",
       "      <td>0</td>\n",
       "      <td>0</td>\n",
       "      <td>0</td>\n",
       "      <td>0</td>\n",
       "      <td>0</td>\n",
       "      <td>0</td>\n",
       "      <td>0</td>\n",
       "      <td>3.064592</td>\n",
       "    </tr>\n",
       "  </tbody>\n",
       "</table>\n",
       "<p>5 rows × 28 columns</p>\n",
       "</div>"
      ],
      "text/plain": [
       "   movieId                               title  \\\n",
       "0        1                    Toy Story (1995)   \n",
       "1        2                      Jumanji (1995)   \n",
       "2        3             Grumpier Old Men (1995)   \n",
       "3        4            Waiting to Exhale (1995)   \n",
       "4        5  Father of the Bride Part II (1995)   \n",
       "\n",
       "                                        genres  \\\n",
       "0  Adventure|Animation|Children|Comedy|Fantasy   \n",
       "1                   Adventure|Children|Fantasy   \n",
       "2                               Comedy|Romance   \n",
       "3                         Comedy|Drama|Romance   \n",
       "4                                       Comedy   \n",
       "\n",
       "                             title_format                    title_name  \\\n",
       "0  <_sre.SRE_Match object at 0x10d2c5e68>                    Toy Story    \n",
       "1  <_sre.SRE_Match object at 0x10d2c5ed0>                      Jumanji    \n",
       "2  <_sre.SRE_Match object at 0x10d2c5f38>             Grumpier Old Men    \n",
       "3  <_sre.SRE_Match object at 0x10c3ee030>            Waiting to Exhale    \n",
       "4  <_sre.SRE_Match object at 0x10c3ee098>  Father of the Bride Part II    \n",
       "\n",
       "     year released_year  (no genres listed)  Action  Adventure    ...     \\\n",
       "0  (1995)          1995                   0       0          1    ...      \n",
       "1  (1995)          1995                   0       0          1    ...      \n",
       "2  (1995)          1995                   0       0          0    ...      \n",
       "3  (1995)          1995                   0       0          0    ...      \n",
       "4  (1995)          1995                   0       0          0    ...      \n",
       "\n",
       "   Horror  IMAX  Musical  Mystery  Romance  Sci-Fi  Thriller  War  Western  \\\n",
       "0       0     0        0        0        0       0         0    0        0   \n",
       "1       0     0        0        0        0       0         0    0        0   \n",
       "2       0     0        0        0        1       0         0    0        0   \n",
       "3       0     0        0        0        1       0         0    0        0   \n",
       "4       0     0        0        0        0       0         0    0        0   \n",
       "\n",
       "     rating  \n",
       "0  3.921240  \n",
       "1  3.211977  \n",
       "2  3.151040  \n",
       "3  2.861393  \n",
       "4  3.064592  \n",
       "\n",
       "[5 rows x 28 columns]"
      ]
     },
     "execution_count": 205,
     "metadata": {},
     "output_type": "execute_result"
    }
   ],
   "source": [
    "df_movies_rating.head()"
   ]
  },
  {
   "cell_type": "markdown",
   "metadata": {},
   "source": [
    "#### Average rating by genre"
   ]
  },
  {
   "cell_type": "code",
   "execution_count": 206,
   "metadata": {
    "collapsed": false
   },
   "outputs": [
    {
     "name": "stdout",
     "output_type": "stream",
     "text": [
      "Action rating:  2.97683354086 number of movies:  3519\n",
      "Adventure rating:  3.07240749419 number of movies:  2329\n",
      "Animation rating:  3.17709521251 number of movies:  1027\n",
      "Comedy rating:  3.07418201523 number of movies:  8368\n",
      "Crime rating:  3.16685282624 number of movies:  2938\n",
      "Drama rating:  3.2620628153 number of movies:  13337\n",
      "Fantasy rating:  3.09308425427 number of movies:  1411\n",
      "Horror rating:  2.69679576528 number of movies:  2611\n",
      "Mystery rating:  3.13499663245 number of movies:  1513\n",
      "Romance rating:  3.2055452952 number of movies:  4125\n",
      "Sci-Fi rating:  2.88951055437 number of movies:  1741\n",
      "Thriller rating:  3.01606878534 number of movies:  4177\n"
     ]
    }
   ],
   "source": [
    "for genre in genre_list:\n",
    "    print genre, 'rating: ', df_movies_rating[df_movies_rating[genre]==1].rating.mean(), 'number of movies: ', \\\n",
    "          len(df_movies_rating[df_movies_rating[genre]==1])"
   ]
  },
  {
   "cell_type": "markdown",
   "metadata": {
    "collapsed": true
   },
   "source": [
    "## Collaborative Filtering Recommendation System\n",
    "\n",
    "In this section, we build a recommendation system based on the movie rating data using the technique called 'Collaborative filtering' to predict the rating of the movies a user has not rated yet and to provide list of recommended movies based on those predicted rating."
   ]
  },
  {
   "cell_type": "code",
   "execution_count": 207,
   "metadata": {
    "collapsed": false
   },
   "outputs": [
    {
     "data": {
      "text/plain": [
       "(20000263, 4)"
      ]
     },
     "execution_count": 207,
     "metadata": {},
     "output_type": "execute_result"
    }
   ],
   "source": [
    "rating.shape"
   ]
  },
  {
   "cell_type": "code",
   "execution_count": 208,
   "metadata": {
    "collapsed": false
   },
   "outputs": [
    {
     "data": {
      "text/html": [
       "<div>\n",
       "<table border=\"1\" class=\"dataframe\">\n",
       "  <thead>\n",
       "    <tr style=\"text-align: right;\">\n",
       "      <th></th>\n",
       "      <th>userId</th>\n",
       "      <th>movieId</th>\n",
       "      <th>rating</th>\n",
       "      <th>timestamp</th>\n",
       "    </tr>\n",
       "  </thead>\n",
       "  <tbody>\n",
       "    <tr>\n",
       "      <th>0</th>\n",
       "      <td>1</td>\n",
       "      <td>2</td>\n",
       "      <td>3.5</td>\n",
       "      <td>2005-04-02 23:53:47</td>\n",
       "    </tr>\n",
       "    <tr>\n",
       "      <th>1</th>\n",
       "      <td>1</td>\n",
       "      <td>29</td>\n",
       "      <td>3.5</td>\n",
       "      <td>2005-04-02 23:31:16</td>\n",
       "    </tr>\n",
       "    <tr>\n",
       "      <th>2</th>\n",
       "      <td>1</td>\n",
       "      <td>32</td>\n",
       "      <td>3.5</td>\n",
       "      <td>2005-04-02 23:33:39</td>\n",
       "    </tr>\n",
       "    <tr>\n",
       "      <th>3</th>\n",
       "      <td>1</td>\n",
       "      <td>47</td>\n",
       "      <td>3.5</td>\n",
       "      <td>2005-04-02 23:32:07</td>\n",
       "    </tr>\n",
       "    <tr>\n",
       "      <th>4</th>\n",
       "      <td>1</td>\n",
       "      <td>50</td>\n",
       "      <td>3.5</td>\n",
       "      <td>2005-04-02 23:29:40</td>\n",
       "    </tr>\n",
       "  </tbody>\n",
       "</table>\n",
       "</div>"
      ],
      "text/plain": [
       "   userId  movieId  rating            timestamp\n",
       "0       1        2     3.5  2005-04-02 23:53:47\n",
       "1       1       29     3.5  2005-04-02 23:31:16\n",
       "2       1       32     3.5  2005-04-02 23:33:39\n",
       "3       1       47     3.5  2005-04-02 23:32:07\n",
       "4       1       50     3.5  2005-04-02 23:29:40"
      ]
     },
     "execution_count": 208,
     "metadata": {},
     "output_type": "execute_result"
    }
   ],
   "source": [
    "rating.head()"
   ]
  },
  {
   "cell_type": "markdown",
   "metadata": {},
   "source": [
    "Before setting up the dataset for the collaborative filtering, we explore rating dataset in more details"
   ]
  },
  {
   "cell_type": "markdown",
   "metadata": {},
   "source": [
    "### Number of reviews by user (distribution)\n",
    "The chart below shows the distribution of the count of rating given by unique users. It illustrates that majority of users provided only few movie ratings."
   ]
  },
  {
   "cell_type": "code",
   "execution_count": 209,
   "metadata": {
    "collapsed": false
   },
   "outputs": [
    {
     "data": {
      "text/plain": [
       "<matplotlib.axes._subplots.AxesSubplot at 0x110397210>"
      ]
     },
     "execution_count": 209,
     "metadata": {},
     "output_type": "execute_result"
    },
    {
     "data": {
      "image/png": "[encoded data removed]",
      "text/plain": [
       "<matplotlib.figure.Figure at 0x10d0f6850>"
      ]
     },
     "metadata": {},
     "output_type": "display_data"
    }
   ],
   "source": [
    "count_review_by_user = rating.groupby('userId')['rating'].count()\n",
    "count_review_by_user.hist(bins=100)"
   ]
  },
  {
   "cell_type": "markdown",
   "metadata": {},
   "source": [
    "### Number of reviews by movie (distribution)\n",
    "The chart below shows the distribution of the count of ratings received by each movie. It also illustrated that majority of the movies received rating only from few users."
   ]
  },
  {
   "cell_type": "code",
   "execution_count": 211,
   "metadata": {
    "collapsed": false
   },
   "outputs": [
    {
     "data": {
      "text/plain": [
       "<matplotlib.axes._subplots.AxesSubplot at 0x10d176e90>"
      ]
     },
     "execution_count": 211,
     "metadata": {},
     "output_type": "execute_result"
    },
    {
     "data": {
      "image/png": "[encoded data removed]",
      "text/plain": [
       "<matplotlib.figure.Figure at 0x1116b3ad0>"
      ]
     },
     "metadata": {},
     "output_type": "display_data"
    }
   ],
   "source": [
    "count_review_by_movie = rating.groupby('movieId')['rating'].count()\n",
    "count_review_by_movie.hist(bins=100)"
   ]
  },
  {
   "cell_type": "code",
   "execution_count": 212,
   "metadata": {
    "collapsed": false
   },
   "outputs": [
    {
     "data": {
      "text/plain": [
       "count    26744.000000\n",
       "mean       747.841123\n",
       "std       3085.818268\n",
       "min          1.000000\n",
       "25%          3.000000\n",
       "50%         18.000000\n",
       "75%        205.000000\n",
       "max      67310.000000\n",
       "Name: rating, dtype: float64"
      ]
     },
     "execution_count": 212,
     "metadata": {},
     "output_type": "execute_result"
    }
   ],
   "source": [
    "count_review_by_movie.describe()"
   ]
  },
  {
   "cell_type": "code",
   "execution_count": 213,
   "metadata": {
    "collapsed": false
   },
   "outputs": [
    {
     "data": {
      "text/plain": [
       "movieId\n",
       "296    67310\n",
       "Name: rating, dtype: int64"
      ]
     },
     "execution_count": 213,
     "metadata": {},
     "output_type": "execute_result"
    }
   ],
   "source": [
    "count_review_by_movie[count_review_by_movie==67310]"
   ]
  },
  {
   "cell_type": "markdown",
   "metadata": {},
   "source": [
    "#### Pulp Fiction has received rating by 67,310 users\n",
    "After looking at the count of reviews by movie, we found that 'Pulp Fiction' has received the highest number of ratings count"
   ]
  },
  {
   "cell_type": "code",
   "execution_count": 214,
   "metadata": {
    "collapsed": false
   },
   "outputs": [
    {
     "data": {
      "text/html": [
       "<div>\n",
       "<table border=\"1\" class=\"dataframe\">\n",
       "  <thead>\n",
       "    <tr style=\"text-align: right;\">\n",
       "      <th></th>\n",
       "      <th>movieId</th>\n",
       "      <th>title</th>\n",
       "      <th>genres</th>\n",
       "      <th>title_format</th>\n",
       "      <th>title_name</th>\n",
       "      <th>year</th>\n",
       "      <th>released_year</th>\n",
       "    </tr>\n",
       "  </thead>\n",
       "  <tbody>\n",
       "    <tr>\n",
       "      <th>293</th>\n",
       "      <td>296</td>\n",
       "      <td>Pulp Fiction (1994)</td>\n",
       "      <td>Comedy|Crime|Drama|Thriller</td>\n",
       "      <td>&lt;_sre.SRE_Match object at 0x10c3f59f0&gt;</td>\n",
       "      <td>Pulp Fiction</td>\n",
       "      <td>(1994)</td>\n",
       "      <td>1994</td>\n",
       "    </tr>\n",
       "  </tbody>\n",
       "</table>\n",
       "</div>"
      ],
      "text/plain": [
       "     movieId                title                       genres  \\\n",
       "293      296  Pulp Fiction (1994)  Comedy|Crime|Drama|Thriller   \n",
       "\n",
       "                               title_format     title_name    year  \\\n",
       "293  <_sre.SRE_Match object at 0x10c3f59f0>  Pulp Fiction   (1994)   \n",
       "\n",
       "    released_year  \n",
       "293          1994  "
      ]
     },
     "execution_count": 214,
     "metadata": {},
     "output_type": "execute_result"
    }
   ],
   "source": [
    "movies[movies.movieId==296]"
   ]
  },
  {
   "cell_type": "markdown",
   "metadata": {},
   "source": [
    "### Average rating by user and by movie:\n",
    "##### Average rating by user: for a user, what is the average movie rating this user gave?\n",
    "##### Average rating by movie: for a movie, what is the average rating it has?"
   ]
  },
  {
   "cell_type": "code",
   "execution_count": 215,
   "metadata": {
    "collapsed": false
   },
   "outputs": [
    {
     "data": {
      "text/plain": [
       "<matplotlib.axes._subplots.AxesSubplot at 0x114642810>"
      ]
     },
     "execution_count": 215,
     "metadata": {},
     "output_type": "execute_result"
    },
    {
     "data": {
      "image/png": "[encoded data removed]",
      "text/plain": [
       "<matplotlib.figure.Figure at 0x10b9b8190>"
      ]
     },
     "metadata": {},
     "output_type": "display_data"
    }
   ],
   "source": [
    "average_rating_by_user = rating.groupby('userId')['rating'].mean()\n",
    "average_rating_by_user.hist()"
   ]
  },
  {
   "cell_type": "code",
   "execution_count": 216,
   "metadata": {
    "collapsed": false
   },
   "outputs": [
    {
     "data": {
      "text/plain": [
       "<matplotlib.axes._subplots.AxesSubplot at 0x10ec8c650>"
      ]
     },
     "execution_count": 216,
     "metadata": {},
     "output_type": "execute_result"
    },
    {
     "data": {
      "image/png": "[encoded data removed]",
      "text/plain": [
       "<matplotlib.figure.Figure at 0x110ce5cd0>"
      ]
     },
     "metadata": {},
     "output_type": "display_data"
    }
   ],
   "source": [
    "average_rating_by_movie = rating.groupby('movieId')['rating'].mean()\n",
    "average_rating_by_movie.hist()"
   ]
  },
  {
   "cell_type": "code",
   "execution_count": 217,
   "metadata": {
    "collapsed": false
   },
   "outputs": [
    {
     "name": "stdout",
     "output_type": "stream",
     "text": [
      "Average rating by user =  3.62720862189\n",
      "Average rating by movie =  3.13319999013\n"
     ]
    }
   ],
   "source": [
    "print \"Average rating by user = \", average_rating_by_user.mean()\n",
    "print \"Average rating by movie = \", average_rating_by_movie.mean()"
   ]
  },
  {
   "cell_type": "markdown",
   "metadata": {},
   "source": [
    "### Prepare dataset for Collaborative filtering"
   ]
  },
  {
   "cell_type": "code",
   "execution_count": 218,
   "metadata": {
    "collapsed": false
   },
   "outputs": [
    {
     "data": {
      "text/plain": [
       "((138493,), (26744,), (138493,), (26744,))"
      ]
     },
     "execution_count": 218,
     "metadata": {},
     "output_type": "execute_result"
    }
   ],
   "source": [
    "# Merge Review count and Average review to original dataframe\n",
    "count_review_by_user.shape, count_review_by_movie.shape, average_rating_by_user.shape, average_rating_by_movie.shape"
   ]
  },
  {
   "cell_type": "code",
   "execution_count": 219,
   "metadata": {
    "collapsed": false
   },
   "outputs": [],
   "source": [
    "count_review_by_user = count_review_by_user.reset_index()\n",
    "count_review_by_movie = count_review_by_movie.reset_index()"
   ]
  },
  {
   "cell_type": "code",
   "execution_count": 220,
   "metadata": {
    "collapsed": true
   },
   "outputs": [],
   "source": [
    "average_rating_by_user = average_rating_by_user.reset_index()\n",
    "average_rating_by_movie = average_rating_by_movie.reset_index()"
   ]
  },
  {
   "cell_type": "code",
   "execution_count": 221,
   "metadata": {
    "collapsed": false
   },
   "outputs": [],
   "source": [
    "count_review_by_user.columns = ['userId','count_rating_user']\n",
    "count_review_by_movie.columns = ['movieId','count_rating_movie']"
   ]
  },
  {
   "cell_type": "code",
   "execution_count": 222,
   "metadata": {
    "collapsed": true
   },
   "outputs": [],
   "source": [
    "average_rating_by_user.columns = ['userId','average_rating_user']\n",
    "average_rating_by_movie.columns = ['movieId','average_rating_movie']"
   ]
  },
  {
   "cell_type": "code",
   "execution_count": 223,
   "metadata": {
    "collapsed": true
   },
   "outputs": [],
   "source": [
    "df_rating = pd.merge(rating, count_review_by_user, how='left', on='userId')"
   ]
  },
  {
   "cell_type": "code",
   "execution_count": 224,
   "metadata": {
    "collapsed": false
   },
   "outputs": [],
   "source": [
    "df_rating = pd.merge(df_rating, count_review_by_movie, how='left', on='movieId')"
   ]
  },
  {
   "cell_type": "code",
   "execution_count": 225,
   "metadata": {
    "collapsed": false
   },
   "outputs": [],
   "source": [
    "df_rating = pd.merge(df_rating, average_rating_by_user, how='left', on='userId')"
   ]
  },
  {
   "cell_type": "code",
   "execution_count": 226,
   "metadata": {
    "collapsed": false
   },
   "outputs": [],
   "source": [
    "df_rating = pd.merge(df_rating, average_rating_by_movie, how='left', on='movieId')"
   ]
  },
  {
   "cell_type": "code",
   "execution_count": 227,
   "metadata": {
    "collapsed": false
   },
   "outputs": [
    {
     "data": {
      "text/html": [
       "<div>\n",
       "<table border=\"1\" class=\"dataframe\">\n",
       "  <thead>\n",
       "    <tr style=\"text-align: right;\">\n",
       "      <th></th>\n",
       "      <th>userId</th>\n",
       "      <th>movieId</th>\n",
       "      <th>rating</th>\n",
       "      <th>timestamp</th>\n",
       "      <th>count_rating_user</th>\n",
       "      <th>count_rating_movie</th>\n",
       "      <th>average_rating_user</th>\n",
       "      <th>average_rating_movie</th>\n",
       "    </tr>\n",
       "  </thead>\n",
       "  <tbody>\n",
       "    <tr>\n",
       "      <th>0</th>\n",
       "      <td>1</td>\n",
       "      <td>2</td>\n",
       "      <td>3.5</td>\n",
       "      <td>2005-04-02 23:53:47</td>\n",
       "      <td>175</td>\n",
       "      <td>22243</td>\n",
       "      <td>3.742857</td>\n",
       "      <td>3.211977</td>\n",
       "    </tr>\n",
       "    <tr>\n",
       "      <th>1</th>\n",
       "      <td>1</td>\n",
       "      <td>29</td>\n",
       "      <td>3.5</td>\n",
       "      <td>2005-04-02 23:31:16</td>\n",
       "      <td>175</td>\n",
       "      <td>8520</td>\n",
       "      <td>3.742857</td>\n",
       "      <td>3.952230</td>\n",
       "    </tr>\n",
       "    <tr>\n",
       "      <th>2</th>\n",
       "      <td>1</td>\n",
       "      <td>32</td>\n",
       "      <td>3.5</td>\n",
       "      <td>2005-04-02 23:33:39</td>\n",
       "      <td>175</td>\n",
       "      <td>44980</td>\n",
       "      <td>3.742857</td>\n",
       "      <td>3.898055</td>\n",
       "    </tr>\n",
       "    <tr>\n",
       "      <th>3</th>\n",
       "      <td>1</td>\n",
       "      <td>47</td>\n",
       "      <td>3.5</td>\n",
       "      <td>2005-04-02 23:32:07</td>\n",
       "      <td>175</td>\n",
       "      <td>43249</td>\n",
       "      <td>3.742857</td>\n",
       "      <td>4.053493</td>\n",
       "    </tr>\n",
       "    <tr>\n",
       "      <th>4</th>\n",
       "      <td>1</td>\n",
       "      <td>50</td>\n",
       "      <td>3.5</td>\n",
       "      <td>2005-04-02 23:29:40</td>\n",
       "      <td>175</td>\n",
       "      <td>47006</td>\n",
       "      <td>3.742857</td>\n",
       "      <td>4.334372</td>\n",
       "    </tr>\n",
       "  </tbody>\n",
       "</table>\n",
       "</div>"
      ],
      "text/plain": [
       "   userId  movieId  rating            timestamp  count_rating_user  \\\n",
       "0       1        2     3.5  2005-04-02 23:53:47                175   \n",
       "1       1       29     3.5  2005-04-02 23:31:16                175   \n",
       "2       1       32     3.5  2005-04-02 23:33:39                175   \n",
       "3       1       47     3.5  2005-04-02 23:32:07                175   \n",
       "4       1       50     3.5  2005-04-02 23:29:40                175   \n",
       "\n",
       "   count_rating_movie  average_rating_user  average_rating_movie  \n",
       "0               22243             3.742857              3.211977  \n",
       "1                8520             3.742857              3.952230  \n",
       "2               44980             3.742857              3.898055  \n",
       "3               43249             3.742857              4.053493  \n",
       "4               47006             3.742857              4.334372  "
      ]
     },
     "execution_count": 227,
     "metadata": {},
     "output_type": "execute_result"
    }
   ],
   "source": [
    "df_rating.head()"
   ]
  },
  {
   "cell_type": "code",
   "execution_count": 228,
   "metadata": {
    "collapsed": false
   },
   "outputs": [
    {
     "data": {
      "text/plain": [
       "count    2.000026e+07\n",
       "mean     5.115718e+02\n",
       "std      6.633559e+02\n",
       "min      2.000000e+01\n",
       "25%      1.230000e+02\n",
       "50%      2.960000e+02\n",
       "75%      6.440000e+02\n",
       "max      9.254000e+03\n",
       "Name: count_rating_user, dtype: float64"
      ]
     },
     "execution_count": 228,
     "metadata": {},
     "output_type": "execute_result"
    }
   ],
   "source": [
    "df_rating.count_rating_user.describe()"
   ]
  },
  {
   "cell_type": "code",
   "execution_count": 229,
   "metadata": {
    "collapsed": false
   },
   "outputs": [
    {
     "data": {
      "text/plain": [
       "count    2.000026e+07\n",
       "mean     1.348038e+04\n",
       "std      1.411208e+04\n",
       "min      1.000000e+00\n",
       "25%      2.963000e+03\n",
       "50%      8.505000e+03\n",
       "75%      1.967400e+04\n",
       "max      6.731000e+04\n",
       "Name: count_rating_movie, dtype: float64"
      ]
     },
     "execution_count": 229,
     "metadata": {},
     "output_type": "execute_result"
    }
   ],
   "source": [
    "df_rating.count_rating_movie.describe()"
   ]
  },
  {
   "cell_type": "markdown",
   "metadata": {},
   "source": [
    "#### For demonstration purpose, we use smaller subset of rating data for this recommendation system\n",
    "#### We select the ratings for movie with more than 5,000 reviews and user with more than 1,500 reviews"
   ]
  },
  {
   "cell_type": "code",
   "execution_count": 231,
   "metadata": {
    "collapsed": true
   },
   "outputs": [],
   "source": [
    "#### We will work with small subset of rating data, rating for movie with more than 60,000 reviews and user with more than 1,000 reviews\n",
    "rating_subset = df_rating[(df_rating.count_rating_user >= 1500) & (df_rating.count_rating_movie >= 5000)]"
   ]
  },
  {
   "cell_type": "code",
   "execution_count": 232,
   "metadata": {
    "collapsed": false
   },
   "outputs": [
    {
     "data": {
      "text/plain": [
       "((389724, 8), (20000263, 4))"
      ]
     },
     "execution_count": 232,
     "metadata": {},
     "output_type": "execute_result"
    }
   ],
   "source": [
    "rating_subset.shape, rating.shape"
   ]
  },
  {
   "cell_type": "markdown",
   "metadata": {},
   "source": [
    "In essence, after subsetting the data, we now have the rating data of 1,005 movies from 581 unique users"
   ]
  },
  {
   "cell_type": "code",
   "execution_count": 234,
   "metadata": {
    "collapsed": false
   },
   "outputs": [
    {
     "data": {
      "text/plain": [
       "(581, 1005)"
      ]
     },
     "execution_count": 234,
     "metadata": {},
     "output_type": "execute_result"
    }
   ],
   "source": [
    "len(rating_subset.userId.unique()), len(rating_subset.movieId.unique())"
   ]
  },
  {
   "cell_type": "markdown",
   "metadata": {},
   "source": [
    "#### We organize the srating data into n x m matrix, where n is the number of users and m is the number of movies"
   ]
  },
  {
   "cell_type": "code",
   "execution_count": 235,
   "metadata": {
    "collapsed": true
   },
   "outputs": [],
   "source": [
    "# Initiate number of users and movies\n",
    "n_users = rating_subset.userId.unique().shape[0]\n",
    "n_movies = rating_subset.movieId.unique().shape[0]"
   ]
  },
  {
   "cell_type": "code",
   "execution_count": 236,
   "metadata": {
    "collapsed": false
   },
   "outputs": [
    {
     "name": "stdout",
     "output_type": "stream",
     "text": [
      "581 1005\n"
     ]
    }
   ],
   "source": [
    "print n_users, n_movies"
   ]
  },
  {
   "cell_type": "code",
   "execution_count": 237,
   "metadata": {
    "collapsed": true
   },
   "outputs": [],
   "source": [
    "from sklearn import cross_validation as cv\n",
    "train_data, test_data = cv.train_test_split(rating_subset, test_size=0.25)"
   ]
  },
  {
   "cell_type": "code",
   "execution_count": 238,
   "metadata": {
    "collapsed": false
   },
   "outputs": [
    {
     "data": {
      "text/plain": [
       "((292293, 8), (97431, 8))"
      ]
     },
     "execution_count": 238,
     "metadata": {},
     "output_type": "execute_result"
    }
   ],
   "source": [
    "train_data.shape, test_data.shape"
   ]
  },
  {
   "cell_type": "code",
   "execution_count": 239,
   "metadata": {
    "collapsed": false
   },
   "outputs": [
    {
     "data": {
      "text/plain": [
       "(581, 581, 1005, 1005)"
      ]
     },
     "execution_count": 239,
     "metadata": {},
     "output_type": "execute_result"
    }
   ],
   "source": [
    "len(train_data.userId.unique()), len(test_data.userId.unique()), len(train_data.movieId.unique()), len(test_data.movieId.unique())"
   ]
  },
  {
   "cell_type": "code",
   "execution_count": 240,
   "metadata": {
    "collapsed": false
   },
   "outputs": [
    {
     "data": {
      "text/html": [
       "<div>\n",
       "<table border=\"1\" class=\"dataframe\">\n",
       "  <thead>\n",
       "    <tr style=\"text-align: right;\">\n",
       "      <th></th>\n",
       "      <th>userId</th>\n",
       "      <th>movieId</th>\n",
       "      <th>rating</th>\n",
       "      <th>timestamp</th>\n",
       "      <th>count_rating_user</th>\n",
       "      <th>count_rating_movie</th>\n",
       "      <th>average_rating_user</th>\n",
       "      <th>average_rating_movie</th>\n",
       "    </tr>\n",
       "  </thead>\n",
       "  <tbody>\n",
       "    <tr>\n",
       "      <th>951082</th>\n",
       "      <td>6373</td>\n",
       "      <td>6281</td>\n",
       "      <td>2.5</td>\n",
       "      <td>2005-10-07 17:04:15</td>\n",
       "      <td>1929</td>\n",
       "      <td>5101</td>\n",
       "      <td>2.674702</td>\n",
       "      <td>3.355911</td>\n",
       "    </tr>\n",
       "    <tr>\n",
       "      <th>2322440</th>\n",
       "      <td>15718</td>\n",
       "      <td>2000</td>\n",
       "      <td>2.5</td>\n",
       "      <td>2004-02-23 16:57:42</td>\n",
       "      <td>1933</td>\n",
       "      <td>17620</td>\n",
       "      <td>3.448008</td>\n",
       "      <td>3.690636</td>\n",
       "    </tr>\n",
       "    <tr>\n",
       "      <th>18709309</th>\n",
       "      <td>129540</td>\n",
       "      <td>7143</td>\n",
       "      <td>3.5</td>\n",
       "      <td>2004-01-10 02:23:10</td>\n",
       "      <td>2050</td>\n",
       "      <td>10464</td>\n",
       "      <td>3.441951</td>\n",
       "      <td>3.694285</td>\n",
       "    </tr>\n",
       "    <tr>\n",
       "      <th>743726</th>\n",
       "      <td>4967</td>\n",
       "      <td>743</td>\n",
       "      <td>3.0</td>\n",
       "      <td>2012-04-18 07:14:20</td>\n",
       "      <td>1719</td>\n",
       "      <td>6112</td>\n",
       "      <td>3.280686</td>\n",
       "      <td>2.738138</td>\n",
       "    </tr>\n",
       "    <tr>\n",
       "      <th>3973538</th>\n",
       "      <td>27054</td>\n",
       "      <td>1235</td>\n",
       "      <td>3.0</td>\n",
       "      <td>2002-06-03 02:10:07</td>\n",
       "      <td>1786</td>\n",
       "      <td>8066</td>\n",
       "      <td>2.974244</td>\n",
       "      <td>3.999814</td>\n",
       "    </tr>\n",
       "  </tbody>\n",
       "</table>\n",
       "</div>"
      ],
      "text/plain": [
       "          userId  movieId  rating            timestamp  count_rating_user  \\\n",
       "951082      6373     6281     2.5  2005-10-07 17:04:15               1929   \n",
       "2322440    15718     2000     2.5  2004-02-23 16:57:42               1933   \n",
       "18709309  129540     7143     3.5  2004-01-10 02:23:10               2050   \n",
       "743726      4967      743     3.0  2012-04-18 07:14:20               1719   \n",
       "3973538    27054     1235     3.0  2002-06-03 02:10:07               1786   \n",
       "\n",
       "          count_rating_movie  average_rating_user  average_rating_movie  \n",
       "951082                  5101             2.674702              3.355911  \n",
       "2322440                17620             3.448008              3.690636  \n",
       "18709309               10464             3.441951              3.694285  \n",
       "743726                  6112             3.280686              2.738138  \n",
       "3973538                 8066             2.974244              3.999814  "
      ]
     },
     "execution_count": 240,
     "metadata": {},
     "output_type": "execute_result"
    }
   ],
   "source": [
    "train_data.head()"
   ]
  },
  {
   "cell_type": "code",
   "execution_count": 241,
   "metadata": {
    "collapsed": false
   },
   "outputs": [],
   "source": [
    "# Create training and test matrix using Pandas pivot\n",
    "ptrain = train_data.pivot(index='userId', columns='movieId', values='rating')"
   ]
  },
  {
   "cell_type": "code",
   "execution_count": 242,
   "metadata": {
    "collapsed": false
   },
   "outputs": [
    {
     "data": {
      "text/html": [
       "<div>\n",
       "<table border=\"1\" class=\"dataframe\">\n",
       "  <thead>\n",
       "    <tr style=\"text-align: right;\">\n",
       "      <th>movieId</th>\n",
       "      <th>1</th>\n",
       "      <th>2</th>\n",
       "      <th>3</th>\n",
       "      <th>5</th>\n",
       "      <th>6</th>\n",
       "      <th>7</th>\n",
       "      <th>10</th>\n",
       "      <th>11</th>\n",
       "      <th>14</th>\n",
       "      <th>16</th>\n",
       "      <th>...</th>\n",
       "      <th>70286</th>\n",
       "      <th>71535</th>\n",
       "      <th>72998</th>\n",
       "      <th>73017</th>\n",
       "      <th>74458</th>\n",
       "      <th>78499</th>\n",
       "      <th>79132</th>\n",
       "      <th>80463</th>\n",
       "      <th>81591</th>\n",
       "      <th>81845</th>\n",
       "    </tr>\n",
       "    <tr>\n",
       "      <th>userId</th>\n",
       "      <th></th>\n",
       "      <th></th>\n",
       "      <th></th>\n",
       "      <th></th>\n",
       "      <th></th>\n",
       "      <th></th>\n",
       "      <th></th>\n",
       "      <th></th>\n",
       "      <th></th>\n",
       "      <th></th>\n",
       "      <th></th>\n",
       "      <th></th>\n",
       "      <th></th>\n",
       "      <th></th>\n",
       "      <th></th>\n",
       "      <th></th>\n",
       "      <th></th>\n",
       "      <th></th>\n",
       "      <th></th>\n",
       "      <th></th>\n",
       "      <th></th>\n",
       "    </tr>\n",
       "  </thead>\n",
       "  <tbody>\n",
       "    <tr>\n",
       "      <th>156</th>\n",
       "      <td>5.0</td>\n",
       "      <td>5.0</td>\n",
       "      <td>NaN</td>\n",
       "      <td>3.0</td>\n",
       "      <td>4.0</td>\n",
       "      <td>NaN</td>\n",
       "      <td>4.0</td>\n",
       "      <td>5.0</td>\n",
       "      <td>NaN</td>\n",
       "      <td>4.0</td>\n",
       "      <td>...</td>\n",
       "      <td>NaN</td>\n",
       "      <td>NaN</td>\n",
       "      <td>NaN</td>\n",
       "      <td>NaN</td>\n",
       "      <td>NaN</td>\n",
       "      <td>NaN</td>\n",
       "      <td>NaN</td>\n",
       "      <td>NaN</td>\n",
       "      <td>NaN</td>\n",
       "      <td>NaN</td>\n",
       "    </tr>\n",
       "    <tr>\n",
       "      <th>741</th>\n",
       "      <td>5.0</td>\n",
       "      <td>NaN</td>\n",
       "      <td>3.0</td>\n",
       "      <td>NaN</td>\n",
       "      <td>3.5</td>\n",
       "      <td>4.5</td>\n",
       "      <td>NaN</td>\n",
       "      <td>NaN</td>\n",
       "      <td>4.5</td>\n",
       "      <td>4.0</td>\n",
       "      <td>...</td>\n",
       "      <td>NaN</td>\n",
       "      <td>NaN</td>\n",
       "      <td>NaN</td>\n",
       "      <td>NaN</td>\n",
       "      <td>NaN</td>\n",
       "      <td>NaN</td>\n",
       "      <td>NaN</td>\n",
       "      <td>NaN</td>\n",
       "      <td>NaN</td>\n",
       "      <td>NaN</td>\n",
       "    </tr>\n",
       "    <tr>\n",
       "      <th>768</th>\n",
       "      <td>NaN</td>\n",
       "      <td>NaN</td>\n",
       "      <td>NaN</td>\n",
       "      <td>2.0</td>\n",
       "      <td>NaN</td>\n",
       "      <td>NaN</td>\n",
       "      <td>4.0</td>\n",
       "      <td>NaN</td>\n",
       "      <td>NaN</td>\n",
       "      <td>3.0</td>\n",
       "      <td>...</td>\n",
       "      <td>3.0</td>\n",
       "      <td>4.0</td>\n",
       "      <td>3.0</td>\n",
       "      <td>NaN</td>\n",
       "      <td>3.0</td>\n",
       "      <td>NaN</td>\n",
       "      <td>4.0</td>\n",
       "      <td>NaN</td>\n",
       "      <td>4.0</td>\n",
       "      <td>NaN</td>\n",
       "    </tr>\n",
       "    <tr>\n",
       "      <th>775</th>\n",
       "      <td>4.5</td>\n",
       "      <td>2.0</td>\n",
       "      <td>NaN</td>\n",
       "      <td>1.0</td>\n",
       "      <td>3.5</td>\n",
       "      <td>NaN</td>\n",
       "      <td>4.5</td>\n",
       "      <td>4.0</td>\n",
       "      <td>4.0</td>\n",
       "      <td>4.0</td>\n",
       "      <td>...</td>\n",
       "      <td>NaN</td>\n",
       "      <td>NaN</td>\n",
       "      <td>NaN</td>\n",
       "      <td>NaN</td>\n",
       "      <td>NaN</td>\n",
       "      <td>NaN</td>\n",
       "      <td>NaN</td>\n",
       "      <td>NaN</td>\n",
       "      <td>NaN</td>\n",
       "      <td>NaN</td>\n",
       "    </tr>\n",
       "    <tr>\n",
       "      <th>903</th>\n",
       "      <td>4.0</td>\n",
       "      <td>4.0</td>\n",
       "      <td>2.0</td>\n",
       "      <td>NaN</td>\n",
       "      <td>4.0</td>\n",
       "      <td>3.0</td>\n",
       "      <td>1.0</td>\n",
       "      <td>3.0</td>\n",
       "      <td>3.0</td>\n",
       "      <td>3.0</td>\n",
       "      <td>...</td>\n",
       "      <td>NaN</td>\n",
       "      <td>NaN</td>\n",
       "      <td>NaN</td>\n",
       "      <td>NaN</td>\n",
       "      <td>NaN</td>\n",
       "      <td>NaN</td>\n",
       "      <td>NaN</td>\n",
       "      <td>NaN</td>\n",
       "      <td>NaN</td>\n",
       "      <td>NaN</td>\n",
       "    </tr>\n",
       "  </tbody>\n",
       "</table>\n",
       "<p>5 rows × 1005 columns</p>\n",
       "</div>"
      ],
      "text/plain": [
       "movieId  1      2      3      5      6      7      10     11     14     16     \\\n",
       "userId                                                                          \n",
       "156        5.0    5.0    NaN    3.0    4.0    NaN    4.0    5.0    NaN    4.0   \n",
       "741        5.0    NaN    3.0    NaN    3.5    4.5    NaN    NaN    4.5    4.0   \n",
       "768        NaN    NaN    NaN    2.0    NaN    NaN    4.0    NaN    NaN    3.0   \n",
       "775        4.5    2.0    NaN    1.0    3.5    NaN    4.5    4.0    4.0    4.0   \n",
       "903        4.0    4.0    2.0    NaN    4.0    3.0    1.0    3.0    3.0    3.0   \n",
       "\n",
       "movieId  ...    70286  71535  72998  73017  74458  78499  79132  80463  81591  \\\n",
       "userId   ...                                                                    \n",
       "156      ...      NaN    NaN    NaN    NaN    NaN    NaN    NaN    NaN    NaN   \n",
       "741      ...      NaN    NaN    NaN    NaN    NaN    NaN    NaN    NaN    NaN   \n",
       "768      ...      3.0    4.0    3.0    NaN    3.0    NaN    4.0    NaN    4.0   \n",
       "775      ...      NaN    NaN    NaN    NaN    NaN    NaN    NaN    NaN    NaN   \n",
       "903      ...      NaN    NaN    NaN    NaN    NaN    NaN    NaN    NaN    NaN   \n",
       "\n",
       "movieId  81845  \n",
       "userId          \n",
       "156        NaN  \n",
       "741        NaN  \n",
       "768        NaN  \n",
       "775        NaN  \n",
       "903        NaN  \n",
       "\n",
       "[5 rows x 1005 columns]"
      ]
     },
     "execution_count": 242,
     "metadata": {},
     "output_type": "execute_result"
    }
   ],
   "source": [
    "ptrain.head()"
   ]
  },
  {
   "cell_type": "code",
   "execution_count": 243,
   "metadata": {
    "collapsed": false
   },
   "outputs": [
    {
     "data": {
      "text/plain": [
       "((581, 1005), (581, 1005))"
      ]
     },
     "execution_count": 243,
     "metadata": {},
     "output_type": "execute_result"
    }
   ],
   "source": [
    "ptrain.shape, ptest.shape"
   ]
  },
  {
   "cell_type": "code",
   "execution_count": 244,
   "metadata": {
    "collapsed": false
   },
   "outputs": [],
   "source": [
    "# Store Index of userId\n",
    "train_user_index = pd.DataFrame(ptrain.index)"
   ]
  },
  {
   "cell_type": "code",
   "execution_count": 245,
   "metadata": {
    "collapsed": false
   },
   "outputs": [],
   "source": [
    "# Store Index of movieId\n",
    "train_movies_index = pd.DataFrame(ptrain.columns)"
   ]
  },
  {
   "cell_type": "code",
   "execution_count": 246,
   "metadata": {
    "collapsed": true
   },
   "outputs": [],
   "source": [
    "ptest = test_data.pivot(index='userId', columns='movieId', values='rating')"
   ]
  },
  {
   "cell_type": "code",
   "execution_count": 247,
   "metadata": {
    "collapsed": false
   },
   "outputs": [
    {
     "data": {
      "text/html": [
       "<div>\n",
       "<table border=\"1\" class=\"dataframe\">\n",
       "  <thead>\n",
       "    <tr style=\"text-align: right;\">\n",
       "      <th>movieId</th>\n",
       "      <th>1</th>\n",
       "      <th>2</th>\n",
       "      <th>3</th>\n",
       "      <th>5</th>\n",
       "      <th>6</th>\n",
       "      <th>7</th>\n",
       "      <th>10</th>\n",
       "      <th>11</th>\n",
       "      <th>14</th>\n",
       "      <th>16</th>\n",
       "      <th>...</th>\n",
       "      <th>70286</th>\n",
       "      <th>71535</th>\n",
       "      <th>72998</th>\n",
       "      <th>73017</th>\n",
       "      <th>74458</th>\n",
       "      <th>78499</th>\n",
       "      <th>79132</th>\n",
       "      <th>80463</th>\n",
       "      <th>81591</th>\n",
       "      <th>81845</th>\n",
       "    </tr>\n",
       "    <tr>\n",
       "      <th>userId</th>\n",
       "      <th></th>\n",
       "      <th></th>\n",
       "      <th></th>\n",
       "      <th></th>\n",
       "      <th></th>\n",
       "      <th></th>\n",
       "      <th></th>\n",
       "      <th></th>\n",
       "      <th></th>\n",
       "      <th></th>\n",
       "      <th></th>\n",
       "      <th></th>\n",
       "      <th></th>\n",
       "      <th></th>\n",
       "      <th></th>\n",
       "      <th></th>\n",
       "      <th></th>\n",
       "      <th></th>\n",
       "      <th></th>\n",
       "      <th></th>\n",
       "      <th></th>\n",
       "    </tr>\n",
       "  </thead>\n",
       "  <tbody>\n",
       "    <tr>\n",
       "      <th>156</th>\n",
       "      <td>NaN</td>\n",
       "      <td>NaN</td>\n",
       "      <td>2.0</td>\n",
       "      <td>NaN</td>\n",
       "      <td>NaN</td>\n",
       "      <td>4.0</td>\n",
       "      <td>NaN</td>\n",
       "      <td>NaN</td>\n",
       "      <td>NaN</td>\n",
       "      <td>NaN</td>\n",
       "      <td>...</td>\n",
       "      <td>NaN</td>\n",
       "      <td>NaN</td>\n",
       "      <td>NaN</td>\n",
       "      <td>NaN</td>\n",
       "      <td>NaN</td>\n",
       "      <td>NaN</td>\n",
       "      <td>NaN</td>\n",
       "      <td>NaN</td>\n",
       "      <td>NaN</td>\n",
       "      <td>NaN</td>\n",
       "    </tr>\n",
       "    <tr>\n",
       "      <th>741</th>\n",
       "      <td>NaN</td>\n",
       "      <td>3.0</td>\n",
       "      <td>NaN</td>\n",
       "      <td>4.0</td>\n",
       "      <td>NaN</td>\n",
       "      <td>NaN</td>\n",
       "      <td>4.0</td>\n",
       "      <td>NaN</td>\n",
       "      <td>NaN</td>\n",
       "      <td>NaN</td>\n",
       "      <td>...</td>\n",
       "      <td>NaN</td>\n",
       "      <td>NaN</td>\n",
       "      <td>NaN</td>\n",
       "      <td>NaN</td>\n",
       "      <td>NaN</td>\n",
       "      <td>NaN</td>\n",
       "      <td>NaN</td>\n",
       "      <td>NaN</td>\n",
       "      <td>NaN</td>\n",
       "      <td>NaN</td>\n",
       "    </tr>\n",
       "    <tr>\n",
       "      <th>768</th>\n",
       "      <td>NaN</td>\n",
       "      <td>3.0</td>\n",
       "      <td>NaN</td>\n",
       "      <td>NaN</td>\n",
       "      <td>4.0</td>\n",
       "      <td>NaN</td>\n",
       "      <td>NaN</td>\n",
       "      <td>NaN</td>\n",
       "      <td>NaN</td>\n",
       "      <td>NaN</td>\n",
       "      <td>...</td>\n",
       "      <td>NaN</td>\n",
       "      <td>NaN</td>\n",
       "      <td>NaN</td>\n",
       "      <td>3.5</td>\n",
       "      <td>NaN</td>\n",
       "      <td>NaN</td>\n",
       "      <td>NaN</td>\n",
       "      <td>NaN</td>\n",
       "      <td>NaN</td>\n",
       "      <td>NaN</td>\n",
       "    </tr>\n",
       "    <tr>\n",
       "      <th>775</th>\n",
       "      <td>NaN</td>\n",
       "      <td>NaN</td>\n",
       "      <td>3.5</td>\n",
       "      <td>NaN</td>\n",
       "      <td>NaN</td>\n",
       "      <td>3.0</td>\n",
       "      <td>NaN</td>\n",
       "      <td>NaN</td>\n",
       "      <td>NaN</td>\n",
       "      <td>NaN</td>\n",
       "      <td>...</td>\n",
       "      <td>NaN</td>\n",
       "      <td>NaN</td>\n",
       "      <td>NaN</td>\n",
       "      <td>NaN</td>\n",
       "      <td>NaN</td>\n",
       "      <td>NaN</td>\n",
       "      <td>NaN</td>\n",
       "      <td>NaN</td>\n",
       "      <td>NaN</td>\n",
       "      <td>NaN</td>\n",
       "    </tr>\n",
       "    <tr>\n",
       "      <th>903</th>\n",
       "      <td>NaN</td>\n",
       "      <td>NaN</td>\n",
       "      <td>NaN</td>\n",
       "      <td>3.0</td>\n",
       "      <td>NaN</td>\n",
       "      <td>NaN</td>\n",
       "      <td>NaN</td>\n",
       "      <td>NaN</td>\n",
       "      <td>NaN</td>\n",
       "      <td>NaN</td>\n",
       "      <td>...</td>\n",
       "      <td>NaN</td>\n",
       "      <td>NaN</td>\n",
       "      <td>NaN</td>\n",
       "      <td>NaN</td>\n",
       "      <td>NaN</td>\n",
       "      <td>NaN</td>\n",
       "      <td>NaN</td>\n",
       "      <td>NaN</td>\n",
       "      <td>NaN</td>\n",
       "      <td>NaN</td>\n",
       "    </tr>\n",
       "  </tbody>\n",
       "</table>\n",
       "<p>5 rows × 1005 columns</p>\n",
       "</div>"
      ],
      "text/plain": [
       "movieId  1      2      3      5      6      7      10     11     14     16     \\\n",
       "userId                                                                          \n",
       "156        NaN    NaN    2.0    NaN    NaN    4.0    NaN    NaN    NaN    NaN   \n",
       "741        NaN    3.0    NaN    4.0    NaN    NaN    4.0    NaN    NaN    NaN   \n",
       "768        NaN    3.0    NaN    NaN    4.0    NaN    NaN    NaN    NaN    NaN   \n",
       "775        NaN    NaN    3.5    NaN    NaN    3.0    NaN    NaN    NaN    NaN   \n",
       "903        NaN    NaN    NaN    3.0    NaN    NaN    NaN    NaN    NaN    NaN   \n",
       "\n",
       "movieId  ...    70286  71535  72998  73017  74458  78499  79132  80463  81591  \\\n",
       "userId   ...                                                                    \n",
       "156      ...      NaN    NaN    NaN    NaN    NaN    NaN    NaN    NaN    NaN   \n",
       "741      ...      NaN    NaN    NaN    NaN    NaN    NaN    NaN    NaN    NaN   \n",
       "768      ...      NaN    NaN    NaN    3.5    NaN    NaN    NaN    NaN    NaN   \n",
       "775      ...      NaN    NaN    NaN    NaN    NaN    NaN    NaN    NaN    NaN   \n",
       "903      ...      NaN    NaN    NaN    NaN    NaN    NaN    NaN    NaN    NaN   \n",
       "\n",
       "movieId  81845  \n",
       "userId          \n",
       "156        NaN  \n",
       "741        NaN  \n",
       "768        NaN  \n",
       "775        NaN  \n",
       "903        NaN  \n",
       "\n",
       "[5 rows x 1005 columns]"
      ]
     },
     "execution_count": 247,
     "metadata": {},
     "output_type": "execute_result"
    }
   ],
   "source": [
    "ptest.head()"
   ]
  },
  {
   "cell_type": "code",
   "execution_count": 248,
   "metadata": {
    "collapsed": true
   },
   "outputs": [],
   "source": [
    "# fillna = 0\n",
    "# Copy to new dataframe representing matrices\n",
    "R = ptrain.fillna(0.0).copy().values\n",
    "T = ptest.fillna(0.0).copy().values"
   ]
  },
  {
   "cell_type": "code",
   "execution_count": 249,
   "metadata": {
    "collapsed": false
   },
   "outputs": [
    {
     "data": {
      "text/plain": [
       "array([[ 5. ,  5. ,  0. , ...,  0. ,  0. ,  0. ],\n",
       "       [ 5. ,  0. ,  3. , ...,  0. ,  0. ,  0. ],\n",
       "       [ 0. ,  0. ,  0. , ...,  0. ,  4. ,  0. ],\n",
       "       ..., \n",
       "       [ 0. ,  0. ,  4. , ...,  0. ,  0. ,  0. ],\n",
       "       [ 3. ,  2. ,  2. , ...,  4.5,  3.5,  0. ],\n",
       "       [ 5. ,  3. ,  0. , ...,  4.5,  4.5,  5. ]])"
      ]
     },
     "execution_count": 249,
     "metadata": {},
     "output_type": "execute_result"
    }
   ],
   "source": [
    "R"
   ]
  },
  {
   "cell_type": "code",
   "execution_count": 250,
   "metadata": {
    "collapsed": false
   },
   "outputs": [
    {
     "data": {
      "text/plain": [
       "array([[ 0.,  0.,  2., ...,  0.,  0.,  0.],\n",
       "       [ 0.,  3.,  0., ...,  0.,  0.,  0.],\n",
       "       [ 0.,  3.,  0., ...,  0.,  0.,  0.],\n",
       "       ..., \n",
       "       [ 5.,  3.,  0., ...,  0.,  0.,  0.],\n",
       "       [ 0.,  0.,  0., ...,  0.,  0.,  3.],\n",
       "       [ 0.,  0.,  0., ...,  0.,  0.,  0.]])"
      ]
     },
     "execution_count": 250,
     "metadata": {},
     "output_type": "execute_result"
    }
   ],
   "source": [
    "T"
   ]
  },
  {
   "cell_type": "code",
   "execution_count": 251,
   "metadata": {
    "collapsed": true
   },
   "outputs": [],
   "source": [
    "# Index matrix for training data\n",
    "I = R.copy()\n",
    "I[I > 0] = 1\n",
    "I[I == 0] = 0\n",
    "\n",
    "# Index matrix for test data\n",
    "I2 = T.copy()\n",
    "I2[I2 > 0] = 1\n",
    "I2[I2 == 0] = 0"
   ]
  },
  {
   "cell_type": "code",
   "execution_count": 79,
   "metadata": {
    "collapsed": true
   },
   "outputs": [],
   "source": [
    "# Predict the unknown ratings through the dot product of the latent features for users and items \n",
    "def prediction(P,Q):\n",
    "    return np.dot(P.T,Q)"
   ]
  },
  {
   "cell_type": "code",
   "execution_count": 80,
   "metadata": {
    "collapsed": true
   },
   "outputs": [],
   "source": [
    "lmbda = 0.1 # Regularization weight\n",
    "k = 20  # Dimensionality of the latent feature space\n",
    "m, n = R.shape  # Number of users and items\n",
    "n_epochs = 100  # Number of epochs\n",
    "gamma=0.01  # Learning rate\n",
    "\n",
    "P = 3 * np.random.rand(k,m) # Latent user feature matrix\n",
    "Q = 3 * np.random.rand(k,n) # Latent movie feature matrix"
   ]
  },
  {
   "cell_type": "code",
   "execution_count": 81,
   "metadata": {
    "collapsed": true
   },
   "outputs": [],
   "source": [
    "# Calculate the RMSE\n",
    "def rmse(I,R,Q,P):\n",
    "    return np.sqrt(np.sum((I * (R - prediction(P,Q)))**2)/len(R[R > 0]))"
   ]
  },
  {
   "cell_type": "code",
   "execution_count": 82,
   "metadata": {
    "collapsed": false
   },
   "outputs": [
    {
     "data": {
      "text/plain": [
       "(array([  0,   0,   0, ..., 580, 580, 580]),\n",
       " array([   0,    2,    3, ..., 1000, 1003, 1004]))"
      ]
     },
     "execution_count": 82,
     "metadata": {},
     "output_type": "execute_result"
    }
   ],
   "source": [
    "R.nonzero()"
   ]
  },
  {
   "cell_type": "code",
   "execution_count": 83,
   "metadata": {
    "collapsed": false
   },
   "outputs": [
    {
     "data": {
      "text/plain": [
       "(581, 1005)"
      ]
     },
     "execution_count": 83,
     "metadata": {},
     "output_type": "execute_result"
    }
   ],
   "source": [
    "R.shape"
   ]
  },
  {
   "cell_type": "code",
   "execution_count": 86,
   "metadata": {
    "collapsed": false
   },
   "outputs": [
    {
     "data": {
      "text/plain": [
       "((20, 1005), (20, 581))"
      ]
     },
     "execution_count": 86,
     "metadata": {},
     "output_type": "execute_result"
    }
   ],
   "source": [
    "Q.shape, P.shape"
   ]
  },
  {
   "cell_type": "code",
   "execution_count": 84,
   "metadata": {
    "collapsed": true
   },
   "outputs": [],
   "source": [
    "train_errors = []\n",
    "test_errors = []\n",
    "\n",
    "#Only consider non-zero matrix \n",
    "users,items = R.nonzero()      \n",
    "for epoch in xrange(n_epochs):\n",
    "    for u, i in zip(users,items):\n",
    "        e = R[u, i] - prediction(P[:,u],Q[:,i])  # Calculate error for gradient\n",
    "        P[:,u] += gamma * ( e * Q[:,i] - lmbda * P[:,u]) # Update latent user feature matrix\n",
    "        Q[:,i] += gamma * ( e * P[:,u] - lmbda * Q[:,i])  # Update latent movie feature matrix\n",
    "    train_rmse = rmse(I,R,Q,P) # Calculate root mean squared error from train dataset\n",
    "    test_rmse = rmse(I2,T,Q,P) # Calculate root mean squared error from test dataset\n",
    "    train_errors.append(train_rmse)\n",
    "    test_errors.append(test_rmse)"
   ]
  },
  {
   "cell_type": "code",
   "execution_count": 85,
   "metadata": {
    "collapsed": false
   },
   "outputs": [
    {
     "data": {
      "image/png": "[encoded data removed]",
      "text/plain": [
       "<matplotlib.figure.Figure at 0x10b2630d0>"
      ]
     },
     "metadata": {},
     "output_type": "display_data"
    }
   ],
   "source": [
    "plt.plot(range(n_epochs), train_errors, marker='o', label='Training Data');\n",
    "plt.plot(range(n_epochs), test_errors, marker='v', label='Test Data');\n",
    "plt.title('SGD-WR Learning Curve')\n",
    "plt.xlabel('Number of Epochs');\n",
    "plt.ylabel('RMSE');\n",
    "plt.legend()\n",
    "plt.grid()\n",
    "plt.show() "
   ]
  },
  {
   "cell_type": "code",
   "execution_count": 87,
   "metadata": {
    "collapsed": true
   },
   "outputs": [],
   "source": [
    "# Calculate prediction matrix R_hat (low-rank approximation for R)\n",
    "R = pd.DataFrame(R)\n",
    "R_hat=pd.DataFrame(prediction(P,Q))"
   ]
  },
  {
   "cell_type": "code",
   "execution_count": 89,
   "metadata": {
    "collapsed": false
   },
   "outputs": [
    {
     "data": {
      "text/html": [
       "<div>\n",
       "<table border=\"1\" class=\"dataframe\">\n",
       "  <thead>\n",
       "    <tr style=\"text-align: right;\">\n",
       "      <th></th>\n",
       "      <th>Actual Rating</th>\n",
       "      <th>Predicted Rating</th>\n",
       "    </tr>\n",
       "  </thead>\n",
       "  <tbody>\n",
       "    <tr>\n",
       "      <th>0</th>\n",
       "      <td>4.0</td>\n",
       "      <td>3.740324</td>\n",
       "    </tr>\n",
       "    <tr>\n",
       "      <th>4</th>\n",
       "      <td>4.0</td>\n",
       "      <td>3.504268</td>\n",
       "    </tr>\n",
       "    <tr>\n",
       "      <th>5</th>\n",
       "      <td>2.0</td>\n",
       "      <td>2.326177</td>\n",
       "    </tr>\n",
       "    <tr>\n",
       "      <th>6</th>\n",
       "      <td>4.0</td>\n",
       "      <td>2.866836</td>\n",
       "    </tr>\n",
       "    <tr>\n",
       "      <th>7</th>\n",
       "      <td>3.5</td>\n",
       "      <td>2.836804</td>\n",
       "    </tr>\n",
       "  </tbody>\n",
       "</table>\n",
       "</div>"
      ],
      "text/plain": [
       "   Actual Rating  Predicted Rating\n",
       "0            4.0          3.740324\n",
       "4            4.0          3.504268\n",
       "5            2.0          2.326177\n",
       "6            4.0          2.866836\n",
       "7            3.5          2.836804"
      ]
     },
     "execution_count": 89,
     "metadata": {},
     "output_type": "execute_result"
    }
   ],
   "source": [
    "# Compare true ratings of user 17 with predictions\n",
    "ratings = pd.DataFrame(data=R.loc[16,R.loc[16,:] > 0]).head(n=5)\n",
    "ratings['Prediction'] = R_hat.loc[16,R.loc[16,:] > 0]\n",
    "ratings.columns = ['Actual Rating', 'Predicted Rating']\n",
    "ratings"
   ]
  },
  {
   "cell_type": "code",
   "execution_count": 90,
   "metadata": {
    "collapsed": false
   },
   "outputs": [
    {
     "data": {
      "text/plain": [
       "((20, 581), (20, 1005))"
      ]
     },
     "execution_count": 90,
     "metadata": {},
     "output_type": "execute_result"
    }
   ],
   "source": [
    "P.shape, Q.shape"
   ]
  },
  {
   "cell_type": "code",
   "execution_count": 94,
   "metadata": {
    "collapsed": false
   },
   "outputs": [
    {
     "data": {
      "text/plain": [
       "0    4.0\n",
       "1    0.0\n",
       "2    0.0\n",
       "3    0.0\n",
       "4    4.0\n",
       "Name: 16, dtype: float64"
      ]
     },
     "execution_count": 94,
     "metadata": {},
     "output_type": "execute_result"
    }
   ],
   "source": [
    "R.loc[16,:].head()"
   ]
  },
  {
   "cell_type": "code",
   "execution_count": 95,
   "metadata": {
    "collapsed": false
   },
   "outputs": [
    {
     "data": {
      "text/plain": [
       "0    3.740324\n",
       "1    2.532082\n",
       "2    2.490984\n",
       "3    2.122813\n",
       "4    3.504268\n",
       "Name: 16, dtype: float64"
      ]
     },
     "execution_count": 95,
     "metadata": {},
     "output_type": "execute_result"
    }
   ],
   "source": [
    "R_hat.loc[16,:].head()"
   ]
  },
  {
   "cell_type": "code",
   "execution_count": 102,
   "metadata": {
    "collapsed": false
   },
   "outputs": [],
   "source": [
    "# Calculate prediction matrix T_hat (low-rank approximation for T)\n",
    "T = pd.DataFrame(T)\n",
    "T_hat=pd.DataFrame(prediction(P,Q))"
   ]
  },
  {
   "cell_type": "code",
   "execution_count": 103,
   "metadata": {
    "collapsed": false
   },
   "outputs": [
    {
     "data": {
      "text/plain": [
       "0    0.0\n",
       "1    2.5\n",
       "2    0.0\n",
       "3    0.0\n",
       "4    0.0\n",
       "Name: 16, dtype: float64"
      ]
     },
     "execution_count": 103,
     "metadata": {},
     "output_type": "execute_result"
    }
   ],
   "source": [
    "T.loc[16,:].head()"
   ]
  },
  {
   "cell_type": "code",
   "execution_count": 104,
   "metadata": {
    "collapsed": false
   },
   "outputs": [
    {
     "data": {
      "text/plain": [
       "0    3.740324\n",
       "1    2.532082\n",
       "2    2.490984\n",
       "3    2.122813\n",
       "4    3.504268\n",
       "Name: 16, dtype: float64"
      ]
     },
     "execution_count": 104,
     "metadata": {},
     "output_type": "execute_result"
    }
   ],
   "source": [
    "T_hat.loc[16,:].head()"
   ]
  },
  {
   "cell_type": "code",
   "execution_count": 118,
   "metadata": {
    "collapsed": false
   },
   "outputs": [
    {
     "data": {
      "text/plain": [
       "3907"
      ]
     },
     "execution_count": 118,
     "metadata": {},
     "output_type": "execute_result"
    }
   ],
   "source": [
    "train_user_index.loc[16,:].values[0]"
   ]
  },
  {
   "cell_type": "code",
   "execution_count": 121,
   "metadata": {
    "collapsed": false
   },
   "outputs": [
    {
     "data": {
      "text/plain": [
       "userId                544\n",
       "movieId               544\n",
       "rating                544\n",
       "timestamp             544\n",
       "count_rating_user     544\n",
       "count_rating_movie    544\n",
       "dtype: int64"
      ]
     },
     "execution_count": 121,
     "metadata": {},
     "output_type": "execute_result"
    }
   ],
   "source": [
    "train_data[train_data.userId==train_user_index.loc[16,:].values[0]].count()"
   ]
  },
  {
   "cell_type": "code",
   "execution_count": 125,
   "metadata": {
    "collapsed": true
   },
   "outputs": [],
   "source": [
    "# Rank rating prediction for user 17\n",
    "predicted_ratings = pd.DataFrame(data=R_hat.loc[16,R.loc[16,:] == 0])"
   ]
  },
  {
   "cell_type": "code",
   "execution_count": 126,
   "metadata": {
    "collapsed": false
   },
   "outputs": [
    {
     "data": {
      "text/plain": [
       "(461, 1)"
      ]
     },
     "execution_count": 126,
     "metadata": {},
     "output_type": "execute_result"
    }
   ],
   "source": [
    "predicted_ratings.shape"
   ]
  },
  {
   "cell_type": "code",
   "execution_count": 134,
   "metadata": {
    "collapsed": false
   },
   "outputs": [],
   "source": [
    "top_10_reco = predicted_ratings.sort_values(by=16,ascending=False).head(10)"
   ]
  },
  {
   "cell_type": "code",
   "execution_count": 135,
   "metadata": {
    "collapsed": false
   },
   "outputs": [
    {
     "data": {
      "text/html": [
       "<div>\n",
       "<table border=\"1\" class=\"dataframe\">\n",
       "  <thead>\n",
       "    <tr style=\"text-align: right;\">\n",
       "      <th></th>\n",
       "      <th>16</th>\n",
       "    </tr>\n",
       "  </thead>\n",
       "  <tbody>\n",
       "    <tr>\n",
       "      <th>242</th>\n",
       "      <td>4.074752</td>\n",
       "    </tr>\n",
       "    <tr>\n",
       "      <th>838</th>\n",
       "      <td>4.025135</td>\n",
       "    </tr>\n",
       "    <tr>\n",
       "      <th>317</th>\n",
       "      <td>4.012635</td>\n",
       "    </tr>\n",
       "    <tr>\n",
       "      <th>86</th>\n",
       "      <td>3.984353</td>\n",
       "    </tr>\n",
       "    <tr>\n",
       "      <th>189</th>\n",
       "      <td>3.963011</td>\n",
       "    </tr>\n",
       "    <tr>\n",
       "      <th>253</th>\n",
       "      <td>3.931674</td>\n",
       "    </tr>\n",
       "    <tr>\n",
       "      <th>799</th>\n",
       "      <td>3.931442</td>\n",
       "    </tr>\n",
       "    <tr>\n",
       "      <th>327</th>\n",
       "      <td>3.905271</td>\n",
       "    </tr>\n",
       "    <tr>\n",
       "      <th>349</th>\n",
       "      <td>3.899046</td>\n",
       "    </tr>\n",
       "    <tr>\n",
       "      <th>254</th>\n",
       "      <td>3.892770</td>\n",
       "    </tr>\n",
       "  </tbody>\n",
       "</table>\n",
       "</div>"
      ],
      "text/plain": [
       "           16\n",
       "242  4.074752\n",
       "838  4.025135\n",
       "317  4.012635\n",
       "86   3.984353\n",
       "189  3.963011\n",
       "253  3.931674\n",
       "799  3.931442\n",
       "327  3.905271\n",
       "349  3.899046\n",
       "254  3.892770"
      ]
     },
     "execution_count": 135,
     "metadata": {},
     "output_type": "execute_result"
    }
   ],
   "source": [
    "top_10_reco"
   ]
  },
  {
   "cell_type": "code",
   "execution_count": 137,
   "metadata": {
    "collapsed": false
   },
   "outputs": [
    {
     "data": {
      "text/plain": [
       "[242, 838, 317, 86, 189, 253, 799, 327, 349, 254]"
      ]
     },
     "execution_count": 137,
     "metadata": {},
     "output_type": "execute_result"
    }
   ],
   "source": [
    "top_10_reco.index.tolist()"
   ]
  },
  {
   "cell_type": "code",
   "execution_count": 139,
   "metadata": {
    "collapsed": false
   },
   "outputs": [
    {
     "data": {
      "text/html": [
       "<div>\n",
       "<table border=\"1\" class=\"dataframe\">\n",
       "  <thead>\n",
       "    <tr style=\"text-align: right;\">\n",
       "      <th></th>\n",
       "      <th>movieId</th>\n",
       "      <th>title</th>\n",
       "      <th>genres</th>\n",
       "      <th>title_format</th>\n",
       "      <th>title_name</th>\n",
       "      <th>year</th>\n",
       "      <th>released_year</th>\n",
       "    </tr>\n",
       "  </thead>\n",
       "  <tbody>\n",
       "    <tr>\n",
       "      <th>85</th>\n",
       "      <td>86</td>\n",
       "      <td>White Squall (1996)</td>\n",
       "      <td>Action|Adventure|Drama</td>\n",
       "      <td>&lt;_sre.SRE_Match object at 0x107390d98&gt;</td>\n",
       "      <td>White Squall</td>\n",
       "      <td>(1996)</td>\n",
       "      <td>1996</td>\n",
       "    </tr>\n",
       "    <tr>\n",
       "      <th>187</th>\n",
       "      <td>189</td>\n",
       "      <td>Reckless (1995)</td>\n",
       "      <td>Comedy|Fantasy</td>\n",
       "      <td>&lt;_sre.SRE_Match object at 0x1073938b8&gt;</td>\n",
       "      <td>Reckless</td>\n",
       "      <td>(1995)</td>\n",
       "      <td>1995</td>\n",
       "    </tr>\n",
       "    <tr>\n",
       "      <th>239</th>\n",
       "      <td>242</td>\n",
       "      <td>Farinelli: il castrato (1994)</td>\n",
       "      <td>Drama|Musical</td>\n",
       "      <td>&lt;_sre.SRE_Match object at 0x107394e68&gt;</td>\n",
       "      <td>Farinelli: il castrato</td>\n",
       "      <td>(1994)</td>\n",
       "      <td>1994</td>\n",
       "    </tr>\n",
       "    <tr>\n",
       "      <th>250</th>\n",
       "      <td>253</td>\n",
       "      <td>Interview with the Vampire: The Vampire Chroni...</td>\n",
       "      <td>Drama|Horror</td>\n",
       "      <td>&lt;_sre.SRE_Match object at 0x107395370&gt;</td>\n",
       "      <td>Interview with the Vampire: The Vampire Chroni...</td>\n",
       "      <td>(1994)</td>\n",
       "      <td>1994</td>\n",
       "    </tr>\n",
       "    <tr>\n",
       "      <th>251</th>\n",
       "      <td>254</td>\n",
       "      <td>Jefferson in Paris (1995)</td>\n",
       "      <td>Drama</td>\n",
       "      <td>&lt;_sre.SRE_Match object at 0x1073953d8&gt;</td>\n",
       "      <td>Jefferson in Paris</td>\n",
       "      <td>(1995)</td>\n",
       "      <td>1995</td>\n",
       "    </tr>\n",
       "    <tr>\n",
       "      <th>314</th>\n",
       "      <td>317</td>\n",
       "      <td>Santa Clause, The (1994)</td>\n",
       "      <td>Comedy|Drama|Fantasy</td>\n",
       "      <td>&lt;_sre.SRE_Match object at 0x107396e00&gt;</td>\n",
       "      <td>Santa Clause, The</td>\n",
       "      <td>(1994)</td>\n",
       "      <td>1994</td>\n",
       "    </tr>\n",
       "    <tr>\n",
       "      <th>323</th>\n",
       "      <td>327</td>\n",
       "      <td>Tank Girl (1995)</td>\n",
       "      <td>Action|Comedy|Sci-Fi</td>\n",
       "      <td>&lt;_sre.SRE_Match object at 0x107397238&gt;</td>\n",
       "      <td>Tank Girl</td>\n",
       "      <td>(1995)</td>\n",
       "      <td>1995</td>\n",
       "    </tr>\n",
       "    <tr>\n",
       "      <th>345</th>\n",
       "      <td>349</td>\n",
       "      <td>Clear and Present Danger (1994)</td>\n",
       "      <td>Action|Crime|Drama|Thriller</td>\n",
       "      <td>&lt;_sre.SRE_Match object at 0x107397b28&gt;</td>\n",
       "      <td>Clear and Present Danger</td>\n",
       "      <td>(1994)</td>\n",
       "      <td>1994</td>\n",
       "    </tr>\n",
       "    <tr>\n",
       "      <th>786</th>\n",
       "      <td>799</td>\n",
       "      <td>Frighteners, The (1996)</td>\n",
       "      <td>Comedy|Horror|Thriller</td>\n",
       "      <td>&lt;_sre.SRE_Match object at 0x1073a3510&gt;</td>\n",
       "      <td>Frighteners, The</td>\n",
       "      <td>(1996)</td>\n",
       "      <td>1996</td>\n",
       "    </tr>\n",
       "    <tr>\n",
       "      <th>823</th>\n",
       "      <td>838</td>\n",
       "      <td>Emma (1996)</td>\n",
       "      <td>Comedy|Drama|Romance</td>\n",
       "      <td>&lt;_sre.SRE_Match object at 0x1073a44a8&gt;</td>\n",
       "      <td>Emma</td>\n",
       "      <td>(1996)</td>\n",
       "      <td>1996</td>\n",
       "    </tr>\n",
       "  </tbody>\n",
       "</table>\n",
       "</div>"
      ],
      "text/plain": [
       "     movieId                                              title  \\\n",
       "85        86                                White Squall (1996)   \n",
       "187      189                                    Reckless (1995)   \n",
       "239      242                      Farinelli: il castrato (1994)   \n",
       "250      253  Interview with the Vampire: The Vampire Chroni...   \n",
       "251      254                          Jefferson in Paris (1995)   \n",
       "314      317                           Santa Clause, The (1994)   \n",
       "323      327                                   Tank Girl (1995)   \n",
       "345      349                    Clear and Present Danger (1994)   \n",
       "786      799                            Frighteners, The (1996)   \n",
       "823      838                                        Emma (1996)   \n",
       "\n",
       "                          genres                            title_format  \\\n",
       "85        Action|Adventure|Drama  <_sre.SRE_Match object at 0x107390d98>   \n",
       "187               Comedy|Fantasy  <_sre.SRE_Match object at 0x1073938b8>   \n",
       "239                Drama|Musical  <_sre.SRE_Match object at 0x107394e68>   \n",
       "250                 Drama|Horror  <_sre.SRE_Match object at 0x107395370>   \n",
       "251                        Drama  <_sre.SRE_Match object at 0x1073953d8>   \n",
       "314         Comedy|Drama|Fantasy  <_sre.SRE_Match object at 0x107396e00>   \n",
       "323         Action|Comedy|Sci-Fi  <_sre.SRE_Match object at 0x107397238>   \n",
       "345  Action|Crime|Drama|Thriller  <_sre.SRE_Match object at 0x107397b28>   \n",
       "786       Comedy|Horror|Thriller  <_sre.SRE_Match object at 0x1073a3510>   \n",
       "823         Comedy|Drama|Romance  <_sre.SRE_Match object at 0x1073a44a8>   \n",
       "\n",
       "                                            title_name    year released_year  \n",
       "85                                       White Squall   (1996)          1996  \n",
       "187                                          Reckless   (1995)          1995  \n",
       "239                            Farinelli: il castrato   (1994)          1994  \n",
       "250  Interview with the Vampire: The Vampire Chroni...  (1994)          1994  \n",
       "251                                Jefferson in Paris   (1995)          1995  \n",
       "314                                 Santa Clause, The   (1994)          1994  \n",
       "323                                         Tank Girl   (1995)          1995  \n",
       "345                          Clear and Present Danger   (1994)          1994  \n",
       "786                                  Frighteners, The   (1996)          1996  \n",
       "823                                              Emma   (1996)          1996  "
      ]
     },
     "execution_count": 139,
     "metadata": {},
     "output_type": "execute_result"
    }
   ],
   "source": [
    "movies[movies.movieId.isin(top_10_reco.index.tolist())]"
   ]
  },
  {
   "cell_type": "code",
   "execution_count": 163,
   "metadata": {
    "collapsed": false
   },
   "outputs": [
    {
     "data": {
      "text/html": [
       "<div>\n",
       "<table border=\"1\" class=\"dataframe\">\n",
       "  <thead>\n",
       "    <tr style=\"text-align: right;\">\n",
       "      <th></th>\n",
       "      <th>movieId</th>\n",
       "      <th>average_rating_movie</th>\n",
       "    </tr>\n",
       "  </thead>\n",
       "  <tbody>\n",
       "    <tr>\n",
       "      <th>85</th>\n",
       "      <td>86</td>\n",
       "      <td>3.483403</td>\n",
       "    </tr>\n",
       "    <tr>\n",
       "      <th>187</th>\n",
       "      <td>189</td>\n",
       "      <td>3.001488</td>\n",
       "    </tr>\n",
       "    <tr>\n",
       "      <th>239</th>\n",
       "      <td>242</td>\n",
       "      <td>3.386617</td>\n",
       "    </tr>\n",
       "    <tr>\n",
       "      <th>250</th>\n",
       "      <td>253</td>\n",
       "      <td>3.496645</td>\n",
       "    </tr>\n",
       "    <tr>\n",
       "      <th>251</th>\n",
       "      <td>254</td>\n",
       "      <td>2.893482</td>\n",
       "    </tr>\n",
       "    <tr>\n",
       "      <th>314</th>\n",
       "      <td>317</td>\n",
       "      <td>3.146079</td>\n",
       "    </tr>\n",
       "    <tr>\n",
       "      <th>323</th>\n",
       "      <td>327</td>\n",
       "      <td>2.806328</td>\n",
       "    </tr>\n",
       "    <tr>\n",
       "      <th>345</th>\n",
       "      <td>349</td>\n",
       "      <td>3.660309</td>\n",
       "    </tr>\n",
       "    <tr>\n",
       "      <th>786</th>\n",
       "      <td>799</td>\n",
       "      <td>3.372460</td>\n",
       "    </tr>\n",
       "    <tr>\n",
       "      <th>823</th>\n",
       "      <td>838</td>\n",
       "      <td>3.796107</td>\n",
       "    </tr>\n",
       "  </tbody>\n",
       "</table>\n",
       "</div>"
      ],
      "text/plain": [
       "     movieId  average_rating_movie\n",
       "85        86              3.483403\n",
       "187      189              3.001488\n",
       "239      242              3.386617\n",
       "250      253              3.496645\n",
       "251      254              2.893482\n",
       "314      317              3.146079\n",
       "323      327              2.806328\n",
       "345      349              3.660309\n",
       "786      799              3.372460\n",
       "823      838              3.796107"
      ]
     },
     "execution_count": 163,
     "metadata": {},
     "output_type": "execute_result"
    }
   ],
   "source": [
    "average_rating_by_movie[average_rating_by_movie.movieId.isin(top_10_reco.index.tolist())]"
   ]
  },
  {
   "cell_type": "code",
   "execution_count": null,
   "metadata": {
    "collapsed": true
   },
   "outputs": [],
   "source": []
  }
 ],
 "metadata": {
  "kernelspec": {
   "display_name": "Python 2",
   "language": "python",
   "name": "python2"
  },
  "language_info": {
   "codemirror_mode": {
    "name": "ipython",
    "version": 2
   },
   "file_extension": ".py",
   "mimetype": "text/x-python",
   "name": "python",
   "nbconvert_exporter": "python",
   "pygments_lexer": "ipython2",
   "version": "2.7.10"
  }
 },
 "nbformat": 4,
 "nbformat_minor": 0
}
